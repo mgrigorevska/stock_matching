{
 "cells": [
  {
   "cell_type": "code",
   "execution_count": 1,
   "id": "0ced9299-e00a-4fb4-8155-864eceac3882",
   "metadata": {},
   "outputs": [],
   "source": [
    "import pandas as pd\n",
    "import numpy as np\n",
    "import matplotlib.pyplot as plt\n",
    "import warnings\n",
    "import gc\n",
    "import json\n",
    "\n",
    "from tqdm.notebook import tqdm\n",
    "from sklearn.model_selection import train_test_split\n",
    "from sklearn.metrics import accuracy_score, precision_score, f1_score, confusion_matrix, recall_score, accuracy_score, roc_auc_score, roc_curve\n",
    "#from sklearn.utils.class_weight import compute_class_weight\n",
    "from sklearn.model_selection import GridSearchCV\n",
    "from sklearn.dummy import DummyClassifier\n",
    "from catboost import CatBoostClassifier\n",
    "\n",
    "warnings.simplefilter(\"ignore\", UserWarning)\n",
    "\n",
    "\n",
    "PATH = '***'"
   ]
  },
  {
   "cell_type": "markdown",
   "id": "1835548a",
   "metadata": {},
   "source": [
    "# Load data #1"
   ]
  },
  {
   "cell_type": "markdown",
   "id": "f9f38b03",
   "metadata": {},
   "source": [
    "## Train"
   ]
  },
  {
   "cell_type": "code",
   "execution_count": 2,
   "id": "eebe8726-358f-47cd-977d-4cdd10e02465",
   "metadata": {},
   "outputs": [],
   "source": [
    "n_neigbours = 30"
   ]
  },
  {
   "cell_type": "code",
   "execution_count": 3,
   "id": "d165fa4c",
   "metadata": {},
   "outputs": [],
   "source": [
    "features_train = pd.read_csv(PATH + 'all_features_train.csv', index_col=0)\n",
    "target_train = pd.read_csv(PATH + 'target_train.csv', index_col=0)\n",
    "idx_d_train = pd.read_csv(PATH + 'faiss_idx_and_distances_train.csv', index_col=0)"
   ]
  },
  {
   "cell_type": "code",
   "execution_count": 4,
   "id": "5d0d0b96",
   "metadata": {},
   "outputs": [],
   "source": [
    "features_train['distance'] = idx_d_train['1']\n",
    "features_train['index'] = idx_d_train['0']\n",
    "features_train['target'] = target_train"
   ]
  },
  {
   "cell_type": "markdown",
   "id": "32a2fb22",
   "metadata": {},
   "source": [
    "# CatBoost ranking"
   ]
  },
  {
   "cell_type": "code",
   "execution_count": 5,
   "id": "d351d686-3e1e-4564-82e0-81c33b4811d4",
   "metadata": {},
   "outputs": [],
   "source": [
    "def metrics(y_true, y_pred, features):\n",
    "    cm = (confusion_matrix(y_true, y_pred))\n",
    "    print('Accuracy: ', round(accuracy_score(y_true, y_pred), 3))\n",
    "    print('Precision: ', round(precision_score(y_true, y_pred), 3))\n",
    "    print('Recall: ', round(recall_score(y_true, y_pred), 3))\n",
    "    print('F1-score: ', round(f1_score(y_true, y_pred), 3))\n",
    "    print('ROC-AUC: ', round(roc_auc_score(y_true, model.predict_proba(features)[:, 1]), 3))\n",
    "\n",
    "    fpr, tpr, thresholds = roc_curve(y_true, model.predict_proba(features)[:, 1])\n",
    "    plt.figure(figsize=(3, 3))\n",
    "    plt.plot([0, 1], [0, 1], linestyle='--')\n",
    "    plt.plot(fpr, tpr)\n",
    "    plt.xlim([0, 1])\n",
    "    plt.ylim([0, 1])\n",
    "    plt.xlabel('False Positive Rate')\n",
    "    plt.ylabel('True Positive Rate')\n",
    "    plt.title('ROC curve')\n",
    "    \n",
    "    fig, ax = plt.subplots(figsize=(3, 3))\n",
    "    ax.matshow(cm, cmap=plt.cm.gnuplot, alpha=0.3)\n",
    "    for i in range(cm.shape[0]):\n",
    "        for j in range(cm.shape[1]):\n",
    "            ax.text(x=j, y=i,s=cm[i, j], va='center', ha='center', size='large')\n",
    " \n",
    "    plt.xlabel('Predictions', fontsize=10)\n",
    "    plt.ylabel('Actuals', fontsize=10)\n",
    "    plt.title('Confusion Matrix', fontsize=10)"
   ]
  },
  {
   "cell_type": "markdown",
   "id": "75ad08d4",
   "metadata": {},
   "source": [
    "## GridSearch"
   ]
  },
  {
   "cell_type": "markdown",
   "id": "67399399-509c-4a54-9731-1f87b8b32bfb",
   "metadata": {},
   "source": [
    "Searching for best params on stratified sample (20% of train data):"
   ]
  },
  {
   "cell_type": "code",
   "execution_count": 6,
   "id": "d9e3e0e0-ee3c-4a19-b304-4291362503c0",
   "metadata": {},
   "outputs": [],
   "source": [
    "N = len(features_train)*0.2\n",
    "sample = features_train.groupby('target', group_keys=False).apply(lambda x: x.sample(int(np.rint(N*len(x)/len(features_train))))).sample(frac=1).reset_index(drop=True)"
   ]
  },
  {
   "cell_type": "code",
   "execution_count": 7,
   "id": "d60b7f4b-d883-4f48-884d-001540be3411",
   "metadata": {},
   "outputs": [],
   "source": [
    "y_sample = np.array(sample['target'])\n",
    "X_sample = np.array(sample.drop(['target'], axis = 1))\n"
   ]
  },
  {
   "cell_type": "code",
   "execution_count": 8,
   "id": "504340bc-ca26-4fff-a307-baf014a93cf0",
   "metadata": {},
   "outputs": [
    {
     "name": "stdout",
     "output_type": "stream",
     "text": [
      "(480000, 146)\n",
      "(120000, 146)\n"
     ]
    }
   ],
   "source": [
    "X_sample_train, X_sample_test, y_sample_train, y_sample_test = train_test_split(X_sample, y_sample, \n",
    "                                                    test_size=0.2,                         \n",
    "                                                    random_state=42,\n",
    "                                                   stratify=y_sample)\n",
    "print(X_sample_train.shape)\n",
    "print(X_sample_test.shape)"
   ]
  },
  {
   "cell_type": "code",
   "execution_count": 9,
   "id": "b7069c7a-31c1-402b-9820-2f0231512bff",
   "metadata": {},
   "outputs": [
    {
     "name": "stdout",
     "output_type": "stream",
     "text": [
      "Learning rate set to 0.099163\n",
      "0:\tlearn: 0.5253312\ttotal: 452ms\tremaining: 11m 17s\n",
      "500:\tlearn: 0.0346990\ttotal: 3m 10s\tremaining: 6m 19s\n",
      "1000:\tlearn: 0.0313512\ttotal: 6m 4s\tremaining: 3m 1s\n",
      "1499:\tlearn: 0.0308764\ttotal: 8m 33s\tremaining: 0us\n"
     ]
    },
    {
     "data": {
      "text/plain": [
       "<catboost.core.CatBoostClassifier at 0x7f142cfef640>"
      ]
     },
     "execution_count": 9,
     "metadata": {},
     "output_type": "execute_result"
    }
   ],
   "source": [
    "model = CatBoostClassifier(verbose=500, depth=6, \n",
    "                           iterations=1500, \n",
    "                           random_seed=42, \n",
    "                           loss_function='Logloss',\n",
    "                           boosting_type='Ordered')\n",
    "model.fit(X_sample_train, y_sample_train)"
   ]
  },
  {
   "cell_type": "code",
   "execution_count": 10,
   "id": "473ef9da-0da3-430a-89f9-244a4af49c3a",
   "metadata": {},
   "outputs": [
    {
     "name": "stdout",
     "output_type": "stream",
     "text": [
      "Accuracy:  0.988\n",
      "Precision:  0.878\n",
      "Recall:  0.582\n",
      "F1-score:  0.7\n",
      "ROC-AUC:  0.98\n"
     ]
    },
    {
     "data": {
      "image/png": "[encoded data removed]",
      "text/plain": [
       "<Figure size 300x300 with 1 Axes>"
      ]
     },
     "metadata": {},
     "output_type": "display_data"
    },
    {
     "data": {
      "image/png": "[encoded data removed]",
      "text/plain": [
       "<Figure size 300x300 with 1 Axes>"
      ]
     },
     "metadata": {},
     "output_type": "display_data"
    }
   ],
   "source": [
    "pred = model.predict(X_sample_test)\n",
    "metrics(y_sample_test, pred, X_sample_test)"
   ]
  },
  {
   "cell_type": "code",
   "execution_count": null,
   "id": "412145c6-109f-4287-8a7f-bb5de0cc0583",
   "metadata": {},
   "outputs": [],
   "source": []
  },
  {
   "cell_type": "code",
   "execution_count": null,
   "id": "561294fb-9f8c-48fa-a7a9-e61c8127872e",
   "metadata": {},
   "outputs": [],
   "source": []
  },
  {
   "cell_type": "code",
   "execution_count": null,
   "id": "1c25b8c7-deeb-4aa4-884e-b1e3f2fdc10c",
   "metadata": {},
   "outputs": [],
   "source": []
  },
  {
   "cell_type": "code",
   "execution_count": 11,
   "id": "96ebae3d-1c95-4015-a339-ec44625bfb9e",
   "metadata": {},
   "outputs": [],
   "source": [
    "#model = CatBoostClassifier(verbose=False, iterations=1000, \n",
    "#                           random_seed=42, \n",
    "#                           loss_function='Logloss',\n",
    "#                           boosting_type='Ordered')\n",
    "#\n",
    "#params = {'depth': range (3, 10)}"
   ]
  },
  {
   "cell_type": "code",
   "execution_count": 12,
   "id": "ed1957b4-0df4-4156-8cff-e8619843c316",
   "metadata": {},
   "outputs": [],
   "source": [
    "#grid = GridSearchCV(model, params, scoring='f1') \n",
    "#grid.fit(train_sample.drop(['target'], axis = 1), train_sample['target'])\n",
    "#f1 = grid.best_score_\n",
    "#print('F1 on stratified sample:', round(f1, 3))\n",
    "#print(grid.best_params_)"
   ]
  },
  {
   "cell_type": "markdown",
   "id": "ded739b2-a981-4b08-aca3-560a00c74f63",
   "metadata": {},
   "source": [
    "## Train model"
   ]
  },
  {
   "cell_type": "markdown",
   "id": "68c8aa3f-b86f-4244-9dce-ca268324ba5c",
   "metadata": {},
   "source": [
    "defining `metrics` function:"
   ]
  },
  {
   "cell_type": "raw",
   "id": "4c84922f-fd50-48c9-bd1b-1cc54cba4fb3",
   "metadata": {},
   "source": [
    "def metrics(y_true, y_pred, features):\n",
    "    cm = (confusion_matrix(y_true, y_pred))\n",
    "    print('Accuracy: ', round(accuracy_score(y_true, y_pred), 3))\n",
    "    print('Precision: ', round(precision_score(y_true, y_pred), 3))\n",
    "    print('Recall: ', round(recall_score(y_true, y_pred), 3))\n",
    "    print('F1-score: ', round(f1_score(y_true, y_pred), 3))\n",
    "    print('ROC-AUC: ', round(roc_auc_score(y_true, model.predict_proba(features)[:, 1]), 3))\n",
    "\n",
    "    fpr, tpr, thresholds = roc_curve(y_true, model.predict_proba(features)[:, 1])\n",
    "    plt.figure(figsize=(3, 3))\n",
    "    plt.plot([0, 1], [0, 1], linestyle='--')\n",
    "    plt.plot(fpr, tpr)\n",
    "    plt.xlim([0, 1])\n",
    "    plt.ylim([0, 1])\n",
    "    plt.xlabel('False Positive Rate')\n",
    "    plt.ylabel('True Positive Rate')\n",
    "    plt.title('ROC curve')\n",
    "    \n",
    "    fig, ax = plt.subplots(figsize=(3, 3))\n",
    "    ax.matshow(cm, cmap=plt.cm.gnuplot, alpha=0.3)\n",
    "    for i in range(cm.shape[0]):\n",
    "        for j in range(cm.shape[1]):\n",
    "            ax.text(x=j, y=i,s=cm[i, j], va='center', ha='center', size='large')\n",
    " \n",
    "    plt.xlabel('Predictions', fontsize=10)\n",
    "    plt.ylabel('Actuals', fontsize=10)\n",
    "    plt.title('Confusion Matrix', fontsize=10)"
   ]
  },
  {
   "cell_type": "raw",
   "id": "92194106-e900-4d30-b272-4446c5cecd8e",
   "metadata": {},
   "source": [
    "X_sample = np.array(sample.drop(['target'], axis = 1))"
   ]
  },
  {
   "cell_type": "raw",
   "id": "4d66904d-dfe3-4259-a051-3541b24a62eb",
   "metadata": {},
   "source": [
    "X = np.array(features_train.drop(['target'], axis = 1))\n",
    "y = np.array(target_train)"
   ]
  },
  {
   "cell_type": "raw",
   "id": "9701e68f-cefb-4771-b0af-d1a074188765",
   "metadata": {},
   "source": [
    "del features_train, target_train, idx_d_train\n",
    "gc.collect()"
   ]
  },
  {
   "cell_type": "raw",
   "id": "f23d57dc-aad7-4bb3-bc63-4b11a0bb2489",
   "metadata": {},
   "source": [
    "X_train, X_test, y_train, y_test = train_test_split(X, y, \n",
    "                                                    test_size=0.2,                         \n",
    "                                                    random_state=42,\n",
    "                                                   stratify=y)\n",
    "print(X_train.shape)\n",
    "print(X_test.shape)"
   ]
  },
  {
   "cell_type": "code",
   "execution_count": null,
   "id": "f0593b3d",
   "metadata": {},
   "outputs": [],
   "source": []
  },
  {
   "cell_type": "raw",
   "id": "f4ee3487-b568-4141-b065-5c301369ec20",
   "metadata": {},
   "source": [
    "model = CatBoostClassifier(verbose=500, depth=6, \n",
    "                           iterations=1500, \n",
    "                           random_seed=42, \n",
    "                           loss_function='Logloss',\n",
    "                           boosting_type='Ordered')\n",
    "model.fit(X_train, y_train)"
   ]
  },
  {
   "cell_type": "raw",
   "id": "70583acd-c43c-4298-a7b6-e8e5abf62305",
   "metadata": {},
   "source": [
    "del X_train, y_train\n",
    "gc.collect()"
   ]
  },
  {
   "cell_type": "raw",
   "id": "1c035eff-8d62-4623-a186-63adc3403752",
   "metadata": {},
   "source": [
    "pred = model.predict(X_test)\n",
    "metrics(y_test, pred, X_test)"
   ]
  },
  {
   "cell_type": "raw",
   "id": "c20c74ae-52d7-43d3-8642-8a2e360d47cc",
   "metadata": {},
   "source": [
    "del X_test, y_test, pred\n",
    "gc.collect()"
   ]
  },
  {
   "cell_type": "markdown",
   "id": "31f1f71d",
   "metadata": {},
   "source": [
    "## Searching for best candidates"
   ]
  },
  {
   "cell_type": "markdown",
   "id": "9178126d-607a-45f4-9f07-3c9ae52a232a",
   "metadata": {},
   "source": [
    "defining `best_candidates_search` function:"
   ]
  },
  {
   "cell_type": "code",
   "execution_count": 13,
   "id": "6944ecba",
   "metadata": {},
   "outputs": [],
   "source": [
    "def best_candidates_search(df, n, cand_num, type):\n",
    "    best_candidates_list = []\n",
    "    for i in tqdm(range((len(df)// n))):\n",
    "        best_c = df[n*i:n*(i+1)].sort_values(by='prob', ascending=False)[:cand_num]\n",
    "        best_candidates_list.append(best_c)\n",
    "        del best_c\n",
    "    print('lists created...')    \n",
    "    del df\n",
    "    gc.collect()\n",
    "    print('origin DF deleted...')    \n",
    "    new_df = pd.DataFrame(np.concatenate(best_candidates_list))\n",
    "    print('new DF created!')\n",
    "    return new_df\n",
    "    #new_df.to_csv(PATH + 'best_candidates_'+ type + '.csv')\n",
    "    #print('new DF saved!') "
   ]
  },
  {
   "cell_type": "code",
   "execution_count": 14,
   "id": "96884a68-7602-474c-851e-eb93a9fa8c27",
   "metadata": {},
   "outputs": [],
   "source": [
    "X = np.array(features_train.drop(['target'], axis = 1))\n",
    "y = np.array(target_train)"
   ]
  },
  {
   "cell_type": "code",
   "execution_count": 15,
   "id": "9235ac01-0fa9-464a-928c-f9c601c0692d",
   "metadata": {},
   "outputs": [],
   "source": [
    "X = pd.DataFrame(X)\n",
    "X['prob'] = model.predict_proba(X)[:, 1]\n",
    "X['target'] = y"
   ]
  },
  {
   "cell_type": "markdown",
   "id": "72c1b51c-903e-469d-8b62-6a65b8530f47",
   "metadata": {},
   "source": [
    "creating new smaller train dataframe:"
   ]
  },
  {
   "cell_type": "code",
   "execution_count": 16,
   "id": "7feb98a4",
   "metadata": {},
   "outputs": [
    {
     "data": {
      "application/vnd.jupyter.widget-view+json": {
       "model_id": "dcbff6accdab46b58ea29eb38efa7414",
       "version_major": 2,
       "version_minor": 0
      },
      "text/plain": [
       "  0%|          | 0/100000 [00:00<?, ?it/s]"
      ]
     },
     "metadata": {},
     "output_type": "display_data"
    },
    {
     "name": "stdout",
     "output_type": "stream",
     "text": [
      "lists created...\n",
      "origin DF deleted...\n",
      "new DF created!\n"
     ]
    }
   ],
   "source": [
    "best5_train = best_candidates_search(X, n_neigbours, 5, 'train')"
   ]
  },
  {
   "cell_type": "code",
   "execution_count": 17,
   "id": "d364e404",
   "metadata": {},
   "outputs": [
    {
     "data": {
      "text/plain": [
       "0"
      ]
     },
     "execution_count": 17,
     "metadata": {},
     "output_type": "execute_result"
    }
   ],
   "source": [
    "del X\n",
    "gc.collect()"
   ]
  },
  {
   "cell_type": "code",
   "execution_count": 18,
   "id": "3e05c741-a53e-4251-8bea-a37ac368c812",
   "metadata": {},
   "outputs": [
    {
     "name": "stdout",
     "output_type": "stream",
     "text": [
      "147\n",
      "0.0    0.85508\n",
      "1.0    0.14492\n",
      "Name: proportion, dtype: float64\n"
     ]
    },
    {
     "data": {
      "image/png": "[encoded data removed]",
      "text/plain": [
       "<Figure size 200x200 with 1 Axes>"
      ]
     },
     "metadata": {},
     "output_type": "display_data"
    }
   ],
   "source": [
    "plt.figure(figsize=(2,2))\n",
    "class_frequency = best5_train[best5_train.shape[1]-1].value_counts(normalize=True)\n",
    "print(class_frequency)\n",
    "class_frequency.plot(kind='bar'); "
   ]
  },
  {
   "cell_type": "markdown",
   "id": "d4a07d9e",
   "metadata": {},
   "source": [
    "# Load data #2"
   ]
  },
  {
   "cell_type": "markdown",
   "id": "c4ae1dfd",
   "metadata": {},
   "source": [
    "## Validation "
   ]
  },
  {
   "cell_type": "code",
   "execution_count": 19,
   "id": "8603df78",
   "metadata": {},
   "outputs": [],
   "source": [
    "features_valid = pd.read_csv(PATH + 'all_features_valid.csv', index_col=0)\n",
    "target_valid = pd.read_csv(PATH + 'target_valid.csv', index_col=0)\n",
    "idx_d_valid = pd.read_csv(PATH + 'faiss_idx_and_distances_valid.csv', index_col=0)"
   ]
  },
  {
   "cell_type": "code",
   "execution_count": 20,
   "id": "7328f2d9",
   "metadata": {},
   "outputs": [],
   "source": [
    "features_valid['distance'] = idx_d_valid['1']\n",
    "features_valid['index'] = idx_d_valid['0']\n",
    "#idx_valid = idx_d_valid['0']"
   ]
  },
  {
   "cell_type": "code",
   "execution_count": 21,
   "id": "97c6d057",
   "metadata": {},
   "outputs": [
    {
     "data": {
      "text/plain": [
       "2547"
      ]
     },
     "execution_count": 21,
     "metadata": {},
     "output_type": "execute_result"
    }
   ],
   "source": [
    "del idx_d_valid\n",
    "gc.collect()"
   ]
  },
  {
   "cell_type": "markdown",
   "id": "c281d6b9",
   "metadata": {},
   "source": [
    "## Searching for best candidates"
   ]
  },
  {
   "cell_type": "code",
   "execution_count": 22,
   "id": "37f6970c",
   "metadata": {},
   "outputs": [],
   "source": [
    "features_valid['prob'] = model.predict_proba(features_valid)[:, 1]\n",
    "features_valid['target'] = target_valid"
   ]
  },
  {
   "cell_type": "markdown",
   "id": "e7772494-b54a-4e32-abfe-f8873cb544a6",
   "metadata": {},
   "source": [
    "creating new smaller valid dataframe:"
   ]
  },
  {
   "cell_type": "code",
   "execution_count": 23,
   "id": "d96d8cb7",
   "metadata": {},
   "outputs": [
    {
     "data": {
      "application/vnd.jupyter.widget-view+json": {
       "model_id": "00e4bc2be61c413787683fb454dc9a69",
       "version_major": 2,
       "version_minor": 0
      },
      "text/plain": [
       "  0%|          | 0/100000 [00:00<?, ?it/s]"
      ]
     },
     "metadata": {},
     "output_type": "display_data"
    },
    {
     "name": "stdout",
     "output_type": "stream",
     "text": [
      "lists created...\n",
      "origin DF deleted...\n",
      "new DF created!\n"
     ]
    }
   ],
   "source": [
    "best5_valid = best_candidates_search(features_valid, n_neigbours, 5, 'valid')"
   ]
  },
  {
   "cell_type": "code",
   "execution_count": 24,
   "id": "0e884b1e",
   "metadata": {},
   "outputs": [
    {
     "data": {
      "text/plain": [
       "0"
      ]
     },
     "execution_count": 24,
     "metadata": {},
     "output_type": "execute_result"
    }
   ],
   "source": [
    "del features_valid\n",
    "gc.collect()"
   ]
  },
  {
   "cell_type": "code",
   "execution_count": 25,
   "id": "2f213e9b",
   "metadata": {},
   "outputs": [
    {
     "name": "stdout",
     "output_type": "stream",
     "text": [
      "147\n",
      "0.0    0.8555\n",
      "1.0    0.1445\n",
      "Name: proportion, dtype: float64\n"
     ]
    },
    {
     "data": {
      "image/png": "[encoded data removed]",
      "text/plain": [
       "<Figure size 200x200 with 1 Axes>"
      ]
     },
     "metadata": {},
     "output_type": "display_data"
    }
   ],
   "source": [
    "plt.figure(figsize=(2,2))\n",
    "class_frequency = best5_valid[best5_valid.shape[1]-1].value_counts(normalize=True)\n",
    "print(class_frequency)\n",
    "class_frequency.plot(kind='bar');  "
   ]
  },
  {
   "cell_type": "markdown",
   "id": "295c0f29",
   "metadata": {},
   "source": [
    "# CatBoost Classification"
   ]
  },
  {
   "cell_type": "markdown",
   "id": "d3bc985c",
   "metadata": {},
   "source": [
    "## Train"
   ]
  },
  {
   "cell_type": "code",
   "execution_count": 26,
   "id": "818d976d",
   "metadata": {},
   "outputs": [
    {
     "data": {
      "text/plain": [
       "2573"
      ]
     },
     "execution_count": 26,
     "metadata": {},
     "output_type": "execute_result"
    }
   ],
   "source": [
    "y_train = np.array(best5_train[best5_train.shape[1]-1])\n",
    "X_train = np.array(best5_train.drop([best5_train.shape[1]-1], axis=1))\n",
    "del best5_train\n",
    "gc.collect()"
   ]
  },
  {
   "cell_type": "code",
   "execution_count": 27,
   "id": "403ec214",
   "metadata": {},
   "outputs": [
    {
     "data": {
      "text/plain": [
       "0"
      ]
     },
     "execution_count": 27,
     "metadata": {},
     "output_type": "execute_result"
    }
   ],
   "source": [
    "y_valid = np.array(best5_valid[best5_valid.shape[1]-1])\n",
    "X_valid = np.array(best5_valid.drop([best5_valid.shape[1]-1], axis=1))\n",
    "#del best5_valid\n",
    "gc.collect()"
   ]
  },
  {
   "cell_type": "code",
   "execution_count": 28,
   "id": "d592b283",
   "metadata": {},
   "outputs": [
    {
     "name": "stdout",
     "output_type": "stream",
     "text": [
      "Learning rate set to 0.100906\n",
      "0:\tlearn: 0.5630374\ttotal: 360ms\tremaining: 8m 59s\n",
      "500:\tlearn: 0.1560144\ttotal: 3m 18s\tremaining: 6m 35s\n",
      "1000:\tlearn: 0.1414385\ttotal: 6m 37s\tremaining: 3m 18s\n",
      "1499:\tlearn: 0.1311783\ttotal: 9m 57s\tremaining: 0us\n"
     ]
    },
    {
     "data": {
      "text/plain": [
       "<catboost.core.CatBoostClassifier at 0x7f14290ffaf0>"
      ]
     },
     "execution_count": 28,
     "metadata": {},
     "output_type": "execute_result"
    }
   ],
   "source": [
    "model = CatBoostClassifier(verbose=500, depth=6, \n",
    "                           iterations=1500, \n",
    "                           random_seed=42, \n",
    "                           loss_function='Logloss',\n",
    "                           boosting_type='Ordered')\n",
    "model.fit(X_train, y_train)"
   ]
  },
  {
   "cell_type": "markdown",
   "id": "2ca8f1c9-8ee6-4aae-a81d-85b2971c5387",
   "metadata": {},
   "source": [
    "## Metrics"
   ]
  },
  {
   "cell_type": "code",
   "execution_count": 29,
   "id": "d5520871",
   "metadata": {},
   "outputs": [
    {
     "name": "stdout",
     "output_type": "stream",
     "text": [
      "Accuracy:  0.943\n",
      "Precision:  0.873\n",
      "Recall:  0.71\n",
      "F1-score:  0.783\n",
      "ROC-AUC:  0.96\n"
     ]
    },
    {
     "data": {
      "image/png": "[encoded data removed]",
      "text/plain": [
       "<Figure size 300x300 with 1 Axes>"
      ]
     },
     "metadata": {},
     "output_type": "display_data"
    },
    {
     "data": {
      "image/png": "[encoded data removed]",
      "text/plain": [
       "<Figure size 300x300 with 1 Axes>"
      ]
     },
     "metadata": {},
     "output_type": "display_data"
    }
   ],
   "source": [
    "y_pred = model.predict(X_valid)\n",
    "metrics(y_valid, y_pred, X_valid)"
   ]
  },
  {
   "cell_type": "markdown",
   "id": "cc93b044-3ea0-4e89-9449-c5788f54cbdd",
   "metadata": {},
   "source": [
    "Compare metrics to a DummyClassifier:"
   ]
  },
  {
   "cell_type": "code",
   "execution_count": 30,
   "id": "e9c710af",
   "metadata": {},
   "outputs": [
    {
     "data": {
      "text/html": [
       "<style>#sk-container-id-1 {color: black;}#sk-container-id-1 pre{padding: 0;}#sk-container-id-1 div.sk-toggleable {background-color: white;}#sk-container-id-1 label.sk-toggleable__label {cursor: pointer;display: block;width: 100%;margin-bottom: 0;padding: 0.3em;box-sizing: border-box;text-align: center;}#sk-container-id-1 label.sk-toggleable__label-arrow:before {content: \"▸\";float: left;margin-right: 0.25em;color: #696969;}#sk-container-id-1 label.sk-toggleable__label-arrow:hover:before {color: black;}#sk-container-id-1 div.sk-estimator:hover label.sk-toggleable__label-arrow:before {color: black;}#sk-container-id-1 div.sk-toggleable__content {max-height: 0;max-width: 0;overflow: hidden;text-align: left;background-color: #f0f8ff;}#sk-container-id-1 div.sk-toggleable__content pre {margin: 0.2em;color: black;border-radius: 0.25em;background-color: #f0f8ff;}#sk-container-id-1 input.sk-toggleable__control:checked~div.sk-toggleable__content {max-height: 200px;max-width: 100%;overflow: auto;}#sk-container-id-1 input.sk-toggleable__control:checked~label.sk-toggleable__label-arrow:before {content: \"▾\";}#sk-container-id-1 div.sk-estimator input.sk-toggleable__control:checked~label.sk-toggleable__label {background-color: #d4ebff;}#sk-container-id-1 div.sk-label input.sk-toggleable__control:checked~label.sk-toggleable__label {background-color: #d4ebff;}#sk-container-id-1 input.sk-hidden--visually {border: 0;clip: rect(1px 1px 1px 1px);clip: rect(1px, 1px, 1px, 1px);height: 1px;margin: -1px;overflow: hidden;padding: 0;position: absolute;width: 1px;}#sk-container-id-1 div.sk-estimator {font-family: monospace;background-color: #f0f8ff;border: 1px dotted black;border-radius: 0.25em;box-sizing: border-box;margin-bottom: 0.5em;}#sk-container-id-1 div.sk-estimator:hover {background-color: #d4ebff;}#sk-container-id-1 div.sk-parallel-item::after {content: \"\";width: 100%;border-bottom: 1px solid gray;flex-grow: 1;}#sk-container-id-1 div.sk-label:hover label.sk-toggleable__label {background-color: #d4ebff;}#sk-container-id-1 div.sk-serial::before {content: \"\";position: absolute;border-left: 1px solid gray;box-sizing: border-box;top: 0;bottom: 0;left: 50%;z-index: 0;}#sk-container-id-1 div.sk-serial {display: flex;flex-direction: column;align-items: center;background-color: white;padding-right: 0.2em;padding-left: 0.2em;position: relative;}#sk-container-id-1 div.sk-item {position: relative;z-index: 1;}#sk-container-id-1 div.sk-parallel {display: flex;align-items: stretch;justify-content: center;background-color: white;position: relative;}#sk-container-id-1 div.sk-item::before, #sk-container-id-1 div.sk-parallel-item::before {content: \"\";position: absolute;border-left: 1px solid gray;box-sizing: border-box;top: 0;bottom: 0;left: 50%;z-index: -1;}#sk-container-id-1 div.sk-parallel-item {display: flex;flex-direction: column;z-index: 1;position: relative;background-color: white;}#sk-container-id-1 div.sk-parallel-item:first-child::after {align-self: flex-end;width: 50%;}#sk-container-id-1 div.sk-parallel-item:last-child::after {align-self: flex-start;width: 50%;}#sk-container-id-1 div.sk-parallel-item:only-child::after {width: 0;}#sk-container-id-1 div.sk-dashed-wrapped {border: 1px dashed gray;margin: 0 0.4em 0.5em 0.4em;box-sizing: border-box;padding-bottom: 0.4em;background-color: white;}#sk-container-id-1 div.sk-label label {font-family: monospace;font-weight: bold;display: inline-block;line-height: 1.2em;}#sk-container-id-1 div.sk-label-container {text-align: center;}#sk-container-id-1 div.sk-container {/* jupyter's `normalize.less` sets `[hidden] { display: none; }` but bootstrap.min.css set `[hidden] { display: none !important; }` so we also need the `!important` here to be able to override the default hidden behavior on the sphinx rendered scikit-learn.org. See: https://github.com/scikit-learn/scikit-learn/issues/21755 */display: inline-block !important;position: relative;}#sk-container-id-1 div.sk-text-repr-fallback {display: none;}</style><div id=\"sk-container-id-1\" class=\"sk-top-container\"><div class=\"sk-text-repr-fallback\"><pre>DummyClassifier(strategy=&#x27;stratified&#x27;)</pre><b>In a Jupyter environment, please rerun this cell to show the HTML representation or trust the notebook. <br />On GitHub, the HTML representation is unable to render, please try loading this page with nbviewer.org.</b></div><div class=\"sk-container\" hidden><div class=\"sk-item\"><div class=\"sk-estimator sk-toggleable\"><input class=\"sk-toggleable__control sk-hidden--visually\" id=\"sk-estimator-id-1\" type=\"checkbox\" checked><label for=\"sk-estimator-id-1\" class=\"sk-toggleable__label sk-toggleable__label-arrow\">DummyClassifier</label><div class=\"sk-toggleable__content\"><pre>DummyClassifier(strategy=&#x27;stratified&#x27;)</pre></div></div></div></div></div>"
      ],
      "text/plain": [
       "DummyClassifier(strategy='stratified')"
      ]
     },
     "execution_count": 30,
     "metadata": {},
     "output_type": "execute_result"
    }
   ],
   "source": [
    "dummy_clf = DummyClassifier(strategy='stratified')\n",
    "dummy_clf.fit(X_train, y_train)"
   ]
  },
  {
   "cell_type": "code",
   "execution_count": 31,
   "id": "947f71a7",
   "metadata": {},
   "outputs": [
    {
     "name": "stdout",
     "output_type": "stream",
     "text": [
      "Accuracy:  0.753\n",
      "Precision:  0.146\n",
      "Recall:  0.146\n",
      "F1-score:  0.146\n",
      "ROC-AUC:  0.96\n"
     ]
    },
    {
     "data": {
      "image/png": "[encoded data removed]",
      "text/plain": [
       "<Figure size 300x300 with 1 Axes>"
      ]
     },
     "metadata": {},
     "output_type": "display_data"
    },
    {
     "data": {
      "image/png": "[encoded data removed]",
      "text/plain": [
       "<Figure size 300x300 with 1 Axes>"
      ]
     },
     "metadata": {},
     "output_type": "display_data"
    }
   ],
   "source": [
    "dum_pred = dummy_clf.predict(X_valid)\n",
    "metrics(y_valid, dum_pred, X_valid)"
   ]
  },
  {
   "cell_type": "markdown",
   "id": "d472a7f8-927f-4a75-af9f-fcbb5d3e8c53",
   "metadata": {},
   "source": [
    "![Url](https://y.yarn.co/72d3e314-fac3-4392-96af-8c81554f0a9b_text.gif \"jack\")"
   ]
  },
  {
   "cell_type": "markdown",
   "id": "54711dae-26dd-4226-9177-47454c545dcf",
   "metadata": {},
   "source": [
    "For evaluating performance of the model there will be used *F1 score* and *accuracy*. F1 indicates that the model has both high precision and high recall, which means that it’s able to correctly identify positive cases while avoiding false positives and false negatives.\n",
    "\n",
    "*F1 score* value is 0.708 on validation, and *accuracy* is 0.927."
   ]
  },
  {
   "cell_type": "markdown",
   "id": "66d1b50e-1a94-4b8e-96fc-37ee9c694c07",
   "metadata": {},
   "source": [
    "## Accuracy@5 on validation"
   ]
  },
  {
   "cell_type": "code",
   "execution_count": 32,
   "id": "04821ba9-9117-4fc8-8fa1-4f6670166833",
   "metadata": {},
   "outputs": [],
   "source": [
    "targets_valid = pd.read_csv(PATH + 'validation_answer.csv', index_col=0)['Expected']\n",
    "base_index = open(PATH + 'base_index.txt')\n",
    "base_index = json.load(base_index)"
   ]
  },
  {
   "cell_type": "code",
   "execution_count": 33,
   "id": "70f73396-e04e-4b72-9144-757434905d2d",
   "metadata": {},
   "outputs": [
    {
     "data": {
      "application/vnd.jupyter.widget-view+json": {
       "model_id": "c19aa466a04a45c79e2df1df9cef7ec6",
       "version_major": 2,
       "version_minor": 0
      },
      "text/plain": [
       "  0%|          | 0/100000 [00:00<?, ?it/s]"
      ]
     },
     "metadata": {},
     "output_type": "display_data"
    }
   ],
   "source": [
    "n=5\n",
    "best_indexes = []\n",
    "for i in tqdm(range((len(best5_valid)// n))):\n",
    "    best_indexes.append(best5_valid[best5_valid.shape[1]-3][n*i:n*(i+1)].tolist())"
   ]
  },
  {
   "cell_type": "code",
   "execution_count": 34,
   "id": "2a0100ac-8e97-4394-a22a-0eff9b685b52",
   "metadata": {},
   "outputs": [],
   "source": [
    "best_indexes_int = []\n",
    "for i in range(len(best_indexes)):\n",
    "    l = [int(item) for item in best_indexes[i]]\n",
    "    best_indexes_int.append(l)"
   ]
  },
  {
   "cell_type": "code",
   "execution_count": 35,
   "id": "c8abfa9e-e510-49df-91fd-d82b910e6b46",
   "metadata": {},
   "outputs": [
    {
     "name": "stdout",
     "output_type": "stream",
     "text": [
      "neighbours found: 72.25 %\n"
     ]
    }
   ],
   "source": [
    "acc =0\n",
    "\n",
    "for target, el in zip(targets_valid.reset_index(drop=True).values.tolist(), best_indexes_int):\n",
    "    acc += int(target in [base_index[str(r)] for r in el])   \n",
    "print('neighbours found: {} %'.format(100 * acc / len(best_indexes_int)))"
   ]
  },
  {
   "cell_type": "markdown",
   "id": "5203d69c-0728-47f1-9509-82ede886b2d2",
   "metadata": {},
   "source": [
    "# Saving model"
   ]
  },
  {
   "cell_type": "code",
   "execution_count": 36,
   "id": "7a67516b-3a36-4f61-a6d2-c0d321923019",
   "metadata": {},
   "outputs": [],
   "source": [
    "model.save_model(PATH + 'matching_model.cbm', format='cbm')"
   ]
  },
  {
   "cell_type": "code",
   "execution_count": null,
   "id": "8fba4c9c-dbb7-4f20-b635-b2cc5716f9af",
   "metadata": {},
   "outputs": [],
   "source": []
  }
 ],
 "metadata": {
  "kernelspec": {
   "display_name": "Python 3 (ipykernel)",
   "language": "python",
   "name": "python3"
  },
  "language_info": {
   "codemirror_mode": {
    "name": "ipython",
    "version": 3
   },
   "file_extension": ".py",
   "mimetype": "text/x-python",
   "name": "python",
   "nbconvert_exporter": "python",
   "pygments_lexer": "ipython3",
   "version": "3.10.12"
  }
 },
 "nbformat": 4,
 "nbformat_minor": 5
}
