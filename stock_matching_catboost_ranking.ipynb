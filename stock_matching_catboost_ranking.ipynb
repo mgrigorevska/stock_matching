{
 "cells": [
  {
   "cell_type": "raw",
   "id": "5fd7c578",
   "metadata": {},
   "source": [
    "!pip install catboost"
   ]
  },
  {
   "cell_type": "code",
   "execution_count": 1,
   "id": "0ced9299-e00a-4fb4-8155-864eceac3882",
   "metadata": {},
   "outputs": [],
   "source": [
    "import pandas as pd\n",
    "import numpy as np\n",
    "#import faiss\n",
    "import time\n",
    "import matplotlib.pyplot as plt\n",
    "\n",
    "from tqdm.notebook import tqdm\n",
    "from sklearn.model_selection import train_test_split\n",
    "#from sklearn.linear_model import LogisticRegression\n",
    "#from sklearn.ensemble import RandomForestClassifier\n",
    "#from sklearn.tree import DecisionTreeClassifier\n",
    "from sklearn.metrics import accuracy_score, precision_score\n",
    "from sklearn.utils.class_weight import compute_class_weight\n",
    "from sklearn.model_selection import GridSearchCV, cross_val_score\n",
    "from catboost import CatBoostClassifier\n",
    "import warnings\n",
    "import gc\n",
    "warnings.simplefilter(\"ignore\", UserWarning)\n",
    "\n",
    "\n",
    "PATH = '/home/mglz/projects/master/stock_matching/data/'"
   ]
  },
  {
   "cell_type": "markdown",
   "id": "1835548a",
   "metadata": {},
   "source": [
    "# Load data #1"
   ]
  },
  {
   "cell_type": "markdown",
   "id": "f9f38b03",
   "metadata": {},
   "source": [
    "## Train"
   ]
  },
  {
   "cell_type": "code",
   "execution_count": 2,
   "id": "eebe8726-358f-47cd-977d-4cdd10e02465",
   "metadata": {},
   "outputs": [],
   "source": [
    "n_neigbours = 50"
   ]
  },
  {
   "cell_type": "code",
   "execution_count": 3,
   "id": "d165fa4c",
   "metadata": {},
   "outputs": [],
   "source": [
    "features_train = pd.read_csv(PATH + 'all_features_train.csv', index_col=0)\n",
    "target_train = pd.read_csv(PATH + 'target_train.csv', index_col=0)\n",
    "idx_d_train = pd.read_csv(PATH + 'faiss_idx_and_distances_train.csv', index_col=0)"
   ]
  },
  {
   "cell_type": "code",
   "execution_count": 4,
   "id": "5d0d0b96",
   "metadata": {},
   "outputs": [],
   "source": [
    "features_train['distance'] = idx_d_train['1']\n",
    "#features_train['index'] = idx_d_train['0']\n",
    "#features_train['target'] = target_train"
   ]
  },
  {
   "cell_type": "raw",
   "id": "770a5fb0",
   "metadata": {},
   "source": [
    "plt.figure(figsize=(3,3))\n",
    "class_frequency = target_train.value_counts(normalize=True)\n",
    "print(class_frequency)\n",
    "class_frequency.plot(kind='bar');  "
   ]
  },
  {
   "cell_type": "markdown",
   "id": "4b1adeb4",
   "metadata": {},
   "source": [
    "### Stratified sample"
   ]
  },
  {
   "cell_type": "raw",
   "id": "6012a02b",
   "metadata": {},
   "source": [
    "#N = 10000\n",
    "\n",
    "#d = features_train.groupby('target', group_keys=False).apply(lambda x: #x.sample(int(np.rint(N*len(x)/len(features_train))))).sample(frac=1).reset_index(drop=True)\n",
    "#d"
   ]
  },
  {
   "cell_type": "raw",
   "id": "9947528b",
   "metadata": {},
   "source": [
    "cols = features_train.columns[:72]\n",
    "cols"
   ]
  },
  {
   "cell_type": "raw",
   "id": "f4d3d839",
   "metadata": {},
   "source": [
    "fig = plt.figure(figsize=(15,25))\n",
    "for i in range(len(cols)):\n",
    "    fig.add_subplot(18, 4, i+1)\n",
    "    plt.hist(features_train[cols[i]], bins=50)\n",
    "    #plt.ylabel('Число измерений') \n",
    "    plt.xlabel(cols[i])\n",
    "    plt.tight_layout()\n",
    "    plt.grid(True);    "
   ]
  },
  {
   "cell_type": "raw",
   "id": "e15b576d",
   "metadata": {},
   "source": [
    "suspisious_cols = ['6', '21', '25', '59', '65', '70']"
   ]
  },
  {
   "cell_type": "raw",
   "id": "1a1d2191",
   "metadata": {},
   "source": [
    "features_train = features_train.drop(suspisious_cols, axis=1)"
   ]
  },
  {
   "cell_type": "markdown",
   "id": "32a2fb22",
   "metadata": {},
   "source": [
    "# CatBoost ranking"
   ]
  },
  {
   "cell_type": "markdown",
   "id": "75ad08d4",
   "metadata": {},
   "source": [
    "## Train model"
   ]
  },
  {
   "cell_type": "code",
   "execution_count": 5,
   "id": "f97bf5cf",
   "metadata": {},
   "outputs": [],
   "source": [
    "X = np.array(features_train)\n",
    "y = np.array(target_train)"
   ]
  },
  {
   "cell_type": "code",
   "execution_count": 6,
   "id": "6e471259",
   "metadata": {},
   "outputs": [
    {
     "data": {
      "text/plain": [
       "0"
      ]
     },
     "execution_count": 6,
     "metadata": {},
     "output_type": "execute_result"
    }
   ],
   "source": [
    "del features_train, target_train, idx_d_train\n",
    "gc.collect()"
   ]
  },
  {
   "cell_type": "code",
   "execution_count": 7,
   "id": "d74515b8",
   "metadata": {},
   "outputs": [],
   "source": [
    "X_train, X_test, y_train, y_test = train_test_split(X, y, \n",
    "                                                    test_size=0.2,                         \n",
    "                                                    random_state=42,\n",
    "                                                   stratify=y)"
   ]
  },
  {
   "cell_type": "code",
   "execution_count": 8,
   "id": "f0593b3d",
   "metadata": {},
   "outputs": [
    {
     "name": "stdout",
     "output_type": "stream",
     "text": [
      "(2000000, 145)\n",
      "(500000, 145)\n"
     ]
    }
   ],
   "source": [
    "print(X_train.shape)\n",
    "print(X_test.shape)"
   ]
  },
  {
   "cell_type": "code",
   "execution_count": 9,
   "id": "46636c3e",
   "metadata": {},
   "outputs": [
    {
     "name": "stdout",
     "output_type": "stream",
     "text": [
      "Learning rate set to 0.264529\n",
      "0:\tlearn: 0.2418792\ttotal: 259ms\tremaining: 4m 18s\n",
      "100:\tlearn: 0.0077572\ttotal: 19.1s\tremaining: 2m 50s\n",
      "200:\tlearn: 0.0054017\ttotal: 37.8s\tremaining: 2m 30s\n",
      "300:\tlearn: 0.0042486\ttotal: 56s\tremaining: 2m 9s\n",
      "400:\tlearn: 0.0037426\ttotal: 1m 13s\tremaining: 1m 50s\n",
      "500:\tlearn: 0.0033403\ttotal: 1m 31s\tremaining: 1m 31s\n",
      "600:\tlearn: 0.0030645\ttotal: 1m 49s\tremaining: 1m 12s\n",
      "700:\tlearn: 0.0028404\ttotal: 2m 6s\tremaining: 54s\n",
      "800:\tlearn: 0.0026108\ttotal: 2m 24s\tremaining: 35.9s\n",
      "900:\tlearn: 0.0024200\ttotal: 2m 41s\tremaining: 17.8s\n",
      "999:\tlearn: 0.0022051\ttotal: 2m 59s\tremaining: 0us\n"
     ]
    },
    {
     "data": {
      "text/plain": [
       "<catboost.core.CatBoostClassifier at 0x7fcfe2dcead0>"
      ]
     },
     "execution_count": 9,
     "metadata": {},
     "output_type": "execute_result"
    }
   ],
   "source": [
    "model = CatBoostClassifier(verbose=100, depth=5, \n",
    "                           iterations=1000, \n",
    "                           random_seed=42, \n",
    "                           loss_function='Logloss')\n",
    "                           #bootstrap_type='Bernoulli',\n",
    "                           #leaf_estimation_method='Newton',\n",
    "                           #boosting_type='Ordered')\n",
    "model.fit(X_train, y_train)"
   ]
  },
  {
   "cell_type": "code",
   "execution_count": 10,
   "id": "e85464f9",
   "metadata": {},
   "outputs": [
    {
     "data": {
      "text/plain": [
       "0"
      ]
     },
     "execution_count": 10,
     "metadata": {},
     "output_type": "execute_result"
    }
   ],
   "source": [
    "del X_train, y_train\n",
    "gc.collect()"
   ]
  },
  {
   "cell_type": "code",
   "execution_count": 11,
   "id": "9e6d84f1",
   "metadata": {},
   "outputs": [
    {
     "data": {
      "text/plain": [
       "0"
      ]
     },
     "execution_count": 11,
     "metadata": {},
     "output_type": "execute_result"
    }
   ],
   "source": [
    "gc.collect()"
   ]
  },
  {
   "cell_type": "code",
   "execution_count": 12,
   "id": "8e6075bb",
   "metadata": {},
   "outputs": [
    {
     "name": "stdout",
     "output_type": "stream",
     "text": [
      "0.9384296091317883\n",
      "0.998682\n"
     ]
    }
   ],
   "source": [
    "pred = model.predict(X_test)\n",
    "print(precision_score(y_test, pred))\n",
    "print(accuracy_score(y_test, pred))"
   ]
  },
  {
   "cell_type": "code",
   "execution_count": 13,
   "id": "38474167",
   "metadata": {},
   "outputs": [
    {
     "data": {
      "text/plain": [
       "0"
      ]
     },
     "execution_count": 13,
     "metadata": {},
     "output_type": "execute_result"
    }
   ],
   "source": [
    "del X_test, y_test, pred\n",
    "gc.collect()"
   ]
  },
  {
   "cell_type": "markdown",
   "id": "31f1f71d",
   "metadata": {},
   "source": [
    "## Searching best candidates"
   ]
  },
  {
   "cell_type": "code",
   "execution_count": 14,
   "id": "2f8bccbe",
   "metadata": {},
   "outputs": [],
   "source": [
    "X = pd.DataFrame(X)"
   ]
  },
  {
   "cell_type": "code",
   "execution_count": 15,
   "id": "2b65d79a",
   "metadata": {},
   "outputs": [],
   "source": [
    "X['prob'] = model.predict_proba(X)[:, 1]\n",
    "X['target'] = y"
   ]
  },
  {
   "cell_type": "code",
   "execution_count": 16,
   "id": "6944ecba",
   "metadata": {},
   "outputs": [],
   "source": [
    "def best_candidates_search(df, n, cand_num, type):\n",
    "    best_candidates_list = []\n",
    "    for i in tqdm(range((len(df)// n))):\n",
    "        best_c = df[n*i:n*(i+1)].sort_values(by='prob', ascending=False)[:cand_num]\n",
    "        best_candidates_list.append(best_c)\n",
    "        del best_c\n",
    "    print('lists created...')    \n",
    "    del df\n",
    "    gc.collect()\n",
    "    print('origin DF deleted...')    \n",
    "    new_df = pd.DataFrame(np.concatenate(best_candidates_list))\n",
    "    print('new DF created!')\n",
    "    return new_df\n",
    "    #new_df.to_csv(PATH + 'best_candidates_'+ type + '.csv')\n",
    "    #print('new DF saved!') "
   ]
  },
  {
   "cell_type": "code",
   "execution_count": 17,
   "id": "7feb98a4",
   "metadata": {},
   "outputs": [
    {
     "data": {
      "application/vnd.jupyter.widget-view+json": {
       "model_id": "ea105f7401434388a65fdb795f95948b",
       "version_major": 2,
       "version_minor": 0
      },
      "text/plain": [
       "  0%|          | 0/50000 [00:00<?, ?it/s]"
      ]
     },
     "metadata": {},
     "output_type": "display_data"
    },
    {
     "name": "stdout",
     "output_type": "stream",
     "text": [
      "lists created...\n",
      "origin DF deleted...\n",
      "new DF created!\n"
     ]
    }
   ],
   "source": [
    "best5_train = best_candidates_search(X, n_neigbours, 5, 'train')"
   ]
  },
  {
   "cell_type": "code",
   "execution_count": 18,
   "id": "d364e404",
   "metadata": {},
   "outputs": [
    {
     "data": {
      "text/plain": [
       "0"
      ]
     },
     "execution_count": 18,
     "metadata": {},
     "output_type": "execute_result"
    }
   ],
   "source": [
    "del X\n",
    "gc.collect()"
   ]
  },
  {
   "cell_type": "markdown",
   "id": "d4a07d9e",
   "metadata": {},
   "source": [
    "# Load data #2"
   ]
  },
  {
   "cell_type": "markdown",
   "id": "c4ae1dfd",
   "metadata": {},
   "source": [
    "## Validation "
   ]
  },
  {
   "cell_type": "code",
   "execution_count": 19,
   "id": "8603df78",
   "metadata": {},
   "outputs": [],
   "source": [
    "features_valid = pd.read_csv(PATH + 'all_features_valid.csv', index_col=0)\n",
    "target_valid = pd.read_csv(PATH + 'target_valid.csv', index_col=0)\n",
    "idx_d_valid = pd.read_csv(PATH + 'faiss_idx_and_distances_valid.csv', index_col=0)"
   ]
  },
  {
   "cell_type": "code",
   "execution_count": 20,
   "id": "7328f2d9",
   "metadata": {},
   "outputs": [],
   "source": [
    "features_valid['distance'] = idx_d_valid['1']"
   ]
  },
  {
   "cell_type": "code",
   "execution_count": 21,
   "id": "97c6d057",
   "metadata": {},
   "outputs": [
    {
     "data": {
      "text/plain": [
       "0"
      ]
     },
     "execution_count": 21,
     "metadata": {},
     "output_type": "execute_result"
    }
   ],
   "source": [
    "del idx_d_valid\n",
    "gc.collect()"
   ]
  },
  {
   "cell_type": "markdown",
   "id": "c281d6b9",
   "metadata": {},
   "source": [
    "## Searching best candidates"
   ]
  },
  {
   "cell_type": "code",
   "execution_count": 22,
   "id": "37f6970c",
   "metadata": {},
   "outputs": [],
   "source": [
    "features_valid['prob'] = model.predict_proba(features_valid)[:, 1]\n",
    "features_valid['target'] = target_valid"
   ]
  },
  {
   "cell_type": "code",
   "execution_count": 23,
   "id": "d96d8cb7",
   "metadata": {},
   "outputs": [
    {
     "data": {
      "application/vnd.jupyter.widget-view+json": {
       "model_id": "82feccfefa1a405e960c709e25aa5d38",
       "version_major": 2,
       "version_minor": 0
      },
      "text/plain": [
       "  0%|          | 0/50000 [00:00<?, ?it/s]"
      ]
     },
     "metadata": {},
     "output_type": "display_data"
    },
    {
     "name": "stdout",
     "output_type": "stream",
     "text": [
      "lists created...\n",
      "origin DF deleted...\n",
      "new DF created!\n"
     ]
    }
   ],
   "source": [
    "best5_valid = best_candidates_search(features_valid, n_neigbours, 5, 'valid')"
   ]
  },
  {
   "cell_type": "code",
   "execution_count": 24,
   "id": "0e884b1e",
   "metadata": {},
   "outputs": [
    {
     "data": {
      "text/plain": [
       "0"
      ]
     },
     "execution_count": 24,
     "metadata": {},
     "output_type": "execute_result"
    }
   ],
   "source": [
    "del features_valid\n",
    "gc.collect()"
   ]
  },
  {
   "cell_type": "code",
   "execution_count": null,
   "id": "3e21c4f9",
   "metadata": {},
   "outputs": [],
   "source": []
  },
  {
   "cell_type": "code",
   "execution_count": null,
   "id": "2f213e9b",
   "metadata": {},
   "outputs": [],
   "source": []
  },
  {
   "cell_type": "code",
   "execution_count": null,
   "id": "655e4451",
   "metadata": {},
   "outputs": [],
   "source": []
  },
  {
   "cell_type": "code",
   "execution_count": null,
   "id": "818d976d",
   "metadata": {},
   "outputs": [],
   "source": []
  },
  {
   "cell_type": "code",
   "execution_count": null,
   "id": "8b03c600",
   "metadata": {},
   "outputs": [],
   "source": []
  },
  {
   "cell_type": "code",
   "execution_count": null,
   "id": "403ec214",
   "metadata": {},
   "outputs": [],
   "source": []
  },
  {
   "cell_type": "code",
   "execution_count": null,
   "id": "85856905",
   "metadata": {},
   "outputs": [],
   "source": []
  },
  {
   "cell_type": "code",
   "execution_count": null,
   "id": "d592b283",
   "metadata": {},
   "outputs": [],
   "source": []
  },
  {
   "cell_type": "code",
   "execution_count": null,
   "id": "a248ef6c",
   "metadata": {},
   "outputs": [],
   "source": []
  },
  {
   "cell_type": "code",
   "execution_count": null,
   "id": "d5520871",
   "metadata": {},
   "outputs": [],
   "source": []
  },
  {
   "cell_type": "code",
   "execution_count": null,
   "id": "5b5b1a9a",
   "metadata": {},
   "outputs": [],
   "source": []
  },
  {
   "cell_type": "code",
   "execution_count": null,
   "id": "e9c710af",
   "metadata": {},
   "outputs": [],
   "source": []
  },
  {
   "cell_type": "code",
   "execution_count": null,
   "id": "947f71a7",
   "metadata": {},
   "outputs": [],
   "source": []
  },
  {
   "cell_type": "code",
   "execution_count": null,
   "id": "6f2313fc",
   "metadata": {},
   "outputs": [],
   "source": []
  },
  {
   "cell_type": "code",
   "execution_count": null,
   "id": "5168a335",
   "metadata": {},
   "outputs": [],
   "source": []
  },
  {
   "cell_type": "code",
   "execution_count": null,
   "id": "e9bf88e7",
   "metadata": {},
   "outputs": [],
   "source": []
  },
  {
   "cell_type": "code",
   "execution_count": null,
   "id": "f6fde86a",
   "metadata": {},
   "outputs": [],
   "source": []
  },
  {
   "cell_type": "code",
   "execution_count": null,
   "id": "6b4c47aa",
   "metadata": {},
   "outputs": [],
   "source": []
  },
  {
   "cell_type": "code",
   "execution_count": null,
   "id": "394f2fac",
   "metadata": {},
   "outputs": [],
   "source": []
  },
  {
   "cell_type": "code",
   "execution_count": null,
   "id": "8715972c",
   "metadata": {},
   "outputs": [],
   "source": []
  }
 ],
 "metadata": {
  "kernelspec": {
   "display_name": "Python 3 (ipykernel)",
   "language": "python",
   "name": "python3"
  },
  "language_info": {
   "codemirror_mode": {
    "name": "ipython",
    "version": 3
   },
   "file_extension": ".py",
   "mimetype": "text/x-python",
   "name": "python",
   "nbconvert_exporter": "python",
   "pygments_lexer": "ipython3",
   "version": "3.10.12"
  }
 },
 "nbformat": 4,
 "nbformat_minor": 5
}
