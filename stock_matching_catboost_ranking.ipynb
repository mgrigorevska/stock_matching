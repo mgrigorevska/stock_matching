{
 "cells": [
  {
   "cell_type": "code",
   "execution_count": 2,
   "id": "0ced9299-e00a-4fb4-8155-864eceac3882",
   "metadata": {},
   "outputs": [],
   "source": [
    "import pandas as pd\n",
    "import numpy as np\n",
    "import faiss\n",
    "import time\n",
    "import matplotlib.pyplot as plt\n",
    "\n",
    "from tqdm.notebook import tqdm\n",
    "from sklearn.model_selection import train_test_split\n",
    "from sklearn.linear_model import LogisticRegression\n",
    "from sklearn.ensemble import RandomForestClassifier\n",
    "from sklearn.tree import DecisionTreeClassifier\n",
    "from sklearn.metrics import accuracy_score, precision_score\n",
    "from sklearn.utils.class_weight import compute_class_weight\n",
    "from sklearn.model_selection import GridSearchCV, cross_val_score\n",
    "from catboost import CatBoostClassifier\n",
    "import warnings\n",
    "import gc\n",
    "warnings.simplefilter(\"ignore\", UserWarning)\n",
    "\n",
    "\n",
    "PATH = '/home/maria_grig/projects/master/stock_matching/'"
   ]
  },
  {
   "cell_type": "code",
   "execution_count": 3,
   "id": "eebe8726-358f-47cd-977d-4cdd10e02465",
   "metadata": {},
   "outputs": [],
   "source": [
    "n_neigbours = 20"
   ]
  },
  {
   "cell_type": "code",
   "execution_count": 4,
   "id": "5e16e49b-f791-48cc-b9ea-ee1644851db4",
   "metadata": {},
   "outputs": [],
   "source": [
    "features = pd.read_csv(PATH + 'all_features_train.csv', index_col=0)\n",
    "target = pd.read_csv(PATH + 'target_train.csv', index_col=0)"
   ]
  },
  {
   "cell_type": "code",
   "execution_count": 5,
   "id": "7a435be8-d544-449f-9c16-f98c86c91301",
   "metadata": {},
   "outputs": [],
   "source": [
    "features['idx_faiss'] = pd.read_csv(PATH + 'faiss_idx_train.csv', index_col=0)\n",
    "#df['target'] = pd.read_csv(PATH + 'target_train.csv', index_col=0)"
   ]
  },
  {
   "cell_type": "code",
   "execution_count": 6,
   "id": "a494629b-03ae-4b4c-989c-36abb15d1a7b",
   "metadata": {},
   "outputs": [],
   "source": [
    "drop_cols = ['6','21','25','70']"
   ]
  },
  {
   "cell_type": "markdown",
   "id": "2501353c-a6ac-4e1f-be34-1746dcf185c4",
   "metadata": {},
   "source": [
    "## CatBoost ranking"
   ]
  },
  {
   "cell_type": "code",
   "execution_count": 7,
   "id": "6d4f1d40-d4d1-4b6c-8f74-ceaff49443b0",
   "metadata": {},
   "outputs": [],
   "source": [
    "X = np.array(features)\n",
    "y = np.array(target)"
   ]
  },
  {
   "cell_type": "code",
   "execution_count": 8,
   "id": "a6c514c1-f8c2-4951-80df-a6703f24e7eb",
   "metadata": {},
   "outputs": [],
   "source": [
    "X_train, X_test, y_train, y_test = train_test_split(X, y, \n",
    "                                                    test_size=0.2,                         \n",
    "                                                    random_state=42,\n",
    "                                                   stratify=y)"
   ]
  },
  {
   "cell_type": "code",
   "execution_count": 9,
   "id": "dd89bbc4-5b18-46db-9904-1fed072cb6d5",
   "metadata": {},
   "outputs": [
    {
     "name": "stdout",
     "output_type": "stream",
     "text": [
      "(1600000, 145)\n",
      "(400000, 145)\n"
     ]
    }
   ],
   "source": [
    "print(X_train.shape)\n",
    "print(X_test.shape)"
   ]
  },
  {
   "cell_type": "code",
   "execution_count": 20,
   "id": "e2d89a35-e95c-4600-be3c-bd5b80076969",
   "metadata": {},
   "outputs": [],
   "source": [
    "\n"
   ]
  },
  {
   "cell_type": "code",
   "execution_count": 10,
   "id": "e83b7682-d2b4-4d93-b801-46a1696829e5",
   "metadata": {},
   "outputs": [
    {
     "name": "stdout",
     "output_type": "stream",
     "text": [
      "0:\tlearn: 0.6229655\ttotal: 1.2s\tremaining: 29m 51s\n",
      "200:\tlearn: 0.0246202\ttotal: 3m 45s\tremaining: 24m 16s\n",
      "400:\tlearn: 0.0115726\ttotal: 7m 33s\tremaining: 20m 42s\n",
      "600:\tlearn: 0.0075576\ttotal: 11m 10s\tremaining: 16m 42s\n",
      "800:\tlearn: 0.0062195\ttotal: 15m\tremaining: 13m 5s\n",
      "1000:\tlearn: 0.0055168\ttotal: 19m 4s\tremaining: 9m 30s\n",
      "1200:\tlearn: 0.0049765\ttotal: 22m 45s\tremaining: 5m 39s\n",
      "1400:\tlearn: 0.0045950\ttotal: 26m 9s\tremaining: 1m 50s\n",
      "1499:\tlearn: 0.0044480\ttotal: 27m 49s\tremaining: 0us\n"
     ]
    },
    {
     "data": {
      "text/plain": [
       "<catboost.core.CatBoostClassifier at 0x7f8fcaf985b0>"
      ]
     },
     "execution_count": 10,
     "metadata": {},
     "output_type": "execute_result"
    }
   ],
   "source": [
    "model = CatBoostClassifier(verbose=200, depth=7, \n",
    "                           iterations=1500, \n",
    "                           random_seed=42, \n",
    "                           loss_function='Logloss',\n",
    "                           bootstrap_type='Bernoulli',\n",
    "                           leaf_estimation_method='Newton',\n",
    "                           boosting_type='Ordered')\n",
    "model.fit(X_train, y_train)"
   ]
  },
  {
   "cell_type": "code",
   "execution_count": 11,
   "id": "6099afb8-e0d2-4311-a218-73aeb3b88702",
   "metadata": {},
   "outputs": [
    {
     "name": "stdout",
     "output_type": "stream",
     "text": [
      "0.9494482022071912\n",
      "0.9984775\n"
     ]
    }
   ],
   "source": [
    "pred = model.predict(X_test)\n",
    "print(precision_score(y_test, pred))\n",
    "print(accuracy_score(y_test, pred))"
   ]
  },
  {
   "cell_type": "code",
   "execution_count": 12,
   "id": "78993e59-a1e4-4f45-a44f-c0e73ac883bb",
   "metadata": {},
   "outputs": [
    {
     "data": {
      "text/plain": [
       "array([5.42662713e-05, 1.14332835e-04, 1.91486284e-05, ...,\n",
       "       2.51302679e-05, 5.55846874e-05, 3.80376215e-03])"
      ]
     },
     "execution_count": 12,
     "metadata": {},
     "output_type": "execute_result"
    }
   ],
   "source": [
    "prob = model.predict_proba(X)[:, 1]\n",
    "prob"
   ]
  },
  {
   "cell_type": "code",
   "execution_count": 13,
   "id": "7a048f58-5e48-4dea-baa4-13c24fa4d6ae",
   "metadata": {},
   "outputs": [],
   "source": [
    "features['prob'] = prob\n",
    "features['target'] = target"
   ]
  },
  {
   "cell_type": "code",
   "execution_count": 14,
   "id": "ff0101c9-e3b8-469e-9e94-905fb2d06af1",
   "metadata": {},
   "outputs": [],
   "source": [
    "del X_train, X_test"
   ]
  },
  {
   "cell_type": "code",
   "execution_count": 21,
   "id": "0db58f78-000f-4af9-9ca5-e07f50e0845e",
   "metadata": {},
   "outputs": [
    {
     "name": "stdout",
     "output_type": "stream",
     "text": [
      "146\n",
      "0.0    0.96871\n",
      "1.0    0.03129\n",
      "Name: proportion, dtype: float64\n"
     ]
    },
    {
     "data": {
      "image/png": "[encoded data removed]",
      "text/plain": [
       "<Figure size 300x300 with 1 Axes>"
      ]
     },
     "metadata": {},
     "output_type": "display_data"
    }
   ],
   "source": [
    "plt.figure(figsize=(3,3))\n",
    "class_frequency = df[146].value_counts(normalize=True)\n",
    "print(class_frequency)\n",
    "class_frequency.plot(kind='bar');  "
   ]
  },
  {
   "cell_type": "code",
   "execution_count": 17,
   "id": "f9a6f9b4-a29d-4073-b062-4f462d52c8d8",
   "metadata": {},
   "outputs": [
    {
     "data": {
      "application/vnd.jupyter.widget-view+json": {
       "model_id": "05b6a77f73e74791afad7dd60f2b8233",
       "version_major": 2,
       "version_minor": 0
      },
      "text/plain": [
       "  0%|          | 0/100000 [00:00<?, ?it/s]"
      ]
     },
     "metadata": {},
     "output_type": "display_data"
    }
   ],
   "source": [
    "best_candidates_list = []\n",
    "for i in tqdm(range((len(features)// n_neigbours))):\n",
    "    best_c = features[n_neigbours*i:n_neigbours*(i+1)].sort_values(by='prob', ascending=False)[:5]\n",
    "    best_candidates_list.append(best_c)"
   ]
  },
  {
   "cell_type": "code",
   "execution_count": null,
   "id": "dd684906-83ad-44f0-a1be-6b131323b349",
   "metadata": {},
   "outputs": [],
   "source": []
  },
  {
   "cell_type": "code",
   "execution_count": 22,
   "id": "c19958a0-8b68-4b1e-a325-67dd97ac90c8",
   "metadata": {},
   "outputs": [],
   "source": [
    "df = pd.DataFrame(np.concatenate(best_candidates_list))\n",
    "df.to_csv(PATH + 'best_candidates_train.csv')"
   ]
  },
  {
   "cell_type": "code",
   "execution_count": null,
   "id": "a275638a-2c58-4cf5-8bdb-22524a319932",
   "metadata": {},
   "outputs": [],
   "source": []
  },
  {
   "cell_type": "code",
   "execution_count": null,
   "id": "7e84715b-1906-48e0-91df-8be2c2f9508e",
   "metadata": {},
   "outputs": [],
   "source": []
  },
  {
   "cell_type": "code",
   "execution_count": null,
   "id": "33c0e321-5291-4daa-bc51-75296f5f749b",
   "metadata": {},
   "outputs": [],
   "source": []
  }
 ],
 "metadata": {
  "kernelspec": {
   "display_name": "Python 3 (ipykernel)",
   "language": "python",
   "name": "python3"
  },
  "language_info": {
   "codemirror_mode": {
    "name": "ipython",
    "version": 3
   },
   "file_extension": ".py",
   "mimetype": "text/x-python",
   "name": "python",
   "nbconvert_exporter": "python",
   "pygments_lexer": "ipython3",
   "version": "3.10.6"
  }
 },
 "nbformat": 4,
 "nbformat_minor": 5
}
