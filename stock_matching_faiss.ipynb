{
 "cells": [
  {
   "cell_type": "code",
   "execution_count": 1,
   "id": "424e17cb-ae43-475d-bd00-a3bb36a51cb5",
   "metadata": {},
   "outputs": [],
   "source": [
    "import pandas as pd\n",
    "import numpy as np\n",
    "import faiss\n",
    "import time\n",
    "import matplotlib.pyplot as plt\n",
    "\n",
    "from tqdm.notebook import tqdm\n",
    "#from sklearn.model_selection import train_test_split\n",
    "#from sklearn.linear_model import LogisticRegression\n",
    "#from sklearn.ensemble import RandomForestClassifier\n",
    "#from sklearn.tree import DecisionTreeClassifier\n",
    "#from sklearn.metrics import accuracy_score, precision_score\n",
    "#from sklearn.utils.class_weight import compute_class_weight\n",
    "#from sklearn.model_selection import GridSearchCV, cross_val_score\n",
    "#from catboost import CatBoostClassifier\n",
    "import warnings\n",
    "import gc\n",
    "\n",
    "warnings.simplefilter(\"ignore\", UserWarning)\n",
    "\n",
    "PATH = '/home/maria_grig/projects/master/stock_matching/'"
   ]
  },
  {
   "cell_type": "raw",
   "id": "a827b84d-e9eb-4a32-ba5f-1790f1b329e3",
   "metadata": {},
   "source": [
    "import torch\n",
    "\n",
    "device = torch.device(\"cuda\")"
   ]
  },
  {
   "cell_type": "raw",
   "id": "c077f30c-6f45-47ae-a462-26cad6460986",
   "metadata": {},
   "source": [
    "device"
   ]
  },
  {
   "cell_type": "markdown",
   "id": "ea67f7f3-16eb-45e8-a14d-bd4814accf32",
   "metadata": {},
   "source": [
    "# Load data"
   ]
  },
  {
   "cell_type": "markdown",
   "id": "3d3dae3c-36f6-42c0-8d9e-9b0fc377e12e",
   "metadata": {},
   "source": [
    "## Base"
   ]
  },
  {
   "cell_type": "markdown",
   "id": "3eb9d043-5d0b-47b7-bff1-82395794b958",
   "metadata": {},
   "source": [
    "### Base dataset"
   ]
  },
  {
   "cell_type": "code",
   "execution_count": 2,
   "id": "9137b16a-b95a-4346-8e9c-252159558b82",
   "metadata": {
    "scrolled": true
   },
   "outputs": [
    {
     "data": {
      "text/html": [
       "<div>\n",
       "<style scoped>\n",
       "    .dataframe tbody tr th:only-of-type {\n",
       "        vertical-align: middle;\n",
       "    }\n",
       "\n",
       "    .dataframe tbody tr th {\n",
       "        vertical-align: top;\n",
       "    }\n",
       "\n",
       "    .dataframe thead th {\n",
       "        text-align: right;\n",
       "    }\n",
       "</style>\n",
       "<table border=\"1\" class=\"dataframe\">\n",
       "  <thead>\n",
       "    <tr style=\"text-align: right;\">\n",
       "      <th></th>\n",
       "      <th>0</th>\n",
       "      <th>1</th>\n",
       "      <th>2</th>\n",
       "      <th>3</th>\n",
       "      <th>4</th>\n",
       "      <th>5</th>\n",
       "      <th>6</th>\n",
       "      <th>7</th>\n",
       "      <th>8</th>\n",
       "      <th>9</th>\n",
       "      <th>...</th>\n",
       "      <th>62</th>\n",
       "      <th>63</th>\n",
       "      <th>64</th>\n",
       "      <th>65</th>\n",
       "      <th>66</th>\n",
       "      <th>67</th>\n",
       "      <th>68</th>\n",
       "      <th>69</th>\n",
       "      <th>70</th>\n",
       "      <th>71</th>\n",
       "    </tr>\n",
       "    <tr>\n",
       "      <th>Id</th>\n",
       "      <th></th>\n",
       "      <th></th>\n",
       "      <th></th>\n",
       "      <th></th>\n",
       "      <th></th>\n",
       "      <th></th>\n",
       "      <th></th>\n",
       "      <th></th>\n",
       "      <th></th>\n",
       "      <th></th>\n",
       "      <th></th>\n",
       "      <th></th>\n",
       "      <th></th>\n",
       "      <th></th>\n",
       "      <th></th>\n",
       "      <th></th>\n",
       "      <th></th>\n",
       "      <th></th>\n",
       "      <th></th>\n",
       "      <th></th>\n",
       "      <th></th>\n",
       "    </tr>\n",
       "  </thead>\n",
       "  <tbody>\n",
       "    <tr>\n",
       "      <th>0-base</th>\n",
       "      <td>-115.083890</td>\n",
       "      <td>11.152912</td>\n",
       "      <td>-64.426760</td>\n",
       "      <td>-118.88089</td>\n",
       "      <td>216.482440</td>\n",
       "      <td>-104.698060</td>\n",
       "      <td>-469.070588</td>\n",
       "      <td>44.348083</td>\n",
       "      <td>120.915344</td>\n",
       "      <td>181.449700</td>\n",
       "      <td>...</td>\n",
       "      <td>-42.808693</td>\n",
       "      <td>38.800827</td>\n",
       "      <td>-151.76218</td>\n",
       "      <td>-74.389090</td>\n",
       "      <td>63.66634</td>\n",
       "      <td>-4.703861</td>\n",
       "      <td>92.933610</td>\n",
       "      <td>115.269190</td>\n",
       "      <td>-112.756640</td>\n",
       "      <td>-60.830353</td>\n",
       "    </tr>\n",
       "    <tr>\n",
       "      <th>1-base</th>\n",
       "      <td>-34.562202</td>\n",
       "      <td>13.332763</td>\n",
       "      <td>-69.787610</td>\n",
       "      <td>-166.53348</td>\n",
       "      <td>57.680607</td>\n",
       "      <td>-86.098370</td>\n",
       "      <td>-85.076666</td>\n",
       "      <td>-35.637436</td>\n",
       "      <td>119.718636</td>\n",
       "      <td>195.234190</td>\n",
       "      <td>...</td>\n",
       "      <td>-117.767525</td>\n",
       "      <td>41.100000</td>\n",
       "      <td>-157.82940</td>\n",
       "      <td>-94.446806</td>\n",
       "      <td>68.20211</td>\n",
       "      <td>24.346846</td>\n",
       "      <td>179.937930</td>\n",
       "      <td>116.834000</td>\n",
       "      <td>-84.888941</td>\n",
       "      <td>-59.524610</td>\n",
       "    </tr>\n",
       "    <tr>\n",
       "      <th>2-base</th>\n",
       "      <td>-54.233746</td>\n",
       "      <td>6.379371</td>\n",
       "      <td>-29.210136</td>\n",
       "      <td>-133.41383</td>\n",
       "      <td>150.895830</td>\n",
       "      <td>-99.435326</td>\n",
       "      <td>52.554795</td>\n",
       "      <td>62.381706</td>\n",
       "      <td>128.951450</td>\n",
       "      <td>164.381470</td>\n",
       "      <td>...</td>\n",
       "      <td>-76.397800</td>\n",
       "      <td>46.011803</td>\n",
       "      <td>-207.14442</td>\n",
       "      <td>127.325570</td>\n",
       "      <td>65.56618</td>\n",
       "      <td>66.325680</td>\n",
       "      <td>81.073490</td>\n",
       "      <td>116.594154</td>\n",
       "      <td>-1074.464888</td>\n",
       "      <td>-32.527206</td>\n",
       "    </tr>\n",
       "    <tr>\n",
       "      <th>3-base</th>\n",
       "      <td>-87.520130</td>\n",
       "      <td>4.037884</td>\n",
       "      <td>-87.803030</td>\n",
       "      <td>-185.06763</td>\n",
       "      <td>76.369540</td>\n",
       "      <td>-58.985165</td>\n",
       "      <td>-383.182845</td>\n",
       "      <td>-33.611237</td>\n",
       "      <td>122.031910</td>\n",
       "      <td>136.233580</td>\n",
       "      <td>...</td>\n",
       "      <td>-70.647940</td>\n",
       "      <td>-6.358921</td>\n",
       "      <td>-147.20105</td>\n",
       "      <td>-37.692750</td>\n",
       "      <td>66.20289</td>\n",
       "      <td>-20.566910</td>\n",
       "      <td>137.206940</td>\n",
       "      <td>117.474100</td>\n",
       "      <td>-1074.464888</td>\n",
       "      <td>-72.915490</td>\n",
       "    </tr>\n",
       "    <tr>\n",
       "      <th>4-base</th>\n",
       "      <td>-72.743850</td>\n",
       "      <td>6.522049</td>\n",
       "      <td>43.671265</td>\n",
       "      <td>-140.60803</td>\n",
       "      <td>5.820023</td>\n",
       "      <td>-112.074080</td>\n",
       "      <td>-397.711282</td>\n",
       "      <td>45.182500</td>\n",
       "      <td>122.167180</td>\n",
       "      <td>112.119064</td>\n",
       "      <td>...</td>\n",
       "      <td>-57.199104</td>\n",
       "      <td>56.642403</td>\n",
       "      <td>-159.35184</td>\n",
       "      <td>85.944724</td>\n",
       "      <td>66.76632</td>\n",
       "      <td>-2.505783</td>\n",
       "      <td>65.315285</td>\n",
       "      <td>135.051590</td>\n",
       "      <td>-1074.464888</td>\n",
       "      <td>0.319401</td>\n",
       "    </tr>\n",
       "  </tbody>\n",
       "</table>\n",
       "<p>5 rows × 72 columns</p>\n",
       "</div>"
      ],
      "text/plain": [
       "                 0          1          2          3           4           5  \\\n",
       "Id                                                                            \n",
       "0-base -115.083890  11.152912 -64.426760 -118.88089  216.482440 -104.698060   \n",
       "1-base  -34.562202  13.332763 -69.787610 -166.53348   57.680607  -86.098370   \n",
       "2-base  -54.233746   6.379371 -29.210136 -133.41383  150.895830  -99.435326   \n",
       "3-base  -87.520130   4.037884 -87.803030 -185.06763   76.369540  -58.985165   \n",
       "4-base  -72.743850   6.522049  43.671265 -140.60803    5.820023 -112.074080   \n",
       "\n",
       "                 6          7           8           9  ...          62  \\\n",
       "Id                                                     ...               \n",
       "0-base -469.070588  44.348083  120.915344  181.449700  ...  -42.808693   \n",
       "1-base  -85.076666 -35.637436  119.718636  195.234190  ... -117.767525   \n",
       "2-base   52.554795  62.381706  128.951450  164.381470  ...  -76.397800   \n",
       "3-base -383.182845 -33.611237  122.031910  136.233580  ...  -70.647940   \n",
       "4-base -397.711282  45.182500  122.167180  112.119064  ...  -57.199104   \n",
       "\n",
       "               63         64          65        66         67          68  \\\n",
       "Id                                                                          \n",
       "0-base  38.800827 -151.76218  -74.389090  63.66634  -4.703861   92.933610   \n",
       "1-base  41.100000 -157.82940  -94.446806  68.20211  24.346846  179.937930   \n",
       "2-base  46.011803 -207.14442  127.325570  65.56618  66.325680   81.073490   \n",
       "3-base  -6.358921 -147.20105  -37.692750  66.20289 -20.566910  137.206940   \n",
       "4-base  56.642403 -159.35184   85.944724  66.76632  -2.505783   65.315285   \n",
       "\n",
       "                69           70         71  \n",
       "Id                                          \n",
       "0-base  115.269190  -112.756640 -60.830353  \n",
       "1-base  116.834000   -84.888941 -59.524610  \n",
       "2-base  116.594154 -1074.464888 -32.527206  \n",
       "3-base  117.474100 -1074.464888 -72.915490  \n",
       "4-base  135.051590 -1074.464888   0.319401  \n",
       "\n",
       "[5 rows x 72 columns]"
      ]
     },
     "execution_count": 2,
     "metadata": {},
     "output_type": "execute_result"
    }
   ],
   "source": [
    "df_base = pd.read_csv(PATH + 'base.csv', index_col=0)\n",
    "df_base.head()"
   ]
  },
  {
   "cell_type": "markdown",
   "id": "955ec4de-aa72-4283-a8c5-d0fc74f09475",
   "metadata": {},
   "source": [
    "### Create index with FAISS"
   ]
  },
  {
   "cell_type": "code",
   "execution_count": 36,
   "id": "9b42530f-3924-44cb-8412-9c5d5a8b87af",
   "metadata": {},
   "outputs": [],
   "source": [
    "dims = df_base.shape[1]\n",
    "n_cells = 1000 # how many cells\n",
    "n_neigbours = 50\n",
    "quantizer = faiss.IndexFlatL2(dims)\n",
    "idx_l2 = faiss.IndexIVFFlat(quantizer, dims, n_cells)\n",
    "idx_l2.nprobe = 250"
   ]
  },
  {
   "cell_type": "code",
   "execution_count": 37,
   "id": "f3e3bb65-0b11-442d-a2fc-afc18fa06ad6",
   "metadata": {},
   "outputs": [],
   "source": [
    "idx_l2.train(np.ascontiguousarray(df_base).astype('float32'))\n",
    "idx_l2.add(np.ascontiguousarray(df_base.values).astype('float32'))"
   ]
  },
  {
   "cell_type": "code",
   "execution_count": 38,
   "id": "c724e031-d0f0-4e2d-a38c-08b95b365716",
   "metadata": {},
   "outputs": [],
   "source": [
    "base_index = {k: v for k, v in enumerate(df_base.index.to_list())}"
   ]
  },
  {
   "cell_type": "markdown",
   "id": "3fb53e2d-9719-47a2-8d5f-3d5144b5c0ea",
   "metadata": {},
   "source": [
    "## Train & Validation"
   ]
  },
  {
   "cell_type": "markdown",
   "id": "e528f55f-e822-49c5-be48-571da181d3c7",
   "metadata": {},
   "source": [
    "### EDA"
   ]
  },
  {
   "cell_type": "code",
   "execution_count": 6,
   "id": "af576e07-e521-4de0-b7c6-37191ff18561",
   "metadata": {},
   "outputs": [],
   "source": [
    "df_train = pd.read_csv(PATH + 'train.csv', index_col=0)\n",
    "df_valid = pd.read_csv(PATH + 'validation.csv', index_col=0)"
   ]
  },
  {
   "cell_type": "code",
   "execution_count": 7,
   "id": "a8ee1fda-5ec7-4fcb-a894-3391d0e57cfb",
   "metadata": {},
   "outputs": [],
   "source": [
    "targets_train = df_train[\"Target\"]\n",
    "targets_valid = pd.read_csv(PATH + 'validation_answer.csv', index_col=0)['Expected']\n",
    "df_train.drop(\"Target\", axis=1, inplace=True)"
   ]
  },
  {
   "cell_type": "raw",
   "id": "115d2266-ddf1-425c-b736-7f6a876e021f",
   "metadata": {},
   "source": [
    "cols = df_train.columns\n",
    "\n",
    "fig = plt.figure(figsize=(15,25))\n",
    "for i in range(len(cols)):\n",
    "    fig.add_subplot(18, 4, i+1)\n",
    "    plt.hist(df_base[cols[i]], bins=50)\n",
    "    #plt.ylabel('Число измерений') \n",
    "    plt.xlabel(cols[i])\n",
    "    plt.tight_layout()\n",
    "    plt.grid(True);    "
   ]
  },
  {
   "cell_type": "code",
   "execution_count": 8,
   "id": "43f3ec38-d240-490e-8ce0-05298b26701b",
   "metadata": {},
   "outputs": [],
   "source": [
    "suspisious_cols = ['6', '21', '25', '59', '65', '70']"
   ]
  },
  {
   "cell_type": "markdown",
   "id": "fdf5e66d-627b-4255-913c-aec3c3d9d59a",
   "metadata": {},
   "source": [
    "### Searching candidates with FAISS"
   ]
  },
  {
   "cell_type": "markdown",
   "id": "378a0766-0edf-4916-bbf2-13f7249a18db",
   "metadata": {},
   "source": [
    "defining `candidate_search` function:"
   ]
  },
  {
   "cell_type": "code",
   "execution_count": 8,
   "id": "94303130-dfdc-49e6-a4e7-13c277cc6191",
   "metadata": {},
   "outputs": [],
   "source": [
    "def candidate_search(df, df_target):\n",
    "    start = time.time()\n",
    "    distances, idx = idx_l2.search(np.ascontiguousarray(df.values).astype('float32'), n_neigbours)\n",
    "    print('search took {}'.format(time.time() - start))\n",
    "    \n",
    "    acc = 0\n",
    "    for target, el in zip(df_target.values.tolist(), idx.tolist()):\n",
    "        acc += int(target in [base_index[r] for r in el])        \n",
    "    print('neighbours found: {} %'.format(100 * acc / len(idx)))\n",
    "    return distances, idx"
   ]
  },
  {
   "cell_type": "markdown",
   "id": "182a1392-4abf-4ced-a6b1-cf1ce5c456a1",
   "metadata": {},
   "source": [
    "Searching for `df_train`:"
   ]
  },
  {
   "cell_type": "code",
   "execution_count": 39,
   "id": "1d7a6166-5d01-4090-b547-3e388e2675c6",
   "metadata": {
    "scrolled": true
   },
   "outputs": [
    {
     "name": "stdout",
     "output_type": "stream",
     "text": [
      "search took 1655.473123550415\n",
      "neighbours found: 15.671 %\n"
     ]
    }
   ],
   "source": [
    "distances_train, idx_train = candidate_search(df_train, targets_train)"
   ]
  },
  {
   "cell_type": "markdown",
   "id": "825b4d7c-dab6-4666-87f7-0902fa9f285d",
   "metadata": {},
   "source": [
    "Searching for `df_valid`:"
   ]
  },
  {
   "cell_type": "code",
   "execution_count": null,
   "id": "e84025cc-e776-4a30-b012-e4155d180268",
   "metadata": {},
   "outputs": [],
   "source": [
    "distances_valid, idx_valid = candidate_search(df_valid, targets_valid)"
   ]
  },
  {
   "cell_type": "markdown",
   "id": "c54cb18e-3c46-496d-b4fa-5262ef5471d8",
   "metadata": {},
   "source": [
    "## Creating big `all-features` dataframes"
   ]
  },
  {
   "cell_type": "markdown",
   "id": "01c31f70-c4a6-4022-ae29-c55b45b28b50",
   "metadata": {},
   "source": [
    "defining `saving_big_df` function:"
   ]
  },
  {
   "cell_type": "code",
   "execution_count": 21,
   "id": "d662ea58-577b-490c-bfa4-24c56e00b0ae",
   "metadata": {},
   "outputs": [],
   "source": [
    "def saving_big_df(idx, df, df_target, type):\n",
    "    features_list = []\n",
    "    target_list = []\n",
    "    idx_list = []\n",
    "    for i in tqdm(range(len(df))):\n",
    "        q = [df[i] for index in idx[i]]\n",
    "        p = [base[index] for index in idx[i]]\n",
    "        found_index = [index for index in idx[i]]\n",
    "        t = np.array([1 if base_index[index] == df_target.values.tolist()[i] else 0 for index in idx[i]])\n",
    "        target_list.append(t)\n",
    "        features_list.append(np.concatenate((q, p), axis = 1)) \n",
    "        idx_list.append(found_index)\n",
    "        del q\n",
    "        del p\n",
    "        del t\n",
    "    del df    \n",
    "    print('lists created...')\n",
    "    pd.DataFrame(np.concatenate(target_list)).to_csv(PATH + 'target_'+ type + '.csv')\n",
    "    del target_list\n",
    "    print('targets saved...')\n",
    "    pd.DataFrame(np.concatenate(idx_list)).to_csv(PATH + 'faiss_idx_'+ type + '.csv')\n",
    "    del idx_list\n",
    "    print('indexes saved...')\n",
    "    pd.DataFrame(np.concatenate(features_list)).to_csv(PATH + 'all_features_'+ type + '.csv')\n",
    "    del features_list\n",
    "    print('features saved!')"
   ]
  },
  {
   "cell_type": "code",
   "execution_count": 16,
   "id": "5de3cd19-c8e3-4dd8-bf87-ad6ca4c06891",
   "metadata": {},
   "outputs": [],
   "source": [
    "base = np.array(df_base.reset_index(drop=True))\n",
    "train = np.array(df_train.reset_index(drop=True))\n",
    "valid = np.array(df_valid.reset_index(drop=True))"
   ]
  },
  {
   "cell_type": "code",
   "execution_count": 17,
   "id": "077dd8be-7412-40ce-95a2-cf78979b72fa",
   "metadata": {},
   "outputs": [
    {
     "data": {
      "text/plain": [
       "0"
      ]
     },
     "execution_count": 17,
     "metadata": {},
     "output_type": "execute_result"
    }
   ],
   "source": [
    "del df_base\n",
    "del df_train\n",
    "del df_valid\n",
    "gc.collect()"
   ]
  },
  {
   "cell_type": "markdown",
   "id": "7f7083e1-6a11-488a-bcd6-cbb0386a28f4",
   "metadata": {},
   "source": [
    "### train `all-features` saving"
   ]
  },
  {
   "cell_type": "code",
   "execution_count": null,
   "id": "3f831af4-fc78-4b52-8121-e79da9952d69",
   "metadata": {},
   "outputs": [],
   "source": [
    "saving_big_df(idx_train, train, targets_train, 'train')"
   ]
  },
  {
   "cell_type": "markdown",
   "id": "67f50bc6-eed7-499e-9f97-17604ca28623",
   "metadata": {},
   "source": [
    "### valid `all-features` saving"
   ]
  },
  {
   "cell_type": "code",
   "execution_count": 22,
   "id": "a1b0cc00-ea30-492a-9ef5-edc01061d26b",
   "metadata": {},
   "outputs": [
    {
     "data": {
      "application/vnd.jupyter.widget-view+json": {
       "model_id": "d4172d1a29674f78b4c422c592dfe281",
       "version_major": 2,
       "version_minor": 0
      },
      "text/plain": [
       "  0%|          | 0/100000 [00:00<?, ?it/s]"
      ]
     },
     "metadata": {},
     "output_type": "display_data"
    },
    {
     "name": "stdout",
     "output_type": "stream",
     "text": [
      "Lists created\n",
      "targets saved\n",
      "indexes saved\n",
      "features saved\n"
     ]
    }
   ],
   "source": [
    "saving_big_df(idx_valid, valid, targets_valid, 'valid')"
   ]
  },
  {
   "cell_type": "code",
   "execution_count": null,
   "id": "00e7be98-f039-44dc-bf61-d7a5d6525b15",
   "metadata": {},
   "outputs": [],
   "source": []
  },
  {
   "cell_type": "code",
   "execution_count": null,
   "id": "e1596f08-7096-48a1-9083-71123708138f",
   "metadata": {},
   "outputs": [],
   "source": []
  },
  {
   "cell_type": "code",
   "execution_count": null,
   "id": "abc3b940-2bab-43b3-b2d2-7e5b4c3e3ba6",
   "metadata": {},
   "outputs": [],
   "source": []
  },
  {
   "cell_type": "code",
   "execution_count": null,
   "id": "0324ef95-c21b-4049-954a-ac05e42e83d6",
   "metadata": {},
   "outputs": [],
   "source": []
  },
  {
   "cell_type": "code",
   "execution_count": null,
   "id": "d53426a1-6b91-4b1d-9c92-b17c3d64772c",
   "metadata": {},
   "outputs": [],
   "source": []
  },
  {
   "cell_type": "code",
   "execution_count": null,
   "id": "73581aa0-0919-4871-8c9b-0e907f6f60d7",
   "metadata": {},
   "outputs": [],
   "source": []
  },
  {
   "cell_type": "code",
   "execution_count": null,
   "id": "7ad489f0-88c4-41c5-94e2-fcb24fe1f2ad",
   "metadata": {},
   "outputs": [],
   "source": []
  },
  {
   "cell_type": "code",
   "execution_count": null,
   "id": "b5b0f41d-66be-4da1-b114-c0ee49d96b25",
   "metadata": {},
   "outputs": [],
   "source": []
  },
  {
   "cell_type": "code",
   "execution_count": null,
   "id": "71aec961-a280-4a65-9714-a314d58ceff7",
   "metadata": {},
   "outputs": [],
   "source": []
  },
  {
   "cell_type": "code",
   "execution_count": null,
   "id": "d8f4b016-6c37-40ec-abf5-b0d346881e14",
   "metadata": {},
   "outputs": [],
   "source": []
  },
  {
   "cell_type": "code",
   "execution_count": null,
   "id": "0a39a516-cba1-4213-bfbb-5b7eca7e9fed",
   "metadata": {},
   "outputs": [],
   "source": []
  },
  {
   "cell_type": "code",
   "execution_count": null,
   "id": "fbd3355f-45b3-4de0-b73d-58d4520fca8d",
   "metadata": {},
   "outputs": [],
   "source": []
  },
  {
   "cell_type": "code",
   "execution_count": null,
   "id": "2c2bc179-62c1-410c-a774-a396764a247f",
   "metadata": {},
   "outputs": [],
   "source": []
  },
  {
   "cell_type": "code",
   "execution_count": null,
   "id": "0365aafa-3b8f-4f9d-bb68-51066f5b3481",
   "metadata": {},
   "outputs": [],
   "source": []
  },
  {
   "cell_type": "code",
   "execution_count": null,
   "id": "c938cfcb-1639-44f3-93b5-494e1391c5b5",
   "metadata": {},
   "outputs": [],
   "source": []
  },
  {
   "cell_type": "code",
   "execution_count": null,
   "id": "51a264db-f081-426d-8740-55ba6b33c07b",
   "metadata": {},
   "outputs": [],
   "source": []
  },
  {
   "cell_type": "code",
   "execution_count": null,
   "id": "f7cee1de-c25d-4b5d-abf6-4b7c24b3b508",
   "metadata": {},
   "outputs": [],
   "source": []
  },
  {
   "cell_type": "code",
   "execution_count": null,
   "id": "db58435f-a00b-4405-b3a7-a6328e783fe1",
   "metadata": {},
   "outputs": [],
   "source": []
  },
  {
   "cell_type": "code",
   "execution_count": null,
   "id": "df5989f5-9273-46f5-b7b0-1896049614ae",
   "metadata": {},
   "outputs": [],
   "source": []
  },
  {
   "cell_type": "code",
   "execution_count": null,
   "id": "158ac9c7-965e-4e70-8242-c231a640dde4",
   "metadata": {},
   "outputs": [],
   "source": []
  },
  {
   "cell_type": "code",
   "execution_count": null,
   "id": "1401006f-9026-4890-a27b-00695928939c",
   "metadata": {},
   "outputs": [],
   "source": []
  },
  {
   "cell_type": "code",
   "execution_count": null,
   "id": "44bee308-926b-48db-9afa-97e74f4f7bc2",
   "metadata": {},
   "outputs": [],
   "source": []
  },
  {
   "cell_type": "code",
   "execution_count": null,
   "id": "eee74dd7-c28f-4feb-ab71-9ecc9211055a",
   "metadata": {},
   "outputs": [],
   "source": []
  },
  {
   "cell_type": "code",
   "execution_count": null,
   "id": "e2723943-8e5a-4a9e-b1f8-0204898ddad1",
   "metadata": {},
   "outputs": [],
   "source": []
  },
  {
   "cell_type": "code",
   "execution_count": null,
   "id": "66af9c98-7e6b-401e-a68a-e780857c9511",
   "metadata": {},
   "outputs": [],
   "source": []
  },
  {
   "cell_type": "code",
   "execution_count": null,
   "id": "b73f37fa-ca15-4f75-a6f5-08f3be66cdf5",
   "metadata": {},
   "outputs": [],
   "source": []
  },
  {
   "cell_type": "code",
   "execution_count": null,
   "id": "139a339a-1c0e-4094-bccd-be0b67208921",
   "metadata": {},
   "outputs": [],
   "source": []
  },
  {
   "cell_type": "code",
   "execution_count": null,
   "id": "96761bb5-f8cf-47d9-acf1-91f3a6e8124c",
   "metadata": {},
   "outputs": [],
   "source": []
  },
  {
   "cell_type": "code",
   "execution_count": null,
   "id": "8f224850-8908-4a78-a5af-c0dd6780b984",
   "metadata": {},
   "outputs": [],
   "source": []
  },
  {
   "cell_type": "code",
   "execution_count": null,
   "id": "878dcbf4-8bab-4ba0-95df-5f9ffa9dfeb9",
   "metadata": {},
   "outputs": [],
   "source": []
  },
  {
   "cell_type": "code",
   "execution_count": null,
   "id": "47eb556e-e653-48f6-a0d4-d7a80e450917",
   "metadata": {},
   "outputs": [],
   "source": []
  },
  {
   "cell_type": "code",
   "execution_count": null,
   "id": "9c6f365d-9092-4326-a509-e2b794838029",
   "metadata": {},
   "outputs": [],
   "source": []
  },
  {
   "cell_type": "code",
   "execution_count": null,
   "id": "489a9e28-7321-4ea6-b185-8a4b7c780a3f",
   "metadata": {},
   "outputs": [],
   "source": []
  },
  {
   "cell_type": "code",
   "execution_count": null,
   "id": "9818face-2dec-46be-92e6-257044bdfcac",
   "metadata": {},
   "outputs": [],
   "source": []
  },
  {
   "cell_type": "code",
   "execution_count": null,
   "id": "d2b99110-880a-48db-94a5-84ee23ffea2a",
   "metadata": {},
   "outputs": [],
   "source": []
  },
  {
   "cell_type": "code",
   "execution_count": null,
   "id": "da60af1e-b0f8-48b8-98af-be0bd3c1d7b9",
   "metadata": {},
   "outputs": [],
   "source": []
  },
  {
   "cell_type": "code",
   "execution_count": null,
   "id": "1b0520ef-01fb-4c58-96bd-07909352c215",
   "metadata": {},
   "outputs": [],
   "source": []
  },
  {
   "cell_type": "code",
   "execution_count": null,
   "id": "0ff0c7e8-a915-41ce-85bf-e3e1dbba63d1",
   "metadata": {},
   "outputs": [],
   "source": []
  },
  {
   "cell_type": "raw",
   "id": "805a25d6-cc21-4472-acfb-d8689af18bf1",
   "metadata": {},
   "source": [
    "cols = df_base.columns\n",
    "\n",
    "fig = plt.figure(figsize=(15,25))\n",
    "for i in range(len(cols)):\n",
    "    fig.add_subplot(18, 4, i+1)\n",
    "    plt.hist(df_base[cols[i]], bins=50)\n",
    "    #plt.ylabel('Число измерений') \n",
    "    plt.xlabel(cols[i])\n",
    "    plt.tight_layout()\n",
    "    plt.grid(True);    "
   ]
  },
  {
   "cell_type": "code",
   "execution_count": null,
   "id": "aa5b455c-35de-4997-942e-a405d5e891a5",
   "metadata": {},
   "outputs": [],
   "source": []
  },
  {
   "cell_type": "code",
   "execution_count": null,
   "id": "4cf465c7-8b7e-4891-9fc4-aeb2871f0303",
   "metadata": {},
   "outputs": [],
   "source": []
  },
  {
   "cell_type": "code",
   "execution_count": null,
   "id": "2935a025-c9fb-40c5-b69c-d468bd7b9b4d",
   "metadata": {},
   "outputs": [],
   "source": []
  },
  {
   "cell_type": "code",
   "execution_count": null,
   "id": "1bacf6ab-4727-416d-9eea-ca97aabfbf6c",
   "metadata": {},
   "outputs": [],
   "source": []
  },
  {
   "cell_type": "raw",
   "id": "a6480c23-8c66-40b8-b658-407a619b8f3a",
   "metadata": {},
   "source": [
    "plt.figure(figsize=(7,4))\n",
    "plt.hist(df_base['70'], bins=100)\n",
    "#plt.title('Распределение по времени измерения (выше 20000)')\n",
    "#plt.xlabel('Время измерения, сек')\n",
    "#plt.ylabel('Число измерений')\n",
    "plt.grid(True);"
   ]
  },
  {
   "cell_type": "raw",
   "id": "b52f3904-c8a8-4ab0-8687-f23770545084",
   "metadata": {},
   "source": [
    "drop_cols = ['6','21','25','59','65','70']"
   ]
  },
  {
   "cell_type": "raw",
   "id": "ce78b352-49e6-4b92-b90b-406f9430d776",
   "metadata": {},
   "source": [
    "df_base = df_base.drop(drop_cols, axis=1)"
   ]
  },
  {
   "cell_type": "code",
   "execution_count": null,
   "id": "1a722638-e989-4530-8fd3-cfbbdf9a0e60",
   "metadata": {},
   "outputs": [],
   "source": []
  },
  {
   "cell_type": "raw",
   "id": "b72887ae-67eb-440a-9f7b-15357fe00c5f",
   "metadata": {
    "scrolled": true
   },
   "source": [
    "del df_base\n",
    "gc.collect()"
   ]
  },
  {
   "cell_type": "code",
   "execution_count": null,
   "id": "016849bc-423e-46b9-9c1d-70d1df10adc2",
   "metadata": {},
   "outputs": [],
   "source": []
  },
  {
   "cell_type": "markdown",
   "id": "08cb5ce5-8eb3-42cc-a2f7-ca1bba8d0a1d",
   "metadata": {},
   "source": [
    "### Create index"
   ]
  },
  {
   "cell_type": "raw",
   "id": "2d52d837-7b0a-4b4c-a874-b4f0349c4747",
   "metadata": {},
   "source": [
    "res = faiss.StandardGpuResources()\n",
    "res"
   ]
  },
  {
   "cell_type": "raw",
   "id": "45052ce4-5a12-4c6f-821a-ef6c9323ffb9",
   "metadata": {},
   "source": []
  },
  {
   "cell_type": "code",
   "execution_count": null,
   "id": "35a89581-c09f-4530-96db-9ca5ab836d45",
   "metadata": {},
   "outputs": [],
   "source": []
  },
  {
   "cell_type": "raw",
   "id": "2edfadcc-6132-4f3b-b233-d56d154142a9",
   "metadata": {},
   "source": [
    "dims = df_base.shape[1]\n",
    "n_cells = 7 # how many cells\n",
    "n_neigbours = 20\n",
    "quantizer = faiss.IndexFlatL2(dims)\n",
    "idx_l2 = faiss.IndexIVFFlat(quantizer, dims, n_cells)"
   ]
  },
  {
   "cell_type": "raw",
   "id": "53af322a-b85b-41a5-aca5-34a1c7215a26",
   "metadata": {},
   "source": [
    "idx_clust = faiss.index_cpu_to_gpu(res, 0, idx_l2)"
   ]
  },
  {
   "cell_type": "raw",
   "id": "11ab7134-c933-4c8b-8ba1-5769e97d519f",
   "metadata": {},
   "source": [
    "idx_l2.train(np.ascontiguousarray(df_base).astype('float32'))\n",
    "\n",
    "idx_l2.add(np.ascontiguousarray(df_base.values).astype('float32'))"
   ]
  },
  {
   "cell_type": "raw",
   "id": "30e83f0e-418d-482d-8e29-d22cec9a21c7",
   "metadata": {},
   "source": [
    "base_index = {k: v for k, v in enumerate(df_base.index.to_list())}\n",
    "\n",
    "#del df_base"
   ]
  },
  {
   "cell_type": "raw",
   "id": "a9b92403-5502-4d78-a42e-e7be4d492ad9",
   "metadata": {},
   "source": []
  },
  {
   "cell_type": "markdown",
   "id": "fce1efd2-e243-4445-9dae-abd65e0b9cab",
   "metadata": {},
   "source": [
    "# Train"
   ]
  },
  {
   "cell_type": "raw",
   "id": "41154e69-d2b9-428f-b667-e2111f51e124",
   "metadata": {},
   "source": [
    "df_train = pd.read_csv(PATH + 'train.csv', index_col=0)\n",
    "#df_train.head()\n"
   ]
  },
  {
   "cell_type": "raw",
   "id": "e7c8476e-9f50-4d9a-821f-bdd3f852cc15",
   "metadata": {},
   "source": [
    "targets = df_train[\"Target\"]\n",
    "df_train.drop(\"Target\", axis=1, inplace=True)"
   ]
  },
  {
   "cell_type": "raw",
   "id": "25d4538f-dad7-41fe-b2e9-3744b7ad53ad",
   "metadata": {},
   "source": [
    "idx_l2.nprobe\n",
    "idx_l2.nprobe = 3"
   ]
  },
  {
   "cell_type": "raw",
   "id": "d7b659bd-650a-4ed5-aa70-d1cc35f17571",
   "metadata": {},
   "source": [
    "start = time.time()\n",
    "vecs, idx = idx_l2.search(np.ascontiguousarray(df_train.values).astype('float32'), n_neigbours)\n",
    "print('search took {}'.format(time.time() - start))"
   ]
  },
  {
   "cell_type": "raw",
   "id": "0b504199-9646-4501-9481-d44fcf594389",
   "metadata": {},
   "source": [
    "start = time.time()\n",
    "vecs, idx = idx_l2.search(np.ascontiguousarray(df_train.values).astype('float32'), n_neigbours)\n",
    "print('search took {}'.format(time.time() - start))"
   ]
  },
  {
   "cell_type": "raw",
   "id": "df3ed027-4591-411d-abf0-99b275c62418",
   "metadata": {},
   "source": [
    "base_index = {k: v for k, v in enumerate(df_base.index.to_list())}"
   ]
  },
  {
   "cell_type": "raw",
   "id": "98e1d15a-7979-4291-b287-e739e5b927bc",
   "metadata": {},
   "source": [
    "start = time.time()\n",
    "\n",
    "acc = 0\n",
    "\n",
    "#dx_list = np.zeros(len(targets))\n",
    "#n=0\n",
    "for target, el in zip(targets.values.tolist(), idx.tolist()):\n",
    "    acc += int(target in [base_index[r] for r in el])\n",
    "\n",
    "    #n  +=1\n",
    "    #if target in [base_index[r] for r in el]:\n",
    "    #    idx_list[n] = 1\n",
    "    #    acc +=1\n",
    "    #n+=1\n",
    "        #y_train.append(el)\n",
    "print('search took {}'.format(time.time() - start))\n",
    "\n",
    "print('neighbours found: {} %'.format(100 * acc / len(idx)))"
   ]
  },
  {
   "cell_type": "raw",
   "id": "6ce06668-8d51-40a6-982f-4e43a3a670bc",
   "metadata": {},
   "source": [
    "len(idx_list)"
   ]
  },
  {
   "cell_type": "raw",
   "id": "5c48c210-fc7e-4f85-81c6-4c6ad66e487a",
   "metadata": {},
   "source": [
    "targets.values.tolist()[3453]"
   ]
  },
  {
   "cell_type": "raw",
   "id": "a5e4a6b9-fcc7-4e0f-aa4a-e5edba443300",
   "metadata": {},
   "source": []
  },
  {
   "cell_type": "code",
   "execution_count": null,
   "id": "5b36d21c-55f2-469f-96a0-908e09e546b4",
   "metadata": {},
   "outputs": [],
   "source": []
  },
  {
   "cell_type": "raw",
   "id": "fa751f26-d619-44b6-aba0-134935ad2b5c",
   "metadata": {},
   "source": [
    "gc.collect()"
   ]
  },
  {
   "cell_type": "raw",
   "id": "0f0bc5fc-01c3-47fb-8689-90765818e3b1",
   "metadata": {},
   "source": [
    "base = np.array(df_base.reset_index(drop=True))\n",
    "train = np.array(df_train.reset_index(drop=True))"
   ]
  },
  {
   "cell_type": "raw",
   "id": "9e7e620a-5264-44f1-8415-2c3cd6e7ebe7",
   "metadata": {},
   "source": [
    "del df_base\n",
    "gc.collect()\n",
    "del df_train\n",
    "gc.collect()"
   ]
  },
  {
   "cell_type": "markdown",
   "id": "fa88a9ba-506d-4d64-a025-ec0b88bdef47",
   "metadata": {},
   "source": [
    "## Train 1st model"
   ]
  },
  {
   "cell_type": "raw",
   "id": "2481795d-8817-4ca8-9974-6dcb5e8fc1ca",
   "metadata": {},
   "source": [
    "df_list = []\n",
    "target_list = []\n",
    "idx_list = []\n",
    "for i in tqdm(range(len(train)):\n",
    "    q = [train[i] for index in idx[i]]\n",
    "    p = [base[index] for index in idx[i]]\n",
    "    found_index = [index for index in idx[i]]\n",
    "    t = np.array([1 if base_index[index] == targets.values.tolist()[i] else 0 for index in idx[i]])\n",
    "    target_list.append(t)\n",
    "    df_list.append(np.concatenate((q, p), axis = 1)) \n",
    "    idx_list.append(found_index)\n",
    "    del q\n",
    "    del p\n",
    "    del t    "
   ]
  },
  {
   "cell_type": "raw",
   "id": "763e0f92-adbb-444e-9f9b-787a77d8d733",
   "metadata": {},
   "source": [
    "pd.DataFrame(np.concatenate(target_list)).to_csv(PATH + 'target_train.csv')\n",
    "del target_list"
   ]
  },
  {
   "cell_type": "raw",
   "id": "aba4c44e-4c9d-457c-a5b6-96f06f3d00a9",
   "metadata": {},
   "source": [
    "pd.DataFrame(np.concatenate(df_list)).to_csv(PATH + 'all_features_train.csv')\n",
    "del df_list\n"
   ]
  },
  {
   "cell_type": "raw",
   "id": "84e1500b-5bf1-4ea3-b3f6-1cfc8ec10988",
   "metadata": {},
   "source": [
    "pd.DataFrame(np.concatenate(idx_list)).to_csv(PATH + 'faiss_idx_train.csv')"
   ]
  },
  {
   "cell_type": "raw",
   "id": "de84395e-a86b-4454-a74d-88dde46f0891",
   "metadata": {},
   "source": [
    "del idx_list\n"
   ]
  },
  {
   "cell_type": "raw",
   "id": "e2d6cf51-144e-435e-8c9a-366973cbe85a",
   "metadata": {},
   "source": [
    "pd.DataFrame(np.concatenate(df_list))"
   ]
  },
  {
   "cell_type": "code",
   "execution_count": null,
   "id": "c003bc4f-944d-47d0-96dd-3073d12687e7",
   "metadata": {},
   "outputs": [],
   "source": []
  },
  {
   "cell_type": "code",
   "execution_count": null,
   "id": "aea66274-8044-467a-8b87-744f9c3c88a6",
   "metadata": {},
   "outputs": [],
   "source": []
  },
  {
   "cell_type": "code",
   "execution_count": null,
   "id": "e5a7c43c-e52c-4ff2-ba7c-6ac9dad62e9f",
   "metadata": {},
   "outputs": [],
   "source": []
  },
  {
   "cell_type": "code",
   "execution_count": null,
   "id": "20eb7769-b255-41db-9f9b-8388949e8ed2",
   "metadata": {},
   "outputs": [],
   "source": []
  },
  {
   "cell_type": "code",
   "execution_count": null,
   "id": "948dce34-4810-4d11-81b5-56b1c88d7854",
   "metadata": {},
   "outputs": [],
   "source": []
  },
  {
   "cell_type": "raw",
   "id": "b1650049-3991-413f-a908-edfadc046ac4",
   "metadata": {},
   "source": [
    "y = np.array(np.concatenate(target_list))\n",
    "X = np.array(np.concatenate(df_list))"
   ]
  },
  {
   "cell_type": "raw",
   "id": "8132c27c-4f40-45bd-a7ad-8a31a644c7d5",
   "metadata": {},
   "source": [
    "pd.DataFrame(q)"
   ]
  },
  {
   "cell_type": "raw",
   "id": "72b9c094-dd87-42e7-b4e7-c9677f68bad5",
   "metadata": {},
   "source": [
    "del target\n",
    "gc.collect()\n",
    "del df_list\n",
    "gc.collect()"
   ]
  },
  {
   "cell_type": "raw",
   "id": "5baa5ad6-50b6-42bf-9f11-27abb9765a67",
   "metadata": {},
   "source": [
    "X_train, X_test, y_train, y_test = train_test_split(X, y, \n",
    "                                                    test_size=0.2,                         \n",
    "                                                    random_state=42,\n",
    "                                                   stratify=y)"
   ]
  },
  {
   "cell_type": "raw",
   "id": "6d46b757-d9d7-4b5f-88eb-f06fa932c8ea",
   "metadata": {},
   "source": [
    "print(X_train.shape)\n",
    "print(X_test.shape)"
   ]
  },
  {
   "cell_type": "raw",
   "id": "427a3463-69d0-46fe-b055-4f757fb7a578",
   "metadata": {},
   "source": []
  },
  {
   "cell_type": "raw",
   "id": "b798cf05-512f-470c-a6db-c49eaa680a8c",
   "metadata": {},
   "source": [
    "model = CatBoostClassifier(verbose=200)\n",
    "model.fit(X_train, y_train)"
   ]
  },
  {
   "cell_type": "raw",
   "id": "df34dfd3-cf54-4f5f-b963-ee987a4ae617",
   "metadata": {},
   "source": [
    "pred = model.predict(X_test)\n",
    "precision_score(y_test, pred)"
   ]
  },
  {
   "cell_type": "raw",
   "id": "7c1123f2-8f60-4869-8222-3e5567597100",
   "metadata": {},
   "source": [
    "prob = model.predict_proba(X)[:, 1]\n",
    "prob"
   ]
  },
  {
   "cell_type": "raw",
   "id": "ed163a47-d3ec-4d01-90b6-a092919b0f3b",
   "metadata": {},
   "source": [
    "pd.DataFrame(prob[:, 1])"
   ]
  },
  {
   "cell_type": "raw",
   "id": "75387f25-5f08-47e1-9887-c634340d3e4a",
   "metadata": {},
   "source": [
    "pd.DataFrame(X)[3:6]"
   ]
  },
  {
   "cell_type": "raw",
   "id": "b9462fc8-286f-413d-b35a-3fa3ee30bda8",
   "metadata": {},
   "source": [
    "X['prob'] = prob"
   ]
  },
  {
   "cell_type": "raw",
   "id": "1b51f6c8-f5bc-4a39-88ca-7b85444adb65",
   "metadata": {},
   "source": [
    "((prob[n_neigbours*3:n_neigbours*4]))"
   ]
  },
  {
   "cell_type": "raw",
   "id": "96959612-c9c9-4954-b069-1fc49f634fca",
   "metadata": {},
   "source": [
    "np.sort((prob[n_neigbours*3:n_neigbours*4]))"
   ]
  },
  {
   "cell_type": "raw",
   "id": "c9260694-d132-4032-aa40-58c721ba1811",
   "metadata": {},
   "source": [
    "q = []\n",
    "p = []\n",
    "for k in range((len(pred)// n_neigbours)):\n",
    "    #print()\n",
    "    #print((prob[n_neigbours*k:n_neigbours*(k+1)][-5:]))\n",
    "    #p = [p for p in (prob[n_neigbours*k:n_neigbours*(k+1)][-5:])]\n",
    "    #q = [x for x in (X[n_neigbours*k:n_neigbours*(k+1)][-5:])]\n",
    "    p.append(prob[n_neigbours*k:n_neigbours*(k+1)][-5:])\n",
    "    q.append(X[n_neigbours*k:n_neigbours*(k+1)][-5:]) \n",
    "    #print(X)"
   ]
  },
  {
   "cell_type": "code",
   "execution_count": null,
   "id": "9f2931da-7f19-4787-ab6f-0ccfc4f0dbe6",
   "metadata": {},
   "outputs": [],
   "source": [
    "del q"
   ]
  },
  {
   "cell_type": "raw",
   "id": "90a0f8a1-ae21-485f-be4e-ac21bee57e1e",
   "metadata": {},
   "source": []
  },
  {
   "cell_type": "raw",
   "id": "a172e2e5-b3a4-4edc-b5f4-84f370ae3c2b",
   "metadata": {},
   "source": [
    "X[n_neigbours:n_neigbours*2][-5:]"
   ]
  },
  {
   "cell_type": "raw",
   "id": "d3794339-3348-4928-9ada-7987653f9adf",
   "metadata": {},
   "source": [
    "pd.DataFrame(np.concatenate(q)).head(15)"
   ]
  },
  {
   "cell_type": "code",
   "execution_count": null,
   "id": "495adccc-c8da-47dd-b9fc-59d81737c1ae",
   "metadata": {},
   "outputs": [],
   "source": []
  },
  {
   "cell_type": "code",
   "execution_count": null,
   "id": "a3548d07-01b3-499b-8e78-1bd5be5d379e",
   "metadata": {},
   "outputs": [],
   "source": []
  },
  {
   "cell_type": "raw",
   "id": "91fed896-ecd5-4f3e-815c-8641e851a9a3",
   "metadata": {},
   "source": [
    "start = time.time()\n",
    "\n",
    "acc = 0\n",
    "idx_list = np.zeros(len(targets))\n",
    "n=0\n",
    "for target, el in zip(targets.values.tolist(), idx.tolist()):\n",
    "    #acc += int(target in [base_index[r] for r in el])\n",
    "    #n  +=1\n",
    "    if target in [base_index[r] for r in el]:\n",
    "        idx_list[n] = 1\n",
    "        acc +=1\n",
    "    n+=1\n",
    "        #y_train.append(el)\n",
    "print('search took {}'.format(time.time() - start))\n",
    "\n",
    "print('neighbours found: {} %'.format(100 * acc / len(idx)))\n",
    "el"
   ]
  },
  {
   "cell_type": "markdown",
   "id": "1f6ac056-1ddb-40cd-8597-0c4dd4da8682",
   "metadata": {},
   "source": []
  },
  {
   "cell_type": "raw",
   "id": "b1dcc943-76e3-4d15-a494-d0075d76a4fa",
   "metadata": {},
   "source": [
    "idx_listidx_list.tolist()"
   ]
  },
  {
   "cell_type": "raw",
   "id": "cc64eb76-8978-430e-bb50-670cc0007c9d",
   "metadata": {},
   "source": [
    "plt.figure(figsize=(3,3))\n",
    "class_frequency = pd.Series(idx_list.astype(int)).value_counts(normalize=True)\n",
    "print(class_frequency)\n",
    "class_frequency.plot(kind='bar');  "
   ]
  },
  {
   "cell_type": "raw",
   "id": "af68c4f0-bf6d-4a5d-a57d-ce273c4dad71",
   "metadata": {},
   "source": [
    "X_train, X_test, y_train, y_test = train_test_split(df_train.reset_index(drop=True), pd.Series(idx_list.astype(int)), \n",
    "                                                    test_size=0.2, \n",
    "                                                    random_state=42,\n",
    "                                                   stratify=idx_list)\n",
    "print(X_train.shape)\n",
    "print(X_test.shape)"
   ]
  },
  {
   "cell_type": "markdown",
   "id": "de05e536-6db0-4a64-b1ab-384e26d40f9e",
   "metadata": {},
   "source": [
    "### Predictions & Metrics"
   ]
  },
  {
   "cell_type": "raw",
   "id": "a60665ad-6c54-4dc2-ab5c-0ac10eac6020",
   "metadata": {},
   "source": [
    "model = CatBoostClassifier(verbose=200, iterations=2000, depth=9)\n",
    "model.fit(X_train, y_train)\n",
    "pred = model.predict(X_test)\n",
    "accuracy_score(y_test, pred)"
   ]
  },
  {
   "cell_type": "raw",
   "id": "2b13267f-7d94-4502-913a-670de1595261",
   "metadata": {},
   "source": [
    "scores_list = []"
   ]
  },
  {
   "cell_type": "raw",
   "id": "8e106fed-95f8-4ce5-a94a-82dea09fe7a9",
   "metadata": {},
   "source": [
    "model_lr = LogisticRegression()\n",
    "scores_lr = cross_val_score(model_lr, df_train.reset_index(drop=True), \n",
    "                            pd.Series(idx_list.astype(int)), cv=4, scoring='accuracy')\n"
   ]
  },
  {
   "cell_type": "raw",
   "id": "59fde1b9-3baa-4233-9dc9-3122a38ff6ea",
   "metadata": {},
   "source": [
    "score = round(scores_lr.mean(),3)\n",
    "scores_list.append(score)\n",
    "score"
   ]
  },
  {
   "cell_type": "raw",
   "id": "115a2b75-ec6b-4c25-a11e-6977299f4ea2",
   "metadata": {},
   "source": [
    "model_dt = DecisionTreeClassifier(max_depth=9, min_samples_leaf=5, min_samples_split=6)\n",
    "\n",
    "scores_dt = cross_val_score(model_dt, df_train.reset_index(drop=True), \n",
    "                            pd.Series(idx_list.astype(int)), cv=4, scoring='accuracy')\n"
   ]
  },
  {
   "cell_type": "raw",
   "id": "ea735016-2ad4-409d-81ad-af614983c728",
   "metadata": {},
   "source": [
    "score = round(scores_dt.mean(),3)\n",
    "scores_list.append(score)\n",
    "score"
   ]
  },
  {
   "cell_type": "raw",
   "id": "0b7bc75e-496d-45ce-9be3-e55100a1a060",
   "metadata": {},
   "source": [
    "model_rf = RandomForestClassifier(n_estimators=25, max_depth=11, min_samples_split=8,min_samples_leaf=1)\n",
    "\n",
    "scores_rf = cross_val_score(model_rf, df_train.reset_index(drop=True), \n",
    "                            pd.Series(idx_list.astype(int)), cv=4, scoring='accuracy')\n"
   ]
  },
  {
   "cell_type": "raw",
   "id": "e1e54cc3-d9fb-4981-aff4-f68c1881c7a7",
   "metadata": {},
   "source": [
    "score = round(scores_rf.mean(),3)\n",
    "scores_list.append(score)\n",
    "score"
   ]
  },
  {
   "cell_type": "raw",
   "id": "e44ec4c6-0d53-4285-85aa-b741d9778f38",
   "metadata": {},
   "source": [
    "model_lgbm = RandomForestClassifier(n_estimators=115, max_depth=10)\n",
    "\n",
    "scores_lgbm = cross_val_score(model_lgbm, df_train.reset_index(drop=True), \n",
    "                            pd.Series(idx_list.astype(int)), cv=4, scoring='accuracy')\n"
   ]
  },
  {
   "cell_type": "raw",
   "id": "f47b2074-e4c4-485d-9322-f52283cc3a5e",
   "metadata": {},
   "source": [
    "score = round(scores_lgbm.mean(),3)\n",
    "scores_list.append(score)\n",
    "score"
   ]
  },
  {
   "cell_type": "code",
   "execution_count": null,
   "id": "e2c6fcba-c1d7-40e9-93d9-df076489974f",
   "metadata": {},
   "outputs": [],
   "source": []
  },
  {
   "cell_type": "raw",
   "id": "1b5804ad-4387-430a-bf4a-e7290ac3373e",
   "metadata": {},
   "source": [
    "model_cb = CatBoostClassifier(verbose=200, iterations=200, depth=3)\n",
    "\n",
    "scores_cb = cross_val_score(model_cb, df_train.reset_index(drop=True), \n",
    "                            pd.Series(idx_list.astype(int)), cv=4, scoring='accuracy')\n"
   ]
  },
  {
   "cell_type": "raw",
   "id": "7927bd43-2172-4615-8656-0fe8244cb844",
   "metadata": {},
   "source": [
    "score = round(scores_cb.mean(),3)\n",
    "scores_list.append(score)\n",
    "score"
   ]
  },
  {
   "cell_type": "raw",
   "id": "76dfa9a5-dce7-42a1-bdf1-2afe612e1054",
   "metadata": {},
   "source": [
    "scores_list"
   ]
  },
  {
   "cell_type": "raw",
   "id": "0b705faf-92ff-496e-87ec-1c35830abf03",
   "metadata": {},
   "source": [
    "metrics ={'accuracy': scores_list}\n",
    "cols = ['Log Reg','Dec Tree','Rand Forest','LGBM','CatBoost']\n",
    "pd.DataFrame(data=metrics, index=cols).sort_values(by='accuracy', ascending=False)"
   ]
  },
  {
   "cell_type": "markdown",
   "id": "67cd0475-9c8a-4f7f-8328-c56acca0d8b3",
   "metadata": {},
   "source": [
    "## Validation"
   ]
  },
  {
   "cell_type": "raw",
   "id": "6b467cae-aa11-4b5d-824d-da7d298ac1ca",
   "metadata": {},
   "source": [
    "df_valid = pd.read_csv(PATH + 'validation.csv', index_col=0)\n",
    "df_valid.head()"
   ]
  },
  {
   "cell_type": "raw",
   "id": "c4c213bd-2f42-4074-a782-b05e2eb8eabe",
   "metadata": {},
   "source": [
    "valid_targets = pd.read_csv(PATH + 'validation_answer.csv', index_col=0)\n",
    "valid_targets.head()"
   ]
  },
  {
   "cell_type": "raw",
   "id": "895b0494-1fe4-4717-9384-894f5cb3dbfb",
   "metadata": {},
   "source": [
    "dims = df_base.shape[1]\n",
    "n_cells = 7 # how many cells\n",
    "quantizer = faiss.IndexFlatL2(dims)\n",
    "idx_l2 = faiss.IndexIVFFlat(quantizer, dims, n_cells)"
   ]
  },
  {
   "cell_type": "raw",
   "id": "5384f3b9-d23e-4e47-acab-8cbe1b6f375b",
   "metadata": {},
   "source": [
    "idx_l2.train(np.ascontiguousarray(df_base).astype('float32'))\n",
    "\n",
    "idx_l2.add(np.ascontiguousarray(df_base.values).astype('float32'))"
   ]
  },
  {
   "cell_type": "raw",
   "id": "709ba331-1f0a-4406-9f2c-26f4a2f0059d",
   "metadata": {},
   "source": [
    "base_index = {k: v for k, v in enumerate(df_base.index.to_list())}"
   ]
  },
  {
   "cell_type": "raw",
   "id": "a0e41534-8f8b-4e8b-9aca-2ea3a75efe82",
   "metadata": {},
   "source": [
    "start = time.time()\n",
    "vecs, idx = idx_l2.search(np.ascontiguousarray(df_valid.values).astype('float32'), n_neigbours)\n",
    "print('search took {}'.format(time.time() - start))"
   ]
  },
  {
   "cell_type": "raw",
   "id": "474f8605-7419-47f4-97be-cd656359be1d",
   "metadata": {},
   "source": [
    "vecs"
   ]
  },
  {
   "cell_type": "raw",
   "id": "9282bdf5-16fe-4097-965b-fafdbf768317",
   "metadata": {},
   "source": [
    "idx"
   ]
  },
  {
   "cell_type": "raw",
   "id": "e9104175-e3ec-4cb5-8cd8-e0373cb9b153",
   "metadata": {},
   "source": [
    "start = time.time()\n",
    "acc = 0\n",
    "\n",
    "idx_list_valid = np.zeros(len(valid_targets))\n",
    "n=0\n",
    "for target, el in zip(valid_targets.values.tolist(), idx.tolist()):\n",
    "    #acc += int(target in [base_index[r] for r in el])\n",
    "    #n  +=1\n",
    "    if target in [base_index[r] for r in el]:\n",
    "        idx_list_valid[n] = 1\n",
    "        acc +=1\n",
    "    n+=1\n",
    "        #y_train.append(el)\n",
    "print('search took {}'.format(time.time() - start))\n",
    "\n",
    "print('neighbours found: {} %'.format(100 * acc / len(idx)))"
   ]
  },
  {
   "cell_type": "raw",
   "id": "2d79a44b-9a0d-446d-93ee-7a162a5cb7e9",
   "metadata": {},
   "source": [
    "X_valid = df_valid.reset_index(drop=True)\n",
    "y_valid = idx_list_valid"
   ]
  },
  {
   "cell_type": "raw",
   "id": "e9893e70-0267-45d6-b12a-8d3de72add88",
   "metadata": {},
   "source": [
    "model_cb.fit(df_train.reset_index(drop=True), \n",
    "                            pd.Series(idx_list.astype(int)))"
   ]
  },
  {
   "cell_type": "raw",
   "id": "45db8eed-b4b8-4b4f-a980-2a65c17994fc",
   "metadata": {},
   "source": [
    "y_valid_pred = model_cb.predict(X_valid)"
   ]
  },
  {
   "cell_type": "raw",
   "id": "da2a3ec9-e5dd-42e3-8660-f1146c23cec2",
   "metadata": {},
   "source": [
    "y_valid_pred"
   ]
  },
  {
   "cell_type": "raw",
   "id": "52ee2f05-2ce3-487e-bebb-ac29ccc432d9",
   "metadata": {},
   "source": [
    "pd.Series(y_valid_pred.astype(int)).unique()"
   ]
  },
  {
   "cell_type": "raw",
   "id": "efcc10b4-d6b5-4543-9b69-fa4cc68c9521",
   "metadata": {},
   "source": [
    "plt.figure(figsize=(3,3))\n",
    "class_frequency = pd.Series(y_valid_pred.astype(int)).value_counts(normalize=True)\n",
    "print(class_frequency)\n",
    "class_frequency.plot(kind='bar');  "
   ]
  },
  {
   "cell_type": "code",
   "execution_count": null,
   "id": "cc3f8f1e-774a-4756-a2fc-2f19eb4215bc",
   "metadata": {},
   "outputs": [],
   "source": []
  },
  {
   "cell_type": "code",
   "execution_count": null,
   "id": "f0fedbf2-3a4f-45dc-8930-b988bc964267",
   "metadata": {},
   "outputs": [],
   "source": []
  },
  {
   "cell_type": "code",
   "execution_count": null,
   "id": "30463d5a-b587-4543-a8a7-c2fb08cfb8f5",
   "metadata": {},
   "outputs": [],
   "source": []
  },
  {
   "cell_type": "code",
   "execution_count": null,
   "id": "be158921-0164-4c51-891d-718455934114",
   "metadata": {},
   "outputs": [],
   "source": [
    "bb"
   ]
  }
 ],
 "metadata": {
  "kernelspec": {
   "display_name": "Python 3 (ipykernel)",
   "language": "python",
   "name": "python3"
  },
  "language_info": {
   "codemirror_mode": {
    "name": "ipython",
    "version": 3
   },
   "file_extension": ".py",
   "mimetype": "text/x-python",
   "name": "python",
   "nbconvert_exporter": "python",
   "pygments_lexer": "ipython3",
   "version": "3.10.6"
  }
 },
 "nbformat": 4,
 "nbformat_minor": 5
}
