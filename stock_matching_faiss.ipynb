{
 "cells": [
  {
   "cell_type": "code",
   "execution_count": 1,
   "id": "424e17cb-ae43-475d-bd00-a3bb36a51cb5",
   "metadata": {},
   "outputs": [],
   "source": [
    "import pandas as pd\n",
    "import numpy as np\n",
    "import faiss\n",
    "import time\n",
    "import matplotlib.pyplot as plt\n",
    "import warnings\n",
    "import gc\n",
    "\n",
    "from tqdm.notebook import tqdm\n",
    "\n",
    "warnings.simplefilter(\"ignore\", UserWarning)\n",
    "\n",
    "PATH = '/home/mglz/projects/master/stock_matching/data/'"
   ]
  },
  {
   "cell_type": "raw",
   "id": "a827b84d-e9eb-4a32-ba5f-1790f1b329e3",
   "metadata": {},
   "source": [
    "import torch\n",
    "\n",
    "device = torch.device(\"cuda\")"
   ]
  },
  {
   "cell_type": "raw",
   "id": "c077f30c-6f45-47ae-a462-26cad6460986",
   "metadata": {},
   "source": [
    "device"
   ]
  },
  {
   "cell_type": "markdown",
   "id": "ea67f7f3-16eb-45e8-a14d-bd4814accf32",
   "metadata": {},
   "source": [
    "# Load data"
   ]
  },
  {
   "cell_type": "markdown",
   "id": "3d3dae3c-36f6-42c0-8d9e-9b0fc377e12e",
   "metadata": {},
   "source": [
    "## Base"
   ]
  },
  {
   "cell_type": "markdown",
   "id": "3eb9d043-5d0b-47b7-bff1-82395794b958",
   "metadata": {},
   "source": [
    "### Base dataset"
   ]
  },
  {
   "cell_type": "code",
   "execution_count": 2,
   "id": "9137b16a-b95a-4346-8e9c-252159558b82",
   "metadata": {
    "scrolled": true
   },
   "outputs": [
    {
     "data": {
      "text/html": [
       "<div>\n",
       "<style scoped>\n",
       "    .dataframe tbody tr th:only-of-type {\n",
       "        vertical-align: middle;\n",
       "    }\n",
       "\n",
       "    .dataframe tbody tr th {\n",
       "        vertical-align: top;\n",
       "    }\n",
       "\n",
       "    .dataframe thead th {\n",
       "        text-align: right;\n",
       "    }\n",
       "</style>\n",
       "<table border=\"1\" class=\"dataframe\">\n",
       "  <thead>\n",
       "    <tr style=\"text-align: right;\">\n",
       "      <th></th>\n",
       "      <th>0</th>\n",
       "      <th>1</th>\n",
       "      <th>2</th>\n",
       "      <th>3</th>\n",
       "      <th>4</th>\n",
       "      <th>5</th>\n",
       "      <th>6</th>\n",
       "      <th>7</th>\n",
       "      <th>8</th>\n",
       "      <th>9</th>\n",
       "      <th>...</th>\n",
       "      <th>62</th>\n",
       "      <th>63</th>\n",
       "      <th>64</th>\n",
       "      <th>65</th>\n",
       "      <th>66</th>\n",
       "      <th>67</th>\n",
       "      <th>68</th>\n",
       "      <th>69</th>\n",
       "      <th>70</th>\n",
       "      <th>71</th>\n",
       "    </tr>\n",
       "    <tr>\n",
       "      <th>Id</th>\n",
       "      <th></th>\n",
       "      <th></th>\n",
       "      <th></th>\n",
       "      <th></th>\n",
       "      <th></th>\n",
       "      <th></th>\n",
       "      <th></th>\n",
       "      <th></th>\n",
       "      <th></th>\n",
       "      <th></th>\n",
       "      <th></th>\n",
       "      <th></th>\n",
       "      <th></th>\n",
       "      <th></th>\n",
       "      <th></th>\n",
       "      <th></th>\n",
       "      <th></th>\n",
       "      <th></th>\n",
       "      <th></th>\n",
       "      <th></th>\n",
       "      <th></th>\n",
       "    </tr>\n",
       "  </thead>\n",
       "  <tbody>\n",
       "    <tr>\n",
       "      <th>0-base</th>\n",
       "      <td>-115.083890</td>\n",
       "      <td>11.152912</td>\n",
       "      <td>-64.426760</td>\n",
       "      <td>-118.88089</td>\n",
       "      <td>216.482440</td>\n",
       "      <td>-104.698060</td>\n",
       "      <td>-469.070588</td>\n",
       "      <td>44.348083</td>\n",
       "      <td>120.915344</td>\n",
       "      <td>181.449700</td>\n",
       "      <td>...</td>\n",
       "      <td>-42.808693</td>\n",
       "      <td>38.800827</td>\n",
       "      <td>-151.76218</td>\n",
       "      <td>-74.389090</td>\n",
       "      <td>63.66634</td>\n",
       "      <td>-4.703861</td>\n",
       "      <td>92.933610</td>\n",
       "      <td>115.269190</td>\n",
       "      <td>-112.756640</td>\n",
       "      <td>-60.830353</td>\n",
       "    </tr>\n",
       "    <tr>\n",
       "      <th>1-base</th>\n",
       "      <td>-34.562202</td>\n",
       "      <td>13.332763</td>\n",
       "      <td>-69.787610</td>\n",
       "      <td>-166.53348</td>\n",
       "      <td>57.680607</td>\n",
       "      <td>-86.098370</td>\n",
       "      <td>-85.076666</td>\n",
       "      <td>-35.637436</td>\n",
       "      <td>119.718636</td>\n",
       "      <td>195.234190</td>\n",
       "      <td>...</td>\n",
       "      <td>-117.767525</td>\n",
       "      <td>41.100000</td>\n",
       "      <td>-157.82940</td>\n",
       "      <td>-94.446806</td>\n",
       "      <td>68.20211</td>\n",
       "      <td>24.346846</td>\n",
       "      <td>179.937930</td>\n",
       "      <td>116.834000</td>\n",
       "      <td>-84.888941</td>\n",
       "      <td>-59.524610</td>\n",
       "    </tr>\n",
       "    <tr>\n",
       "      <th>2-base</th>\n",
       "      <td>-54.233746</td>\n",
       "      <td>6.379371</td>\n",
       "      <td>-29.210136</td>\n",
       "      <td>-133.41383</td>\n",
       "      <td>150.895830</td>\n",
       "      <td>-99.435326</td>\n",
       "      <td>52.554795</td>\n",
       "      <td>62.381706</td>\n",
       "      <td>128.951450</td>\n",
       "      <td>164.381470</td>\n",
       "      <td>...</td>\n",
       "      <td>-76.397800</td>\n",
       "      <td>46.011803</td>\n",
       "      <td>-207.14442</td>\n",
       "      <td>127.325570</td>\n",
       "      <td>65.56618</td>\n",
       "      <td>66.325680</td>\n",
       "      <td>81.073490</td>\n",
       "      <td>116.594154</td>\n",
       "      <td>-1074.464888</td>\n",
       "      <td>-32.527206</td>\n",
       "    </tr>\n",
       "    <tr>\n",
       "      <th>3-base</th>\n",
       "      <td>-87.520130</td>\n",
       "      <td>4.037884</td>\n",
       "      <td>-87.803030</td>\n",
       "      <td>-185.06763</td>\n",
       "      <td>76.369540</td>\n",
       "      <td>-58.985165</td>\n",
       "      <td>-383.182845</td>\n",
       "      <td>-33.611237</td>\n",
       "      <td>122.031910</td>\n",
       "      <td>136.233580</td>\n",
       "      <td>...</td>\n",
       "      <td>-70.647940</td>\n",
       "      <td>-6.358921</td>\n",
       "      <td>-147.20105</td>\n",
       "      <td>-37.692750</td>\n",
       "      <td>66.20289</td>\n",
       "      <td>-20.566910</td>\n",
       "      <td>137.206940</td>\n",
       "      <td>117.474100</td>\n",
       "      <td>-1074.464888</td>\n",
       "      <td>-72.915490</td>\n",
       "    </tr>\n",
       "    <tr>\n",
       "      <th>4-base</th>\n",
       "      <td>-72.743850</td>\n",
       "      <td>6.522049</td>\n",
       "      <td>43.671265</td>\n",
       "      <td>-140.60803</td>\n",
       "      <td>5.820023</td>\n",
       "      <td>-112.074080</td>\n",
       "      <td>-397.711282</td>\n",
       "      <td>45.182500</td>\n",
       "      <td>122.167180</td>\n",
       "      <td>112.119064</td>\n",
       "      <td>...</td>\n",
       "      <td>-57.199104</td>\n",
       "      <td>56.642403</td>\n",
       "      <td>-159.35184</td>\n",
       "      <td>85.944724</td>\n",
       "      <td>66.76632</td>\n",
       "      <td>-2.505783</td>\n",
       "      <td>65.315285</td>\n",
       "      <td>135.051590</td>\n",
       "      <td>-1074.464888</td>\n",
       "      <td>0.319401</td>\n",
       "    </tr>\n",
       "  </tbody>\n",
       "</table>\n",
       "<p>5 rows × 72 columns</p>\n",
       "</div>"
      ],
      "text/plain": [
       "                 0          1          2          3           4           5  \\\n",
       "Id                                                                            \n",
       "0-base -115.083890  11.152912 -64.426760 -118.88089  216.482440 -104.698060   \n",
       "1-base  -34.562202  13.332763 -69.787610 -166.53348   57.680607  -86.098370   \n",
       "2-base  -54.233746   6.379371 -29.210136 -133.41383  150.895830  -99.435326   \n",
       "3-base  -87.520130   4.037884 -87.803030 -185.06763   76.369540  -58.985165   \n",
       "4-base  -72.743850   6.522049  43.671265 -140.60803    5.820023 -112.074080   \n",
       "\n",
       "                 6          7           8           9  ...          62  \\\n",
       "Id                                                     ...               \n",
       "0-base -469.070588  44.348083  120.915344  181.449700  ...  -42.808693   \n",
       "1-base  -85.076666 -35.637436  119.718636  195.234190  ... -117.767525   \n",
       "2-base   52.554795  62.381706  128.951450  164.381470  ...  -76.397800   \n",
       "3-base -383.182845 -33.611237  122.031910  136.233580  ...  -70.647940   \n",
       "4-base -397.711282  45.182500  122.167180  112.119064  ...  -57.199104   \n",
       "\n",
       "               63         64          65        66         67          68  \\\n",
       "Id                                                                          \n",
       "0-base  38.800827 -151.76218  -74.389090  63.66634  -4.703861   92.933610   \n",
       "1-base  41.100000 -157.82940  -94.446806  68.20211  24.346846  179.937930   \n",
       "2-base  46.011803 -207.14442  127.325570  65.56618  66.325680   81.073490   \n",
       "3-base  -6.358921 -147.20105  -37.692750  66.20289 -20.566910  137.206940   \n",
       "4-base  56.642403 -159.35184   85.944724  66.76632  -2.505783   65.315285   \n",
       "\n",
       "                69           70         71  \n",
       "Id                                          \n",
       "0-base  115.269190  -112.756640 -60.830353  \n",
       "1-base  116.834000   -84.888941 -59.524610  \n",
       "2-base  116.594154 -1074.464888 -32.527206  \n",
       "3-base  117.474100 -1074.464888 -72.915490  \n",
       "4-base  135.051590 -1074.464888   0.319401  \n",
       "\n",
       "[5 rows x 72 columns]"
      ]
     },
     "execution_count": 2,
     "metadata": {},
     "output_type": "execute_result"
    }
   ],
   "source": [
    "df_base = pd.read_csv(PATH + 'base.csv', index_col=0)\n",
    "df_base.head()"
   ]
  },
  {
   "cell_type": "markdown",
   "id": "955ec4de-aa72-4283-a8c5-d0fc74f09475",
   "metadata": {},
   "source": [
    "### Create index with FAISS"
   ]
  },
  {
   "cell_type": "code",
   "execution_count": 3,
   "id": "9b42530f-3924-44cb-8412-9c5d5a8b87af",
   "metadata": {},
   "outputs": [],
   "source": [
    "dims = df_base.shape[1]\n",
    "n_cells = 1000 # how many cells\n",
    "n_neigbours = 50\n",
    "quantizer = faiss.IndexFlatL2(dims)\n",
    "idx_l2 = faiss.IndexIVFFlat(quantizer, dims, n_cells)\n",
    "idx_l2.nprobe = 250"
   ]
  },
  {
   "cell_type": "code",
   "execution_count": 4,
   "id": "f3e3bb65-0b11-442d-a2fc-afc18fa06ad6",
   "metadata": {},
   "outputs": [],
   "source": [
    "idx_l2.train(np.ascontiguousarray(df_base).astype('float32'))\n",
    "idx_l2.add(np.ascontiguousarray(df_base.values).astype('float32'))"
   ]
  },
  {
   "cell_type": "code",
   "execution_count": 5,
   "id": "c724e031-d0f0-4e2d-a38c-08b95b365716",
   "metadata": {},
   "outputs": [],
   "source": [
    "base_index = {k: v for k, v in enumerate(df_base.index.to_list())}"
   ]
  },
  {
   "cell_type": "markdown",
   "id": "3fb53e2d-9719-47a2-8d5f-3d5144b5c0ea",
   "metadata": {},
   "source": [
    "## Train & Validation"
   ]
  },
  {
   "cell_type": "markdown",
   "id": "e528f55f-e822-49c5-be48-571da181d3c7",
   "metadata": {},
   "source": [
    "### EDA"
   ]
  },
  {
   "cell_type": "code",
   "execution_count": 6,
   "id": "af576e07-e521-4de0-b7c6-37191ff18561",
   "metadata": {},
   "outputs": [],
   "source": [
    "df_train = pd.read_csv(PATH + 'train.csv', index_col=0)\n",
    "df_valid = pd.read_csv(PATH + 'validation.csv', index_col=0)"
   ]
  },
  {
   "cell_type": "code",
   "execution_count": 7,
   "id": "a8ee1fda-5ec7-4fcb-a894-3391d0e57cfb",
   "metadata": {},
   "outputs": [],
   "source": [
    "targets_train = df_train[\"Target\"]\n",
    "targets_valid = pd.read_csv(PATH + 'validation_answer.csv', index_col=0)['Expected']\n",
    "df_train.drop(\"Target\", axis=1, inplace=True)"
   ]
  },
  {
   "cell_type": "raw",
   "id": "115d2266-ddf1-425c-b736-7f6a876e021f",
   "metadata": {},
   "source": [
    "cols = df_train.columns\n",
    "\n",
    "fig = plt.figure(figsize=(15,25))\n",
    "for i in range(len(cols)):\n",
    "    fig.add_subplot(18, 4, i+1)\n",
    "    plt.hist(df_base[cols[i]], bins=50)\n",
    "    #plt.ylabel('Число измерений') \n",
    "    plt.xlabel(cols[i])\n",
    "    plt.tight_layout()\n",
    "    plt.grid(True);    "
   ]
  },
  {
   "cell_type": "code",
   "execution_count": 8,
   "id": "43f3ec38-d240-490e-8ce0-05298b26701b",
   "metadata": {},
   "outputs": [],
   "source": [
    "suspisious_cols = ['6', '21', '25', '59', '65', '70']"
   ]
  },
  {
   "cell_type": "markdown",
   "id": "fdf5e66d-627b-4255-913c-aec3c3d9d59a",
   "metadata": {},
   "source": [
    "### Searching candidates with FAISS"
   ]
  },
  {
   "cell_type": "markdown",
   "id": "378a0766-0edf-4916-bbf2-13f7249a18db",
   "metadata": {},
   "source": [
    "defining `candidate_search` function:"
   ]
  },
  {
   "cell_type": "code",
   "execution_count": 9,
   "id": "94303130-dfdc-49e6-a4e7-13c277cc6191",
   "metadata": {},
   "outputs": [],
   "source": [
    "def candidate_search(df, df_target):\n",
    "    start = time.time()\n",
    "    distances, idx = idx_l2.search(np.ascontiguousarray(df.values).astype('float32'), n_neigbours)\n",
    "    print('search took {}'.format(time.time() - start))\n",
    "    \n",
    "    acc = 0\n",
    "    for target, el in zip(df_target.values.tolist(), idx.tolist()):\n",
    "        acc += int(target in [base_index[r] for r in el])        \n",
    "    print('neighbours found: {} %'.format(100 * acc / len(idx)))\n",
    "    return distances, idx"
   ]
  },
  {
   "cell_type": "markdown",
   "id": "182a1392-4abf-4ced-a6b1-cf1ce5c456a1",
   "metadata": {},
   "source": [
    "Searching for `df_train`:"
   ]
  },
  {
   "cell_type": "code",
   "execution_count": 10,
   "id": "1d7a6166-5d01-4090-b547-3e388e2675c6",
   "metadata": {
    "scrolled": true
   },
   "outputs": [
    {
     "name": "stdout",
     "output_type": "stream",
     "text": [
      "search took 836.4866940975189\n",
      "neighbours found: 16.881 %\n"
     ]
    }
   ],
   "source": [
    "distances_train, idx_train = candidate_search(df_train, targets_train)"
   ]
  },
  {
   "cell_type": "markdown",
   "id": "825b4d7c-dab6-4666-87f7-0902fa9f285d",
   "metadata": {},
   "source": [
    "Searching for `df_valid`:"
   ]
  },
  {
   "cell_type": "code",
   "execution_count": 11,
   "id": "e84025cc-e776-4a30-b012-e4155d180268",
   "metadata": {},
   "outputs": [
    {
     "name": "stdout",
     "output_type": "stream",
     "text": [
      "search took 833.6931662559509\n",
      "neighbours found: 16.299 %\n"
     ]
    }
   ],
   "source": [
    "distances_valid, idx_valid = candidate_search(df_valid, targets_valid)"
   ]
  },
  {
   "cell_type": "markdown",
   "id": "c54cb18e-3c46-496d-b4fa-5262ef5471d8",
   "metadata": {},
   "source": [
    "## Creating big `all-features` dataframes"
   ]
  },
  {
   "cell_type": "markdown",
   "id": "01c31f70-c4a6-4022-ae29-c55b45b28b50",
   "metadata": {},
   "source": [
    "defining `saving_big_df` function:"
   ]
  },
  {
   "cell_type": "code",
   "execution_count": 12,
   "id": "babccc57-f089-44e6-b4b5-c89a459084de",
   "metadata": {},
   "outputs": [],
   "source": [
    "def saving_big_df(idx, distances, df, df_target, type):\n",
    "    features_list = []\n",
    "    target_list = []\n",
    "    idx_d_list = []\n",
    "    for i in tqdm(range(len(df))):\n",
    "        q = [df[i] for index in idx[i]]\n",
    "        p = [base[index] for index in idx[i]]\n",
    "        d = [distance for distance in distances[i]]\n",
    "        j = [index for index in idx[i]]\n",
    "        t = np.array([1 if base_index[index] == df_target.values.tolist()[i] else 0 for index in idx[i]])\n",
    "        target_list.append(t)\n",
    "        features_list.append(np.concatenate((q, p), axis = 1)) \n",
    "        idx_d_list.append(np.vstack((j, d)).T)\n",
    "        del q, p, t, j, d\n",
    "                \n",
    "    del df\n",
    "    gc.collect()    \n",
    "    print('lists created...')\n",
    "    pd.DataFrame(np.concatenate(target_list)).to_csv(PATH + 'target_'+ type + '.csv')\n",
    "    del target_list\n",
    "    print('targets saved...')\n",
    "    pd.DataFrame(np.concatenate(idx_d_list)).to_csv(PATH + 'faiss_idx_and_distances'+ type + '.csv')\n",
    "    del idx_d_list\n",
    "    print('indexes ad distances saved...')\n",
    "    pd.DataFrame(np.concatenate(features_list)).to_csv(PATH + 'all_features_'+ type + '.csv')\n",
    "    del features_list\n",
    "    print('features saved!')\n",
    "    gc.collect()"
   ]
  },
  {
   "cell_type": "code",
   "execution_count": 13,
   "id": "c23b38f5-b52a-420f-bb59-8ee8893df8f7",
   "metadata": {},
   "outputs": [],
   "source": [
    "base = np.array(df_base.reset_index(drop=True))\n",
    "train = np.array(df_train.reset_index(drop=True))\n",
    "valid = np.array(df_valid.reset_index(drop=True))"
   ]
  },
  {
   "cell_type": "code",
   "execution_count": 14,
   "id": "b09baee2-6322-496e-99c7-5e9c1c054c72",
   "metadata": {},
   "outputs": [
    {
     "data": {
      "text/plain": [
       "0"
      ]
     },
     "execution_count": 14,
     "metadata": {},
     "output_type": "execute_result"
    }
   ],
   "source": [
    "del df_base\n",
    "del df_train\n",
    "del df_valid\n",
    "gc.collect()"
   ]
  },
  {
   "cell_type": "markdown",
   "id": "7f7083e1-6a11-488a-bcd6-cbb0386a28f4",
   "metadata": {},
   "source": [
    "### train `all-features` saving"
   ]
  },
  {
   "cell_type": "code",
   "execution_count": 15,
   "id": "3f831af4-fc78-4b52-8121-e79da9952d69",
   "metadata": {},
   "outputs": [
    {
     "data": {
      "application/vnd.jupyter.widget-view+json": {
       "model_id": "06a40441a4d04f09993f41455bbca145",
       "version_major": 2,
       "version_minor": 0
      },
      "text/plain": [
       "  0%|          | 0/100000 [00:00<?, ?it/s]"
      ]
     },
     "metadata": {},
     "output_type": "display_data"
    },
    {
     "name": "stdout",
     "output_type": "stream",
     "text": [
      "lists created...\n",
      "targets saved...\n",
      "indexes ad distances saved...\n",
      "features saved!\n"
     ]
    }
   ],
   "source": [
    "saving_big_df(idx_train, distances_train, train, targets_train, 'train')"
   ]
  },
  {
   "cell_type": "markdown",
   "id": "67f50bc6-eed7-499e-9f97-17604ca28623",
   "metadata": {},
   "source": [
    "### valid `all-features` saving"
   ]
  },
  {
   "cell_type": "code",
   "execution_count": 16,
   "id": "a1b0cc00-ea30-492a-9ef5-edc01061d26b",
   "metadata": {},
   "outputs": [
    {
     "data": {
      "application/vnd.jupyter.widget-view+json": {
       "model_id": "34442467989c4a8e8613080fb0711fd8",
       "version_major": 2,
       "version_minor": 0
      },
      "text/plain": [
       "  0%|          | 0/100000 [00:00<?, ?it/s]"
      ]
     },
     "metadata": {},
     "output_type": "display_data"
    },
    {
     "name": "stdout",
     "output_type": "stream",
     "text": [
      "lists created...\n",
      "targets saved...\n",
      "indexes ad distances saved...\n",
      "features saved!\n"
     ]
    }
   ],
   "source": [
    "saving_big_df(idx_valid, distances_valid, valid, targets_valid, 'valid')"
   ]
  },
  {
   "attachments": {
    "63f0a78f-aad2-48cb-8884-9a8d439177ee.png": {
     "image/png": "[encoded data removed]"
    }
   },
   "cell_type": "markdown",
   "id": "59b0ac10-c5be-4da3-b898-2d49b55237e4",
   "metadata": {},
   "source": [
    "![alt text](attachment:63f0a78f-aad2-48cb-8884-9a8d439177ee.png)"
   ]
  },
  {
   "cell_type": "markdown",
   "id": "fb566cf4-2ebb-4c95-92dd-8fb9a3704d57",
   "metadata": {},
   "source": []
  }
 ],
 "metadata": {
  "kernelspec": {
   "display_name": "Python 3 (ipykernel)",
   "language": "python",
   "name": "python3"
  },
  "language_info": {
   "codemirror_mode": {
    "name": "ipython",
    "version": 3
   },
   "file_extension": ".py",
   "mimetype": "text/x-python",
   "name": "python",
   "nbconvert_exporter": "python",
   "pygments_lexer": "ipython3",
   "version": "3.10.12"
  }
 },
 "nbformat": 4,
 "nbformat_minor": 5
}
