{
 "cells": [
  {
   "cell_type": "code",
   "execution_count": 36,
   "id": "424e17cb-ae43-475d-bd00-a3bb36a51cb5",
   "metadata": {},
   "outputs": [],
   "source": [
    "import pandas as pd\n",
    "import numpy as np\n",
    "import faiss\n",
    "import time\n",
    "import matplotlib.pyplot as plt\n",
    "\n",
    "from tqdm.notebook import tqdm\n",
    "from sklearn.model_selection import train_test_split\n",
    "from sklearn.linear_model import LogisticRegression\n",
    "from sklearn.ensemble import RandomForestClassifier\n",
    "from sklearn.tree import DecisionTreeClassifier\n",
    "from sklearn.metrics import accuracy_score\n",
    "from sklearn.utils.class_weight import compute_class_weight\n",
    "from sklearn.model_selection import GridSearchCV, cross_val_score\n",
    "from catboost import CatBoostClassifier\n",
    "import warnings\n",
    "\n",
    "warnings.simplefilter(\"ignore\", UserWarning)\n",
    "\n",
    "PATH = '/home/maria_grig/projects/master/stock_matching/'"
   ]
  },
  {
   "cell_type": "code",
   "execution_count": 2,
   "id": "4801c6f4-bb18-4172-9cab-edad386dbda4",
   "metadata": {},
   "outputs": [],
   "source": [
    "#import torch\n",
    "\n",
    "#device = torch.device(\"cuda\")"
   ]
  },
  {
   "cell_type": "code",
   "execution_count": 3,
   "id": "fb125e3d-93c2-4ffa-97a5-1d61db064e6c",
   "metadata": {},
   "outputs": [],
   "source": [
    "#device"
   ]
  },
  {
   "cell_type": "markdown",
   "id": "ea67f7f3-16eb-45e8-a14d-bd4814accf32",
   "metadata": {},
   "source": [
    "# Load data"
   ]
  },
  {
   "cell_type": "markdown",
   "id": "ad86b92e-6d1f-42ab-aaec-4b34f21021e2",
   "metadata": {},
   "source": [
    "## Base"
   ]
  },
  {
   "cell_type": "markdown",
   "id": "3eb9d043-5d0b-47b7-bff1-82395794b958",
   "metadata": {},
   "source": [
    "### Base dataset"
   ]
  },
  {
   "cell_type": "code",
   "execution_count": 4,
   "id": "9137b16a-b95a-4346-8e9c-252159558b82",
   "metadata": {},
   "outputs": [
    {
     "data": {
      "text/html": [
       "<div>\n",
       "<style scoped>\n",
       "    .dataframe tbody tr th:only-of-type {\n",
       "        vertical-align: middle;\n",
       "    }\n",
       "\n",
       "    .dataframe tbody tr th {\n",
       "        vertical-align: top;\n",
       "    }\n",
       "\n",
       "    .dataframe thead th {\n",
       "        text-align: right;\n",
       "    }\n",
       "</style>\n",
       "<table border=\"1\" class=\"dataframe\">\n",
       "  <thead>\n",
       "    <tr style=\"text-align: right;\">\n",
       "      <th></th>\n",
       "      <th>0</th>\n",
       "      <th>1</th>\n",
       "      <th>2</th>\n",
       "      <th>3</th>\n",
       "      <th>4</th>\n",
       "      <th>5</th>\n",
       "      <th>6</th>\n",
       "      <th>7</th>\n",
       "      <th>8</th>\n",
       "      <th>9</th>\n",
       "      <th>...</th>\n",
       "      <th>62</th>\n",
       "      <th>63</th>\n",
       "      <th>64</th>\n",
       "      <th>65</th>\n",
       "      <th>66</th>\n",
       "      <th>67</th>\n",
       "      <th>68</th>\n",
       "      <th>69</th>\n",
       "      <th>70</th>\n",
       "      <th>71</th>\n",
       "    </tr>\n",
       "    <tr>\n",
       "      <th>Id</th>\n",
       "      <th></th>\n",
       "      <th></th>\n",
       "      <th></th>\n",
       "      <th></th>\n",
       "      <th></th>\n",
       "      <th></th>\n",
       "      <th></th>\n",
       "      <th></th>\n",
       "      <th></th>\n",
       "      <th></th>\n",
       "      <th></th>\n",
       "      <th></th>\n",
       "      <th></th>\n",
       "      <th></th>\n",
       "      <th></th>\n",
       "      <th></th>\n",
       "      <th></th>\n",
       "      <th></th>\n",
       "      <th></th>\n",
       "      <th></th>\n",
       "      <th></th>\n",
       "    </tr>\n",
       "  </thead>\n",
       "  <tbody>\n",
       "    <tr>\n",
       "      <th>0-base</th>\n",
       "      <td>-115.083890</td>\n",
       "      <td>11.152912</td>\n",
       "      <td>-64.426760</td>\n",
       "      <td>-118.88089</td>\n",
       "      <td>216.482440</td>\n",
       "      <td>-104.698060</td>\n",
       "      <td>-469.070588</td>\n",
       "      <td>44.348083</td>\n",
       "      <td>120.915344</td>\n",
       "      <td>181.449700</td>\n",
       "      <td>...</td>\n",
       "      <td>-42.808693</td>\n",
       "      <td>38.800827</td>\n",
       "      <td>-151.76218</td>\n",
       "      <td>-74.389090</td>\n",
       "      <td>63.66634</td>\n",
       "      <td>-4.703861</td>\n",
       "      <td>92.933610</td>\n",
       "      <td>115.269190</td>\n",
       "      <td>-112.756640</td>\n",
       "      <td>-60.830353</td>\n",
       "    </tr>\n",
       "    <tr>\n",
       "      <th>1-base</th>\n",
       "      <td>-34.562202</td>\n",
       "      <td>13.332763</td>\n",
       "      <td>-69.787610</td>\n",
       "      <td>-166.53348</td>\n",
       "      <td>57.680607</td>\n",
       "      <td>-86.098370</td>\n",
       "      <td>-85.076666</td>\n",
       "      <td>-35.637436</td>\n",
       "      <td>119.718636</td>\n",
       "      <td>195.234190</td>\n",
       "      <td>...</td>\n",
       "      <td>-117.767525</td>\n",
       "      <td>41.100000</td>\n",
       "      <td>-157.82940</td>\n",
       "      <td>-94.446806</td>\n",
       "      <td>68.20211</td>\n",
       "      <td>24.346846</td>\n",
       "      <td>179.937930</td>\n",
       "      <td>116.834000</td>\n",
       "      <td>-84.888941</td>\n",
       "      <td>-59.524610</td>\n",
       "    </tr>\n",
       "    <tr>\n",
       "      <th>2-base</th>\n",
       "      <td>-54.233746</td>\n",
       "      <td>6.379371</td>\n",
       "      <td>-29.210136</td>\n",
       "      <td>-133.41383</td>\n",
       "      <td>150.895830</td>\n",
       "      <td>-99.435326</td>\n",
       "      <td>52.554795</td>\n",
       "      <td>62.381706</td>\n",
       "      <td>128.951450</td>\n",
       "      <td>164.381470</td>\n",
       "      <td>...</td>\n",
       "      <td>-76.397800</td>\n",
       "      <td>46.011803</td>\n",
       "      <td>-207.14442</td>\n",
       "      <td>127.325570</td>\n",
       "      <td>65.56618</td>\n",
       "      <td>66.325680</td>\n",
       "      <td>81.073490</td>\n",
       "      <td>116.594154</td>\n",
       "      <td>-1074.464888</td>\n",
       "      <td>-32.527206</td>\n",
       "    </tr>\n",
       "    <tr>\n",
       "      <th>3-base</th>\n",
       "      <td>-87.520130</td>\n",
       "      <td>4.037884</td>\n",
       "      <td>-87.803030</td>\n",
       "      <td>-185.06763</td>\n",
       "      <td>76.369540</td>\n",
       "      <td>-58.985165</td>\n",
       "      <td>-383.182845</td>\n",
       "      <td>-33.611237</td>\n",
       "      <td>122.031910</td>\n",
       "      <td>136.233580</td>\n",
       "      <td>...</td>\n",
       "      <td>-70.647940</td>\n",
       "      <td>-6.358921</td>\n",
       "      <td>-147.20105</td>\n",
       "      <td>-37.692750</td>\n",
       "      <td>66.20289</td>\n",
       "      <td>-20.566910</td>\n",
       "      <td>137.206940</td>\n",
       "      <td>117.474100</td>\n",
       "      <td>-1074.464888</td>\n",
       "      <td>-72.915490</td>\n",
       "    </tr>\n",
       "    <tr>\n",
       "      <th>4-base</th>\n",
       "      <td>-72.743850</td>\n",
       "      <td>6.522049</td>\n",
       "      <td>43.671265</td>\n",
       "      <td>-140.60803</td>\n",
       "      <td>5.820023</td>\n",
       "      <td>-112.074080</td>\n",
       "      <td>-397.711282</td>\n",
       "      <td>45.182500</td>\n",
       "      <td>122.167180</td>\n",
       "      <td>112.119064</td>\n",
       "      <td>...</td>\n",
       "      <td>-57.199104</td>\n",
       "      <td>56.642403</td>\n",
       "      <td>-159.35184</td>\n",
       "      <td>85.944724</td>\n",
       "      <td>66.76632</td>\n",
       "      <td>-2.505783</td>\n",
       "      <td>65.315285</td>\n",
       "      <td>135.051590</td>\n",
       "      <td>-1074.464888</td>\n",
       "      <td>0.319401</td>\n",
       "    </tr>\n",
       "  </tbody>\n",
       "</table>\n",
       "<p>5 rows × 72 columns</p>\n",
       "</div>"
      ],
      "text/plain": [
       "                 0          1          2          3           4           5  \\\n",
       "Id                                                                            \n",
       "0-base -115.083890  11.152912 -64.426760 -118.88089  216.482440 -104.698060   \n",
       "1-base  -34.562202  13.332763 -69.787610 -166.53348   57.680607  -86.098370   \n",
       "2-base  -54.233746   6.379371 -29.210136 -133.41383  150.895830  -99.435326   \n",
       "3-base  -87.520130   4.037884 -87.803030 -185.06763   76.369540  -58.985165   \n",
       "4-base  -72.743850   6.522049  43.671265 -140.60803    5.820023 -112.074080   \n",
       "\n",
       "                 6          7           8           9  ...          62  \\\n",
       "Id                                                     ...               \n",
       "0-base -469.070588  44.348083  120.915344  181.449700  ...  -42.808693   \n",
       "1-base  -85.076666 -35.637436  119.718636  195.234190  ... -117.767525   \n",
       "2-base   52.554795  62.381706  128.951450  164.381470  ...  -76.397800   \n",
       "3-base -383.182845 -33.611237  122.031910  136.233580  ...  -70.647940   \n",
       "4-base -397.711282  45.182500  122.167180  112.119064  ...  -57.199104   \n",
       "\n",
       "               63         64          65        66         67          68  \\\n",
       "Id                                                                          \n",
       "0-base  38.800827 -151.76218  -74.389090  63.66634  -4.703861   92.933610   \n",
       "1-base  41.100000 -157.82940  -94.446806  68.20211  24.346846  179.937930   \n",
       "2-base  46.011803 -207.14442  127.325570  65.56618  66.325680   81.073490   \n",
       "3-base  -6.358921 -147.20105  -37.692750  66.20289 -20.566910  137.206940   \n",
       "4-base  56.642403 -159.35184   85.944724  66.76632  -2.505783   65.315285   \n",
       "\n",
       "                69           70         71  \n",
       "Id                                          \n",
       "0-base  115.269190  -112.756640 -60.830353  \n",
       "1-base  116.834000   -84.888941 -59.524610  \n",
       "2-base  116.594154 -1074.464888 -32.527206  \n",
       "3-base  117.474100 -1074.464888 -72.915490  \n",
       "4-base  135.051590 -1074.464888   0.319401  \n",
       "\n",
       "[5 rows x 72 columns]"
      ]
     },
     "execution_count": 4,
     "metadata": {},
     "output_type": "execute_result"
    }
   ],
   "source": [
    "df_base = pd.read_csv(PATH + 'base.csv', index_col=0)\n",
    "df_base.head()"
   ]
  },
  {
   "cell_type": "code",
   "execution_count": 5,
   "id": "02ecff53-0da4-4a79-8bf4-458972bd730c",
   "metadata": {},
   "outputs": [
    {
     "data": {
      "text/plain": [
       "(2918139, 72)"
      ]
     },
     "execution_count": 5,
     "metadata": {},
     "output_type": "execute_result"
    }
   ],
   "source": [
    "df_base.shape"
   ]
  },
  {
   "cell_type": "markdown",
   "id": "08cb5ce5-8eb3-42cc-a2f7-ca1bba8d0a1d",
   "metadata": {},
   "source": [
    "### Create index"
   ]
  },
  {
   "cell_type": "code",
   "execution_count": 6,
   "id": "5fe65afd-28cf-41e4-93d4-0ffb27732a24",
   "metadata": {},
   "outputs": [],
   "source": [
    "dims = df_base.shape[1]\n",
    "n_cells = 15 # how many cells\n",
    "quantizer = faiss.IndexFlatL2(dims)\n",
    "idx_l2 = faiss.IndexIVFFlat(quantizer, dims, n_cells)"
   ]
  },
  {
   "cell_type": "code",
   "execution_count": 7,
   "id": "69462702-b358-4d8f-b250-457d81ab86e0",
   "metadata": {},
   "outputs": [],
   "source": [
    "idx_l2.train(np.ascontiguousarray(df_base.values[:50000, :]).astype('float32'))\n",
    "\n",
    "idx_l2.add(np.ascontiguousarray(df_base.values).astype('float32'))"
   ]
  },
  {
   "cell_type": "code",
   "execution_count": 8,
   "id": "d42af9e0-3f09-4b4c-a1a6-688387db17de",
   "metadata": {},
   "outputs": [],
   "source": [
    "base_index = {k: v for k, v in enumerate(df_base.index.to_list())}\n",
    "\n",
    "#del df_base"
   ]
  },
  {
   "cell_type": "markdown",
   "id": "fce1efd2-e243-4445-9dae-abd65e0b9cab",
   "metadata": {},
   "source": [
    "# Train"
   ]
  },
  {
   "cell_type": "code",
   "execution_count": 9,
   "id": "24a058e8-3140-40ff-93f3-9e0bf1a44c27",
   "metadata": {},
   "outputs": [
    {
     "data": {
      "text/html": [
       "<div>\n",
       "<style scoped>\n",
       "    .dataframe tbody tr th:only-of-type {\n",
       "        vertical-align: middle;\n",
       "    }\n",
       "\n",
       "    .dataframe tbody tr th {\n",
       "        vertical-align: top;\n",
       "    }\n",
       "\n",
       "    .dataframe thead th {\n",
       "        text-align: right;\n",
       "    }\n",
       "</style>\n",
       "<table border=\"1\" class=\"dataframe\">\n",
       "  <thead>\n",
       "    <tr style=\"text-align: right;\">\n",
       "      <th></th>\n",
       "      <th>0</th>\n",
       "      <th>1</th>\n",
       "      <th>2</th>\n",
       "      <th>3</th>\n",
       "      <th>4</th>\n",
       "      <th>5</th>\n",
       "      <th>6</th>\n",
       "      <th>7</th>\n",
       "      <th>8</th>\n",
       "      <th>9</th>\n",
       "      <th>...</th>\n",
       "      <th>63</th>\n",
       "      <th>64</th>\n",
       "      <th>65</th>\n",
       "      <th>66</th>\n",
       "      <th>67</th>\n",
       "      <th>68</th>\n",
       "      <th>69</th>\n",
       "      <th>70</th>\n",
       "      <th>71</th>\n",
       "      <th>Target</th>\n",
       "    </tr>\n",
       "    <tr>\n",
       "      <th>Id</th>\n",
       "      <th></th>\n",
       "      <th></th>\n",
       "      <th></th>\n",
       "      <th></th>\n",
       "      <th></th>\n",
       "      <th></th>\n",
       "      <th></th>\n",
       "      <th></th>\n",
       "      <th></th>\n",
       "      <th></th>\n",
       "      <th></th>\n",
       "      <th></th>\n",
       "      <th></th>\n",
       "      <th></th>\n",
       "      <th></th>\n",
       "      <th></th>\n",
       "      <th></th>\n",
       "      <th></th>\n",
       "      <th></th>\n",
       "      <th></th>\n",
       "      <th></th>\n",
       "    </tr>\n",
       "  </thead>\n",
       "  <tbody>\n",
       "    <tr>\n",
       "      <th>0-query</th>\n",
       "      <td>-53.882748</td>\n",
       "      <td>17.971436</td>\n",
       "      <td>-42.117104</td>\n",
       "      <td>-183.93668</td>\n",
       "      <td>187.517490</td>\n",
       "      <td>-87.144930</td>\n",
       "      <td>-347.360606</td>\n",
       "      <td>38.307602</td>\n",
       "      <td>109.085560</td>\n",
       "      <td>30.413513</td>\n",
       "      <td>...</td>\n",
       "      <td>70.107360</td>\n",
       "      <td>-155.80257</td>\n",
       "      <td>-101.965943</td>\n",
       "      <td>65.903790</td>\n",
       "      <td>34.457500</td>\n",
       "      <td>62.642094</td>\n",
       "      <td>134.763600</td>\n",
       "      <td>-415.750254</td>\n",
       "      <td>-25.958572</td>\n",
       "      <td>675816-base</td>\n",
       "    </tr>\n",
       "    <tr>\n",
       "      <th>1-query</th>\n",
       "      <td>-87.776370</td>\n",
       "      <td>6.806268</td>\n",
       "      <td>-32.054546</td>\n",
       "      <td>-177.26039</td>\n",
       "      <td>120.803330</td>\n",
       "      <td>-83.810590</td>\n",
       "      <td>-94.572749</td>\n",
       "      <td>-78.433090</td>\n",
       "      <td>124.915900</td>\n",
       "      <td>140.331070</td>\n",
       "      <td>...</td>\n",
       "      <td>4.669178</td>\n",
       "      <td>-151.69771</td>\n",
       "      <td>-1.638704</td>\n",
       "      <td>68.170876</td>\n",
       "      <td>25.096191</td>\n",
       "      <td>89.974976</td>\n",
       "      <td>130.589630</td>\n",
       "      <td>-1035.092211</td>\n",
       "      <td>-51.276833</td>\n",
       "      <td>366656-base</td>\n",
       "    </tr>\n",
       "    <tr>\n",
       "      <th>2-query</th>\n",
       "      <td>-49.979565</td>\n",
       "      <td>3.841486</td>\n",
       "      <td>-116.118590</td>\n",
       "      <td>-180.40198</td>\n",
       "      <td>190.128430</td>\n",
       "      <td>-50.837620</td>\n",
       "      <td>26.943937</td>\n",
       "      <td>-30.447489</td>\n",
       "      <td>125.771164</td>\n",
       "      <td>211.607820</td>\n",
       "      <td>...</td>\n",
       "      <td>78.039764</td>\n",
       "      <td>-169.14620</td>\n",
       "      <td>82.144186</td>\n",
       "      <td>66.008220</td>\n",
       "      <td>18.400496</td>\n",
       "      <td>212.409730</td>\n",
       "      <td>121.931470</td>\n",
       "      <td>-1074.464888</td>\n",
       "      <td>-22.547178</td>\n",
       "      <td>1447819-base</td>\n",
       "    </tr>\n",
       "    <tr>\n",
       "      <th>3-query</th>\n",
       "      <td>-47.810562</td>\n",
       "      <td>9.086598</td>\n",
       "      <td>-115.401695</td>\n",
       "      <td>-121.01136</td>\n",
       "      <td>94.652840</td>\n",
       "      <td>-109.255410</td>\n",
       "      <td>-775.150134</td>\n",
       "      <td>79.186520</td>\n",
       "      <td>124.003100</td>\n",
       "      <td>242.650650</td>\n",
       "      <td>...</td>\n",
       "      <td>44.515266</td>\n",
       "      <td>-145.41675</td>\n",
       "      <td>93.990981</td>\n",
       "      <td>64.131350</td>\n",
       "      <td>106.061920</td>\n",
       "      <td>83.178760</td>\n",
       "      <td>118.277725</td>\n",
       "      <td>-1074.464888</td>\n",
       "      <td>-19.902788</td>\n",
       "      <td>1472602-base</td>\n",
       "    </tr>\n",
       "    <tr>\n",
       "      <th>4-query</th>\n",
       "      <td>-79.632126</td>\n",
       "      <td>14.442886</td>\n",
       "      <td>-58.903397</td>\n",
       "      <td>-147.05254</td>\n",
       "      <td>57.127068</td>\n",
       "      <td>-16.239529</td>\n",
       "      <td>-321.317964</td>\n",
       "      <td>45.984676</td>\n",
       "      <td>125.941284</td>\n",
       "      <td>103.392670</td>\n",
       "      <td>...</td>\n",
       "      <td>45.028910</td>\n",
       "      <td>-196.09207</td>\n",
       "      <td>-117.626337</td>\n",
       "      <td>66.926220</td>\n",
       "      <td>42.456170</td>\n",
       "      <td>77.621765</td>\n",
       "      <td>92.479930</td>\n",
       "      <td>-1074.464888</td>\n",
       "      <td>-21.149351</td>\n",
       "      <td>717819-base</td>\n",
       "    </tr>\n",
       "  </tbody>\n",
       "</table>\n",
       "<p>5 rows × 73 columns</p>\n",
       "</div>"
      ],
      "text/plain": [
       "                 0          1           2          3           4           5  \\\n",
       "Id                                                                             \n",
       "0-query -53.882748  17.971436  -42.117104 -183.93668  187.517490  -87.144930   \n",
       "1-query -87.776370   6.806268  -32.054546 -177.26039  120.803330  -83.810590   \n",
       "2-query -49.979565   3.841486 -116.118590 -180.40198  190.128430  -50.837620   \n",
       "3-query -47.810562   9.086598 -115.401695 -121.01136   94.652840 -109.255410   \n",
       "4-query -79.632126  14.442886  -58.903397 -147.05254   57.127068  -16.239529   \n",
       "\n",
       "                  6          7           8           9  ...         63  \\\n",
       "Id                                                      ...              \n",
       "0-query -347.360606  38.307602  109.085560   30.413513  ...  70.107360   \n",
       "1-query  -94.572749 -78.433090  124.915900  140.331070  ...   4.669178   \n",
       "2-query   26.943937 -30.447489  125.771164  211.607820  ...  78.039764   \n",
       "3-query -775.150134  79.186520  124.003100  242.650650  ...  44.515266   \n",
       "4-query -321.317964  45.984676  125.941284  103.392670  ...  45.028910   \n",
       "\n",
       "                64          65         66          67          68          69  \\\n",
       "Id                                                                              \n",
       "0-query -155.80257 -101.965943  65.903790   34.457500   62.642094  134.763600   \n",
       "1-query -151.69771   -1.638704  68.170876   25.096191   89.974976  130.589630   \n",
       "2-query -169.14620   82.144186  66.008220   18.400496  212.409730  121.931470   \n",
       "3-query -145.41675   93.990981  64.131350  106.061920   83.178760  118.277725   \n",
       "4-query -196.09207 -117.626337  66.926220   42.456170   77.621765   92.479930   \n",
       "\n",
       "                  70         71        Target  \n",
       "Id                                             \n",
       "0-query  -415.750254 -25.958572   675816-base  \n",
       "1-query -1035.092211 -51.276833   366656-base  \n",
       "2-query -1074.464888 -22.547178  1447819-base  \n",
       "3-query -1074.464888 -19.902788  1472602-base  \n",
       "4-query -1074.464888 -21.149351   717819-base  \n",
       "\n",
       "[5 rows x 73 columns]"
      ]
     },
     "execution_count": 9,
     "metadata": {},
     "output_type": "execute_result"
    }
   ],
   "source": [
    "df_train = pd.read_csv(PATH + 'train.csv', index_col=0)\n",
    "df_train.head()"
   ]
  },
  {
   "cell_type": "code",
   "execution_count": 10,
   "id": "14a3a6b6-ebd6-4f53-b985-d554f31732ef",
   "metadata": {},
   "outputs": [],
   "source": [
    "targets = df_train[\"Target\"]\n",
    "df_train.drop(\"Target\", axis=1, inplace=True)"
   ]
  },
  {
   "cell_type": "code",
   "execution_count": 11,
   "id": "5d0b4004-9939-47b7-a17f-8888a72aac50",
   "metadata": {},
   "outputs": [
    {
     "name": "stdout",
     "output_type": "stream",
     "text": [
      "search took 251.76818466186523\n"
     ]
    }
   ],
   "source": [
    "start = time.time()\n",
    "vecs, idx = idx_l2.search(np.ascontiguousarray(df_train.values).astype('float32'), 15)\n",
    "print('search took {}'.format(time.time() - start))"
   ]
  },
  {
   "cell_type": "code",
   "execution_count": 12,
   "id": "7a78123e-247c-4aa9-a09a-e770534f10ba",
   "metadata": {},
   "outputs": [
    {
     "name": "stdout",
     "output_type": "stream",
     "text": [
      "search took 0.6480839252471924\n",
      "neighbours found: 12.655 %\n"
     ]
    }
   ],
   "source": [
    "start = time.time()\n",
    "\n",
    "acc = 0\n",
    "idx_list = np.zeros(len(targets))\n",
    "n=0\n",
    "for target, el in zip(targets.values.tolist(), idx.tolist()):\n",
    "    #acc += int(target in [base_index[r] for r in el])\n",
    "    #n  +=1\n",
    "    if target in [base_index[r] for r in el]:\n",
    "        idx_list[n] = 1\n",
    "        acc +=1\n",
    "    n+=1\n",
    "        #y_train.append(el)\n",
    "print('search took {}'.format(time.time() - start))\n",
    "\n",
    "print('neighbours found: {} %'.format(100 * acc / len(idx)))\n"
   ]
  },
  {
   "cell_type": "markdown",
   "id": "1f6ac056-1ddb-40cd-8597-0c4dd4da8682",
   "metadata": {},
   "source": []
  },
  {
   "cell_type": "raw",
   "id": "b1dcc943-76e3-4d15-a494-d0075d76a4fa",
   "metadata": {},
   "source": [
    "idx_listidx_list.tolist()"
   ]
  },
  {
   "cell_type": "code",
   "execution_count": 21,
   "id": "1ed14b5d-59a2-44d2-858f-4d19d7afcd83",
   "metadata": {},
   "outputs": [
    {
     "name": "stdout",
     "output_type": "stream",
     "text": [
      "0    0.87345\n",
      "1    0.12655\n",
      "Name: proportion, dtype: float64\n"
     ]
    },
    {
     "data": {
      "image/png": "[encoded data removed]",
      "text/plain": [
       "<Figure size 300x300 with 1 Axes>"
      ]
     },
     "metadata": {},
     "output_type": "display_data"
    }
   ],
   "source": [
    "plt.figure(figsize=(3,3))\n",
    "class_frequency = pd.Series(idx_list.astype(int)).value_counts(normalize=True)\n",
    "print(class_frequency)\n",
    "class_frequency.plot(kind='bar');  "
   ]
  },
  {
   "cell_type": "raw",
   "id": "af68c4f0-bf6d-4a5d-a57d-ce273c4dad71",
   "metadata": {},
   "source": [
    "X_train, X_test, y_train, y_test = train_test_split(df_train.reset_index(drop=True), pd.Series(idx_list.astype(int)), \n",
    "                                                    test_size=0.2, \n",
    "                                                    random_state=42,\n",
    "                                                   stratify=idx_list)\n",
    "print(X_train.shape)\n",
    "print(X_test.shape)"
   ]
  },
  {
   "cell_type": "markdown",
   "id": "de05e536-6db0-4a64-b1ab-384e26d40f9e",
   "metadata": {},
   "source": [
    "### Predictions & Metrics"
   ]
  },
  {
   "cell_type": "raw",
   "id": "a60665ad-6c54-4dc2-ab5c-0ac10eac6020",
   "metadata": {},
   "source": [
    "model = CatBoostClassifier(verbose=200, iterations=2000, depth=9)\n",
    "model.fit(X_train, y_train)\n",
    "pred = model.predict(X_test)\n",
    "accuracy_score(y_test, pred)"
   ]
  },
  {
   "cell_type": "code",
   "execution_count": 48,
   "id": "634d27d1-5fd2-4b56-acd9-2c3833c6ca91",
   "metadata": {},
   "outputs": [],
   "source": [
    "scores_list = []"
   ]
  },
  {
   "cell_type": "code",
   "execution_count": 44,
   "id": "2691c74e-bdc2-411a-b21e-4c965b022b20",
   "metadata": {},
   "outputs": [
    {
     "data": {
      "text/plain": [
       "0.873"
      ]
     },
     "execution_count": 44,
     "metadata": {},
     "output_type": "execute_result"
    }
   ],
   "source": [
    "model_lr = LogisticRegression()\n",
    "scores_lr = cross_val_score(model_lr, df_train.reset_index(drop=True), \n",
    "                            pd.Series(idx_list.astype(int)), cv=4, scoring='accuracy')\n"
   ]
  },
  {
   "cell_type": "code",
   "execution_count": 49,
   "id": "62276254-3063-403b-8de3-9f1904434ff9",
   "metadata": {},
   "outputs": [
    {
     "data": {
      "text/plain": [
       "0.873"
      ]
     },
     "execution_count": 49,
     "metadata": {},
     "output_type": "execute_result"
    }
   ],
   "source": [
    "score = round(scores_lr.mean(),3)\n",
    "scores_list.append(score)\n",
    "score"
   ]
  },
  {
   "cell_type": "code",
   "execution_count": 42,
   "id": "59af0f32-e78a-4c3f-9740-08be46dc3e42",
   "metadata": {},
   "outputs": [
    {
     "data": {
      "text/plain": [
       "0.872"
      ]
     },
     "execution_count": 42,
     "metadata": {},
     "output_type": "execute_result"
    }
   ],
   "source": [
    "model_dt = DecisionTreeClassifier(max_depth=9, min_samples_leaf=5, min_samples_split=6)\n",
    "\n",
    "scores_dt = cross_val_score(model_dt, df_train.reset_index(drop=True), \n",
    "                            pd.Series(idx_list.astype(int)), cv=4, scoring='accuracy')\n"
   ]
  },
  {
   "cell_type": "code",
   "execution_count": 50,
   "id": "6576da53-7157-4d6d-80e7-fbbbe0c53ab4",
   "metadata": {},
   "outputs": [
    {
     "data": {
      "text/plain": [
       "0.872"
      ]
     },
     "execution_count": 50,
     "metadata": {},
     "output_type": "execute_result"
    }
   ],
   "source": [
    "score = round(scores_dt.mean(),3)\n",
    "scores_list.append(score)\n",
    "score"
   ]
  },
  {
   "cell_type": "code",
   "execution_count": 43,
   "id": "28487a88-3b55-48e1-95ac-fea362e86607",
   "metadata": {},
   "outputs": [
    {
     "data": {
      "text/plain": [
       "0.874"
      ]
     },
     "execution_count": 43,
     "metadata": {},
     "output_type": "execute_result"
    }
   ],
   "source": [
    "model_rf = RandomForestClassifier(n_estimators=25, max_depth=11, min_samples_split=8,min_samples_leaf=1)\n",
    "\n",
    "scores_rf = cross_val_score(model_rf, df_train.reset_index(drop=True), \n",
    "                            pd.Series(idx_list.astype(int)), cv=4, scoring='accuracy')\n"
   ]
  },
  {
   "cell_type": "code",
   "execution_count": 51,
   "id": "38505107-04dd-4fd1-b75a-865ac44b2fdd",
   "metadata": {},
   "outputs": [
    {
     "data": {
      "text/plain": [
       "0.874"
      ]
     },
     "execution_count": 51,
     "metadata": {},
     "output_type": "execute_result"
    }
   ],
   "source": [
    "score = round(scores_rf.mean(),3)\n",
    "scores_list.append(score)\n",
    "score"
   ]
  },
  {
   "cell_type": "code",
   "execution_count": 40,
   "id": "051c967d-b548-4d1e-8446-f896e750cd3e",
   "metadata": {},
   "outputs": [
    {
     "ename": "NameError",
     "evalue": "name 'scores_rlgbm' is not defined",
     "output_type": "error",
     "traceback": [
      "\u001b[0;31m---------------------------------------------------------------------------\u001b[0m",
      "\u001b[0;31mNameError\u001b[0m                                 Traceback (most recent call last)",
      "Cell \u001b[0;32mIn[40], line 5\u001b[0m\n\u001b[1;32m      1\u001b[0m model_lgbm \u001b[38;5;241m=\u001b[39m RandomForestClassifier(n_estimators\u001b[38;5;241m=\u001b[39m\u001b[38;5;241m115\u001b[39m, max_depth\u001b[38;5;241m=\u001b[39m\u001b[38;5;241m10\u001b[39m)\n\u001b[1;32m      3\u001b[0m scores_lgbm \u001b[38;5;241m=\u001b[39m cross_val_score(model_lgbm, df_train\u001b[38;5;241m.\u001b[39mreset_index(drop\u001b[38;5;241m=\u001b[39m\u001b[38;5;28;01mTrue\u001b[39;00m), \n\u001b[1;32m      4\u001b[0m                             pd\u001b[38;5;241m.\u001b[39mSeries(idx_list\u001b[38;5;241m.\u001b[39mastype(\u001b[38;5;28mint\u001b[39m)), cv\u001b[38;5;241m=\u001b[39m\u001b[38;5;241m4\u001b[39m, scoring\u001b[38;5;241m=\u001b[39m\u001b[38;5;124m'\u001b[39m\u001b[38;5;124maccuracy\u001b[39m\u001b[38;5;124m'\u001b[39m)\n\u001b[0;32m----> 5\u001b[0m scores_list\u001b[38;5;241m.\u001b[39mappend(\u001b[38;5;28mround\u001b[39m(\u001b[43mscores_rlgbm\u001b[49m\u001b[38;5;241m.\u001b[39mmean(),\u001b[38;5;241m3\u001b[39m))\n",
      "\u001b[0;31mNameError\u001b[0m: name 'scores_rlgbm' is not defined"
     ]
    }
   ],
   "source": [
    "model_lgbm = RandomForestClassifier(n_estimators=115, max_depth=10)\n",
    "\n",
    "scores_lgbm = cross_val_score(model_lgbm, df_train.reset_index(drop=True), \n",
    "                            pd.Series(idx_list.astype(int)), cv=4, scoring='accuracy')\n"
   ]
  },
  {
   "cell_type": "code",
   "execution_count": 52,
   "id": "2fb20093-8169-4a4b-8e04-a8faa479e202",
   "metadata": {},
   "outputs": [
    {
     "data": {
      "text/plain": [
       "0.873"
      ]
     },
     "execution_count": 52,
     "metadata": {},
     "output_type": "execute_result"
    }
   ],
   "source": [
    "score = round(scores_lgbm.mean(),3)\n",
    "scores_list.append(score)\n",
    "score"
   ]
  },
  {
   "cell_type": "code",
   "execution_count": 41,
   "id": "e2c6fcba-c1d7-40e9-93d9-df076489974f",
   "metadata": {},
   "outputs": [
    {
     "data": {
      "text/plain": [
       "0.873"
      ]
     },
     "execution_count": 41,
     "metadata": {},
     "output_type": "execute_result"
    }
   ],
   "source": []
  },
  {
   "cell_type": "code",
   "execution_count": 45,
   "id": "0e82e050-6e17-4306-99e5-bdb5ee912d27",
   "metadata": {},
   "outputs": [
    {
     "name": "stdout",
     "output_type": "stream",
     "text": [
      "Learning rate set to 0.034478\n",
      "0:\tlearn: 0.6648431\ttotal: 114ms\tremaining: 3m 47s\n",
      "200:\tlearn: 0.2769348\ttotal: 12s\tremaining: 1m 47s\n",
      "400:\tlearn: 0.2456366\ttotal: 23.7s\tremaining: 1m 34s\n",
      "600:\tlearn: 0.2202627\ttotal: 35.3s\tremaining: 1m 22s\n",
      "800:\tlearn: 0.1978868\ttotal: 46.9s\tremaining: 1m 10s\n",
      "1000:\tlearn: 0.1780483\ttotal: 58.4s\tremaining: 58.3s\n",
      "1200:\tlearn: 0.1609438\ttotal: 1m 9s\tremaining: 46.5s\n",
      "1400:\tlearn: 0.1454419\ttotal: 1m 21s\tremaining: 34.8s\n",
      "1600:\tlearn: 0.1317533\ttotal: 1m 32s\tremaining: 23.2s\n",
      "1800:\tlearn: 0.1197828\ttotal: 1m 44s\tremaining: 11.5s\n",
      "1999:\tlearn: 0.1086827\ttotal: 1m 56s\tremaining: 0us\n",
      "Learning rate set to 0.034478\n",
      "0:\tlearn: 0.6648143\ttotal: 62.5ms\tremaining: 2m 4s\n",
      "200:\tlearn: 0.2775133\ttotal: 11.7s\tremaining: 1m 44s\n",
      "400:\tlearn: 0.2460314\ttotal: 23.1s\tremaining: 1m 32s\n",
      "600:\tlearn: 0.2213990\ttotal: 34.6s\tremaining: 1m 20s\n",
      "800:\tlearn: 0.1988840\ttotal: 46.1s\tremaining: 1m 9s\n",
      "1000:\tlearn: 0.1792683\ttotal: 57.7s\tremaining: 57.6s\n",
      "1200:\tlearn: 0.1626331\ttotal: 1m 9s\tremaining: 46.1s\n",
      "1400:\tlearn: 0.1471813\ttotal: 1m 20s\tremaining: 34.5s\n",
      "1600:\tlearn: 0.1330295\ttotal: 1m 32s\tremaining: 23s\n",
      "1800:\tlearn: 0.1207161\ttotal: 1m 43s\tremaining: 11.4s\n",
      "1999:\tlearn: 0.1105883\ttotal: 1m 54s\tremaining: 0us\n",
      "Learning rate set to 0.034478\n",
      "0:\tlearn: 0.6648692\ttotal: 62.3ms\tremaining: 2m 4s\n",
      "200:\tlearn: 0.2773278\ttotal: 11.6s\tremaining: 1m 44s\n",
      "400:\tlearn: 0.2456518\ttotal: 23.2s\tremaining: 1m 32s\n",
      "600:\tlearn: 0.2204881\ttotal: 34.6s\tremaining: 1m 20s\n",
      "800:\tlearn: 0.1993296\ttotal: 46.1s\tremaining: 1m 9s\n",
      "1000:\tlearn: 0.1802493\ttotal: 57.7s\tremaining: 57.6s\n",
      "1200:\tlearn: 0.1634398\ttotal: 1m 9s\tremaining: 46.1s\n",
      "1400:\tlearn: 0.1491022\ttotal: 1m 20s\tremaining: 34.6s\n",
      "1600:\tlearn: 0.1354381\ttotal: 1m 32s\tremaining: 23s\n",
      "1800:\tlearn: 0.1233366\ttotal: 1m 43s\tremaining: 11.5s\n",
      "1999:\tlearn: 0.1121771\ttotal: 1m 55s\tremaining: 0us\n",
      "Learning rate set to 0.034478\n",
      "0:\tlearn: 0.6683013\ttotal: 62.3ms\tremaining: 2m 4s\n",
      "200:\tlearn: 0.2785136\ttotal: 11.8s\tremaining: 1m 45s\n",
      "400:\tlearn: 0.2470232\ttotal: 23.3s\tremaining: 1m 33s\n",
      "600:\tlearn: 0.2214425\ttotal: 34.8s\tremaining: 1m 20s\n",
      "800:\tlearn: 0.1986287\ttotal: 46.2s\tremaining: 1m 9s\n",
      "1000:\tlearn: 0.1792227\ttotal: 57.8s\tremaining: 57.7s\n",
      "1200:\tlearn: 0.1621802\ttotal: 1m 9s\tremaining: 46.2s\n",
      "1400:\tlearn: 0.1470151\ttotal: 1m 21s\tremaining: 34.6s\n",
      "1600:\tlearn: 0.1335078\ttotal: 1m 32s\tremaining: 23.1s\n",
      "1800:\tlearn: 0.1210781\ttotal: 1m 44s\tremaining: 11.5s\n",
      "1999:\tlearn: 0.1097587\ttotal: 1m 55s\tremaining: 0us\n"
     ]
    },
    {
     "data": {
      "text/plain": [
       "0.88"
      ]
     },
     "execution_count": 45,
     "metadata": {},
     "output_type": "execute_result"
    }
   ],
   "source": [
    "model_cb = CatBoostClassifier(verbose=200, iterations=2000, depth=9)\n",
    "\n",
    "scores_cb = cross_val_score(model_cb, df_train.reset_index(drop=True), \n",
    "                            pd.Series(idx_list.astype(int)), cv=4, scoring='accuracy')\n"
   ]
  },
  {
   "cell_type": "code",
   "execution_count": 53,
   "id": "37dc3914-a5b3-4ad5-9436-69c6774fd104",
   "metadata": {},
   "outputs": [
    {
     "data": {
      "text/plain": [
       "0.88"
      ]
     },
     "execution_count": 53,
     "metadata": {},
     "output_type": "execute_result"
    }
   ],
   "source": [
    "score = round(scores_cb.mean(),3)\n",
    "scores_list.append(score)\n",
    "score"
   ]
  },
  {
   "cell_type": "code",
   "execution_count": 54,
   "id": "60f2b870-f7b4-410e-8899-375bb4e34e17",
   "metadata": {},
   "outputs": [
    {
     "data": {
      "text/plain": [
       "[0.873, 0.872, 0.874, 0.873, 0.88]"
      ]
     },
     "execution_count": 54,
     "metadata": {},
     "output_type": "execute_result"
    }
   ],
   "source": [
    "scores_list"
   ]
  },
  {
   "cell_type": "code",
   "execution_count": 56,
   "id": "01aeb570-4293-403d-94cc-9c3318a12159",
   "metadata": {},
   "outputs": [
    {
     "data": {
      "text/html": [
       "<div>\n",
       "<style scoped>\n",
       "    .dataframe tbody tr th:only-of-type {\n",
       "        vertical-align: middle;\n",
       "    }\n",
       "\n",
       "    .dataframe tbody tr th {\n",
       "        vertical-align: top;\n",
       "    }\n",
       "\n",
       "    .dataframe thead th {\n",
       "        text-align: right;\n",
       "    }\n",
       "</style>\n",
       "<table border=\"1\" class=\"dataframe\">\n",
       "  <thead>\n",
       "    <tr style=\"text-align: right;\">\n",
       "      <th></th>\n",
       "      <th>accuracy</th>\n",
       "    </tr>\n",
       "  </thead>\n",
       "  <tbody>\n",
       "    <tr>\n",
       "      <th>CatBoost</th>\n",
       "      <td>0.880</td>\n",
       "    </tr>\n",
       "    <tr>\n",
       "      <th>Rand Forest</th>\n",
       "      <td>0.874</td>\n",
       "    </tr>\n",
       "    <tr>\n",
       "      <th>Log Reg</th>\n",
       "      <td>0.873</td>\n",
       "    </tr>\n",
       "    <tr>\n",
       "      <th>LGBM</th>\n",
       "      <td>0.873</td>\n",
       "    </tr>\n",
       "    <tr>\n",
       "      <th>Dec Tree</th>\n",
       "      <td>0.872</td>\n",
       "    </tr>\n",
       "  </tbody>\n",
       "</table>\n",
       "</div>"
      ],
      "text/plain": [
       "             accuracy\n",
       "CatBoost        0.880\n",
       "Rand Forest     0.874\n",
       "Log Reg         0.873\n",
       "LGBM            0.873\n",
       "Dec Tree        0.872"
      ]
     },
     "execution_count": 56,
     "metadata": {},
     "output_type": "execute_result"
    }
   ],
   "source": [
    "metrics ={'accuracy': scores_list}\n",
    "cols = ['Log Reg','Dec Tree','Rand Forest','LGBM','CatBoost']\n",
    "pd.DataFrame(data=metrics, index=cols).sort_values(by='accuracy', ascending=False)"
   ]
  },
  {
   "cell_type": "markdown",
   "id": "67cd0475-9c8a-4f7f-8328-c56acca0d8b3",
   "metadata": {},
   "source": [
    "## Validation"
   ]
  },
  {
   "cell_type": "code",
   "execution_count": null,
   "id": "afda10f5-6998-4da5-ac6f-4861912f9836",
   "metadata": {},
   "outputs": [],
   "source": [
    "df_valid = pd.read_csv(PATH + 'validation.csv', index_col=0)\n",
    "df_valid.head()"
   ]
  },
  {
   "cell_type": "code",
   "execution_count": null,
   "id": "e8a64349-e81c-46d4-80d3-cf4ee22ca8d5",
   "metadata": {},
   "outputs": [],
   "source": [
    "valid_targets = pd.read_csv(PATH + 'validation_answer.csv', index_col=0)\n",
    "valid_targets.head()"
   ]
  },
  {
   "cell_type": "raw",
   "id": "ffeca868-747c-4d3a-9966-3cae0300be91",
   "metadata": {},
   "source": [
    "vecs, idx = (idx_l2.search(np.ascontiguousarray(df_valid.values).astype('float32'), 800))"
   ]
  },
  {
   "cell_type": "raw",
   "id": "fa2bdc7c-537a-425a-a7de-ac7a64779c1e",
   "metadata": {},
   "source": [
    "acc = 0\n",
    "idx_list_valid = np.zeros(len(valid_targets))\n",
    "n=0\n",
    "for target, el in zip(valid_targets.values.tolist(), idx.tolist()):\n",
    "    #acc += int(target in [base_index[r] for r in el])\n",
    "    #n  +=1\n",
    "    if target in [base_index[r] for r in el]:\n",
    "        idx_list_valid[n] = 1\n",
    "        acc +=1\n",
    "    n+=1\n",
    "        #y_train.append(el)\n",
    "print(100 * acc / len(idx))"
   ]
  },
  {
   "cell_type": "code",
   "execution_count": null,
   "id": "ddd4e581-2240-4304-83f1-0b93d126319c",
   "metadata": {},
   "outputs": [],
   "source": [
    "X_valid = df_valid.reset_index(drop=True)\n",
    "y_valid = idx_list_valid"
   ]
  },
  {
   "cell_type": "code",
   "execution_count": null,
   "id": "24ddbcf2-1f63-483c-b0d8-8b167211f6e4",
   "metadata": {},
   "outputs": [],
   "source": [
    "y_valid_pred = model.predict(X_valid)"
   ]
  },
  {
   "cell_type": "code",
   "execution_count": null,
   "id": "52f249b2-5ad1-4c58-b5e0-c5c3ebfe25c3",
   "metadata": {},
   "outputs": [],
   "source": [
    "y_valid_pred"
   ]
  },
  {
   "cell_type": "code",
   "execution_count": null,
   "id": "6394f6d8-f10e-4269-a868-1706f1737a0b",
   "metadata": {},
   "outputs": [],
   "source": []
  },
  {
   "cell_type": "code",
   "execution_count": null,
   "id": "a5fc1cab-54c2-4f17-9034-ce86d412497c",
   "metadata": {},
   "outputs": [],
   "source": []
  },
  {
   "cell_type": "code",
   "execution_count": null,
   "id": "cc3f8f1e-774a-4756-a2fc-2f19eb4215bc",
   "metadata": {},
   "outputs": [],
   "source": []
  },
  {
   "cell_type": "code",
   "execution_count": null,
   "id": "f0fedbf2-3a4f-45dc-8930-b988bc964267",
   "metadata": {},
   "outputs": [],
   "source": []
  },
  {
   "cell_type": "code",
   "execution_count": null,
   "id": "30463d5a-b587-4543-a8a7-c2fb08cfb8f5",
   "metadata": {},
   "outputs": [],
   "source": []
  },
  {
   "cell_type": "code",
   "execution_count": null,
   "id": "be158921-0164-4c51-891d-718455934114",
   "metadata": {},
   "outputs": [],
   "source": [
    "bb"
   ]
  }
 ],
 "metadata": {
  "kernelspec": {
   "display_name": "Python 3 (ipykernel)",
   "language": "python",
   "name": "python3"
  },
  "language_info": {
   "codemirror_mode": {
    "name": "ipython",
    "version": 3
   },
   "file_extension": ".py",
   "mimetype": "text/x-python",
   "name": "python",
   "nbconvert_exporter": "python",
   "pygments_lexer": "ipython3",
   "version": "3.10.6"
  }
 },
 "nbformat": 4,
 "nbformat_minor": 5
}
