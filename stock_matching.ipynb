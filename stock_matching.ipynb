{
 "cells": [
  {
   "cell_type": "code",
   "execution_count": 1,
   "id": "424e17cb-ae43-475d-bd00-a3bb36a51cb5",
   "metadata": {},
   "outputs": [],
   "source": [
    "import pandas as pd\n",
    "import numpy as np\n",
    "import faiss\n",
    "import time\n",
    "import matplotlib.pyplot as plt\n",
    "\n",
    "from tqdm.notebook import tqdm\n",
    "from sklearn.model_selection import train_test_split\n",
    "from sklearn.linear_model import LogisticRegression\n",
    "from sklearn.ensemble import RandomForestClassifier\n",
    "from sklearn.tree import DecisionTreeClassifier\n",
    "from sklearn.metrics import accuracy_score, precision_score\n",
    "from sklearn.utils.class_weight import compute_class_weight\n",
    "from sklearn.model_selection import GridSearchCV, cross_val_score\n",
    "from catboost import CatBoostClassifier\n",
    "import warnings\n",
    "import gc\n",
    "warnings.simplefilter(\"ignore\", UserWarning)\n",
    "\n",
    "\n",
    "PATH = '/home/maria_grig/projects/master/stock_matching/'"
   ]
  },
  {
   "cell_type": "raw",
   "id": "a827b84d-e9eb-4a32-ba5f-1790f1b329e3",
   "metadata": {},
   "source": [
    "import torch\n",
    "\n",
    "device = torch.device(\"cuda\")"
   ]
  },
  {
   "cell_type": "raw",
   "id": "c077f30c-6f45-47ae-a462-26cad6460986",
   "metadata": {},
   "source": [
    "device"
   ]
  },
  {
   "cell_type": "markdown",
   "id": "ea67f7f3-16eb-45e8-a14d-bd4814accf32",
   "metadata": {},
   "source": [
    "# Load data"
   ]
  },
  {
   "cell_type": "markdown",
   "id": "ad86b92e-6d1f-42ab-aaec-4b34f21021e2",
   "metadata": {},
   "source": [
    "## Base"
   ]
  },
  {
   "cell_type": "markdown",
   "id": "3eb9d043-5d0b-47b7-bff1-82395794b958",
   "metadata": {},
   "source": [
    "### Base dataset"
   ]
  },
  {
   "cell_type": "code",
   "execution_count": 2,
   "id": "9137b16a-b95a-4346-8e9c-252159558b82",
   "metadata": {
    "scrolled": true
   },
   "outputs": [],
   "source": [
    "df_base = pd.read_csv(PATH + 'base.csv', index_col=0)\n",
    "#df_base.head()"
   ]
  },
  {
   "cell_type": "raw",
   "id": "b72887ae-67eb-440a-9f7b-15357fe00c5f",
   "metadata": {
    "scrolled": true
   },
   "source": [
    "del df_base\n",
    "gc.collect()"
   ]
  },
  {
   "cell_type": "code",
   "execution_count": null,
   "id": "016849bc-423e-46b9-9c1d-70d1df10adc2",
   "metadata": {},
   "outputs": [],
   "source": []
  },
  {
   "cell_type": "markdown",
   "id": "08cb5ce5-8eb3-42cc-a2f7-ca1bba8d0a1d",
   "metadata": {},
   "source": [
    "### Create index"
   ]
  },
  {
   "cell_type": "code",
   "execution_count": 3,
   "id": "5fe65afd-28cf-41e4-93d4-0ffb27732a24",
   "metadata": {},
   "outputs": [],
   "source": [
    "dims = df_base.shape[1]\n",
    "n_cells = 20 # how many cells\n",
    "n_neigbours = 50\n",
    "quantizer = faiss.IndexFlatL2(dims)\n",
    "idx_l2 = faiss.IndexIVFFlat(quantizer, dims, n_cells)"
   ]
  },
  {
   "cell_type": "code",
   "execution_count": 4,
   "id": "69462702-b358-4d8f-b250-457d81ab86e0",
   "metadata": {},
   "outputs": [],
   "source": [
    "idx_l2.train(np.ascontiguousarray(df_base).astype('float32'))\n",
    "\n",
    "idx_l2.add(np.ascontiguousarray(df_base.values).astype('float32'))"
   ]
  },
  {
   "cell_type": "code",
   "execution_count": 5,
   "id": "d42af9e0-3f09-4b4c-a1a6-688387db17de",
   "metadata": {},
   "outputs": [],
   "source": [
    "base_index = {k: v for k, v in enumerate(df_base.index.to_list())}\n",
    "\n",
    "#del df_base"
   ]
  },
  {
   "cell_type": "raw",
   "id": "a9b92403-5502-4d78-a42e-e7be4d492ad9",
   "metadata": {},
   "source": []
  },
  {
   "cell_type": "markdown",
   "id": "fce1efd2-e243-4445-9dae-abd65e0b9cab",
   "metadata": {},
   "source": [
    "# Train"
   ]
  },
  {
   "cell_type": "code",
   "execution_count": 6,
   "id": "24a058e8-3140-40ff-93f3-9e0bf1a44c27",
   "metadata": {},
   "outputs": [],
   "source": [
    "df_train = pd.read_csv(PATH + 'train.csv', index_col=0)\n",
    "#df_train.head()\n"
   ]
  },
  {
   "cell_type": "code",
   "execution_count": 7,
   "id": "14a3a6b6-ebd6-4f53-b985-d554f31732ef",
   "metadata": {},
   "outputs": [],
   "source": [
    "targets = df_train[\"Target\"]\n",
    "df_train.drop(\"Target\", axis=1, inplace=True)"
   ]
  },
  {
   "cell_type": "code",
   "execution_count": 8,
   "id": "190c212e-0873-450f-b9c9-880aa27597b2",
   "metadata": {},
   "outputs": [],
   "source": [
    "idx_l2.nprobe\n",
    "idx_l2.nprobe = 5"
   ]
  },
  {
   "cell_type": "code",
   "execution_count": 9,
   "id": "5d0b4004-9939-47b7-a17f-8888a72aac50",
   "metadata": {},
   "outputs": [
    {
     "name": "stdout",
     "output_type": "stream",
     "text": [
      "search took 893.4275171756744\n"
     ]
    }
   ],
   "source": [
    "start = time.time()\n",
    "vecs, idx = idx_l2.search(np.ascontiguousarray(df_train.values).astype('float32'), n_neigbours)\n",
    "print('search took {}'.format(time.time() - start))"
   ]
  },
  {
   "cell_type": "raw",
   "id": "df3ed027-4591-411d-abf0-99b275c62418",
   "metadata": {},
   "source": [
    "base_index = {k: v for k, v in enumerate(df_base.index.to_list())}"
   ]
  },
  {
   "cell_type": "code",
   "execution_count": 10,
   "id": "abcafdad-5544-4ba7-9e35-349db7909621",
   "metadata": {},
   "outputs": [
    {
     "name": "stdout",
     "output_type": "stream",
     "text": [
      "search took 1.9366586208343506\n",
      "neighbours found: 16.817 %\n"
     ]
    }
   ],
   "source": [
    "start = time.time()\n",
    "\n",
    "acc = 0\n",
    "\n",
    "#dx_list = np.zeros(len(targets))\n",
    "#n=0\n",
    "for target, el in zip(targets.values.tolist(), idx.tolist()):\n",
    "    acc += int(target in [base_index[r] for r in el])\n",
    "\n",
    "    #n  +=1\n",
    "    #if target in [base_index[r] for r in el]:\n",
    "    #    idx_list[n] = 1\n",
    "    #    acc +=1\n",
    "    #n+=1\n",
    "        #y_train.append(el)\n",
    "print('search took {}'.format(time.time() - start))\n",
    "\n",
    "print('neighbours found: {} %'.format(100 * acc / len(idx)))"
   ]
  },
  {
   "cell_type": "raw",
   "id": "6ce06668-8d51-40a6-982f-4e43a3a670bc",
   "metadata": {},
   "source": [
    "len(idx_list)"
   ]
  },
  {
   "cell_type": "raw",
   "id": "5c48c210-fc7e-4f85-81c6-4c6ad66e487a",
   "metadata": {},
   "source": [
    "targets.values.tolist()[3453]"
   ]
  },
  {
   "cell_type": "raw",
   "id": "a5e4a6b9-fcc7-4e0f-aa4a-e5edba443300",
   "metadata": {},
   "source": []
  },
  {
   "cell_type": "code",
   "execution_count": null,
   "id": "b5709986-c804-4d8e-819e-e6a8b058dfd4",
   "metadata": {},
   "outputs": [],
   "source": []
  },
  {
   "cell_type": "code",
   "execution_count": 11,
   "id": "59cb958b-fd5a-4bf6-99c0-9c8dabcfcd29",
   "metadata": {},
   "outputs": [
    {
     "data": {
      "text/plain": [
       "0"
      ]
     },
     "execution_count": 11,
     "metadata": {},
     "output_type": "execute_result"
    }
   ],
   "source": [
    "gc.collect()"
   ]
  },
  {
   "cell_type": "code",
   "execution_count": 12,
   "id": "c9394bb3-f149-4679-9705-85dffa69c4ff",
   "metadata": {},
   "outputs": [],
   "source": [
    "base = np.array(df_base.reset_index(drop=True))\n",
    "train = np.array(df_train.reset_index(drop=True))"
   ]
  },
  {
   "cell_type": "code",
   "execution_count": 13,
   "id": "be1e9324-9fa0-4f3c-a2b9-bef9436f8f6b",
   "metadata": {},
   "outputs": [
    {
     "data": {
      "text/plain": [
       "0"
      ]
     },
     "execution_count": 13,
     "metadata": {},
     "output_type": "execute_result"
    }
   ],
   "source": [
    "del df_base\n",
    "gc.collect()\n",
    "del df_train\n",
    "gc.collect()"
   ]
  },
  {
   "cell_type": "markdown",
   "id": "fa88a9ba-506d-4d64-a025-ec0b88bdef47",
   "metadata": {},
   "source": [
    "## Train 1st model"
   ]
  },
  {
   "cell_type": "code",
   "execution_count": 14,
   "id": "dafb2d84-2b12-469d-b78e-2e0972a47b5c",
   "metadata": {},
   "outputs": [
    {
     "data": {
      "application/vnd.jupyter.widget-view+json": {
       "model_id": "fc26bc4f40474ee8bce3677ae73b687c",
       "version_major": 2,
       "version_minor": 0
      },
      "text/plain": [
       "  0%|          | 0/10000 [00:00<?, ?it/s]"
      ]
     },
     "metadata": {},
     "output_type": "display_data"
    }
   ],
   "source": [
    "df_list = []\n",
    "target_list = []\n",
    "for i in tqdm(range(10000)):\n",
    "    q = [train[i] for index in idx[i]]\n",
    "    p = [base[index] for index in idx[i]]\n",
    "    t = np.array([1 if base_index[index] == targets.values.tolist()[i] else 0 for index in idx[i]])\n",
    "    target_list.append(t)\n",
    "    df_list.append(np.concatenate((q, p), axis = 1)) \n",
    "    del q\n",
    "    del p\n",
    "    del t    "
   ]
  },
  {
   "cell_type": "code",
   "execution_count": 15,
   "id": "2706d73a-cf76-4eba-bbeb-e75ac750920e",
   "metadata": {},
   "outputs": [
    {
     "data": {
      "text/plain": [
       "0\n",
       "0    498292\n",
       "1      1708\n",
       "Name: count, dtype: int64"
      ]
     },
     "execution_count": 15,
     "metadata": {},
     "output_type": "execute_result"
    }
   ],
   "source": [
    "pd.DataFrame(np.concatenate(target_list))[0].value_counts()"
   ]
  },
  {
   "cell_type": "raw",
   "id": "e2d6cf51-144e-435e-8c9a-366973cbe85a",
   "metadata": {},
   "source": [
    "pd.DataFrame(np.concatenate(df_list))"
   ]
  },
  {
   "cell_type": "code",
   "execution_count": null,
   "id": "948dce34-4810-4d11-81b5-56b1c88d7854",
   "metadata": {},
   "outputs": [],
   "source": []
  },
  {
   "cell_type": "code",
   "execution_count": 16,
   "id": "81583e4e-4a69-4de1-97b4-c4cfd3bb58e5",
   "metadata": {},
   "outputs": [],
   "source": [
    "y = np.array(np.concatenate(target_list))\n",
    "X = np.array(np.concatenate(df_list))"
   ]
  },
  {
   "cell_type": "code",
   "execution_count": null,
   "id": "2e92b80c-7d93-4035-8600-fd27d7b5d1ac",
   "metadata": {},
   "outputs": [],
   "source": []
  },
  {
   "cell_type": "code",
   "execution_count": 17,
   "id": "fe3ec132-db7c-4691-92f5-4df1241d838d",
   "metadata": {},
   "outputs": [
    {
     "data": {
      "text/plain": [
       "0"
      ]
     },
     "execution_count": 17,
     "metadata": {},
     "output_type": "execute_result"
    }
   ],
   "source": [
    "del target\n",
    "gc.collect()\n",
    "del df_list\n",
    "gc.collect()"
   ]
  },
  {
   "cell_type": "code",
   "execution_count": 18,
   "id": "dfa59a4e-c3f6-42b6-8f30-79f895695744",
   "metadata": {},
   "outputs": [],
   "source": [
    "X_train, X_test, y_train, y_test = train_test_split(X, y, \n",
    "                                                    test_size=0.2,                         \n",
    "                                                    random_state=42,\n",
    "                                                   stratify=y)"
   ]
  },
  {
   "cell_type": "code",
   "execution_count": 19,
   "id": "5c71ad41-fe1e-4d08-a01c-bea1e5d80f9b",
   "metadata": {},
   "outputs": [
    {
     "name": "stdout",
     "output_type": "stream",
     "text": [
      "(400000, 144)\n",
      "(100000, 144)\n"
     ]
    }
   ],
   "source": [
    "print(X_train.shape)\n",
    "print(X_test.shape)"
   ]
  },
  {
   "cell_type": "code",
   "execution_count": null,
   "id": "680c6bc1-7084-4788-a429-c7e14149b858",
   "metadata": {},
   "outputs": [],
   "source": []
  },
  {
   "cell_type": "code",
   "execution_count": 20,
   "id": "997ac2e8-f851-4a35-b0a1-ac99bc67ee0b",
   "metadata": {},
   "outputs": [
    {
     "name": "stdout",
     "output_type": "stream",
     "text": [
      "Learning rate set to 0.13305\n",
      "0:\tlearn: 0.3870796\ttotal: 90ms\tremaining: 1m 29s\n",
      "200:\tlearn: 0.0030360\ttotal: 7.92s\tremaining: 31.5s\n",
      "400:\tlearn: 0.0018904\ttotal: 15.4s\tremaining: 23s\n",
      "600:\tlearn: 0.0013192\ttotal: 22.8s\tremaining: 15.1s\n",
      "800:\tlearn: 0.0009522\ttotal: 30.2s\tremaining: 7.51s\n",
      "999:\tlearn: 0.0007047\ttotal: 37.7s\tremaining: 0us\n"
     ]
    },
    {
     "data": {
      "text/plain": [
       "<catboost.core.CatBoostClassifier at 0x7f6354306350>"
      ]
     },
     "execution_count": 20,
     "metadata": {},
     "output_type": "execute_result"
    }
   ],
   "source": [
    "model = CatBoostClassifier(verbose=200)\n",
    "model.fit(X_train, y_train)"
   ]
  },
  {
   "cell_type": "code",
   "execution_count": 21,
   "id": "01eee781-bc8c-4ec6-86a8-1b39ce85b271",
   "metadata": {},
   "outputs": [
    {
     "data": {
      "text/plain": [
       "0.9214285714285714"
      ]
     },
     "execution_count": 21,
     "metadata": {},
     "output_type": "execute_result"
    }
   ],
   "source": [
    "pred = model.predict(X_test)\n",
    "precision_score(y_test, pred)"
   ]
  },
  {
   "cell_type": "code",
   "execution_count": 22,
   "id": "315c6ee9-9367-4716-9947-feaa3090bc79",
   "metadata": {},
   "outputs": [],
   "source": [
    "prob = model.predict_proba(X)[:, 1]"
   ]
  },
  {
   "cell_type": "raw",
   "id": "ed163a47-d3ec-4d01-90b6-a092919b0f3b",
   "metadata": {},
   "source": [
    "pd.DataFrame(prob[:, 1])"
   ]
  },
  {
   "cell_type": "raw",
   "id": "75387f25-5f08-47e1-9887-c634340d3e4a",
   "metadata": {},
   "source": [
    "pd.DataFrame(X)[3:6]"
   ]
  },
  {
   "cell_type": "code",
   "execution_count": null,
   "id": "382bca9a-023b-4e35-886b-fb669e137711",
   "metadata": {},
   "outputs": [],
   "source": [
    "X['prob'] = prob"
   ]
  },
  {
   "cell_type": "code",
   "execution_count": null,
   "id": "4fc5349f-84f4-44bd-96a9-12d98ee87dac",
   "metadata": {},
   "outputs": [],
   "source": [
    "for k in range((len(pred)// n_neigbours)):\n",
    "    print()\n",
    "    #print((prob[n_neigbours*k:n_neigbours*(k+1)][-5:]))\n",
    "    p = [p for p in (prob[n_neigbours*k:n_neigbours*(k+1)][-5:])]\n",
    "    #X = [x for x in (X.iloc[n_neigbours*k:n_neigbours*(k+1)][-5:])]\n",
    "    #print(X)"
   ]
  },
  {
   "cell_type": "raw",
   "id": "ecaf368d-2956-4122-b229-43c0c0ba99f6",
   "metadata": {},
   "source": [
    "del y"
   ]
  },
  {
   "cell_type": "raw",
   "id": "90a0f8a1-ae21-485f-be4e-ac21bee57e1e",
   "metadata": {},
   "source": []
  },
  {
   "cell_type": "code",
   "execution_count": null,
   "id": "4b58d48c-2ae5-48f9-bfba-9700fa91f4b0",
   "metadata": {},
   "outputs": [],
   "source": []
  },
  {
   "cell_type": "code",
   "execution_count": null,
   "id": "24de4dc4-981c-4b59-aca6-a7ce1217a090",
   "metadata": {},
   "outputs": [],
   "source": []
  },
  {
   "cell_type": "code",
   "execution_count": null,
   "id": "495adccc-c8da-47dd-b9fc-59d81737c1ae",
   "metadata": {},
   "outputs": [],
   "source": []
  },
  {
   "cell_type": "code",
   "execution_count": null,
   "id": "a3548d07-01b3-499b-8e78-1bd5be5d379e",
   "metadata": {},
   "outputs": [],
   "source": []
  },
  {
   "cell_type": "raw",
   "id": "91fed896-ecd5-4f3e-815c-8641e851a9a3",
   "metadata": {},
   "source": [
    "start = time.time()\n",
    "\n",
    "acc = 0\n",
    "idx_list = np.zeros(len(targets))\n",
    "n=0\n",
    "for target, el in zip(targets.values.tolist(), idx.tolist()):\n",
    "    #acc += int(target in [base_index[r] for r in el])\n",
    "    #n  +=1\n",
    "    if target in [base_index[r] for r in el]:\n",
    "        idx_list[n] = 1\n",
    "        acc +=1\n",
    "    n+=1\n",
    "        #y_train.append(el)\n",
    "print('search took {}'.format(time.time() - start))\n",
    "\n",
    "print('neighbours found: {} %'.format(100 * acc / len(idx)))\n",
    "el"
   ]
  },
  {
   "cell_type": "markdown",
   "id": "1f6ac056-1ddb-40cd-8597-0c4dd4da8682",
   "metadata": {},
   "source": []
  },
  {
   "cell_type": "raw",
   "id": "b1dcc943-76e3-4d15-a494-d0075d76a4fa",
   "metadata": {},
   "source": [
    "idx_listidx_list.tolist()"
   ]
  },
  {
   "cell_type": "code",
   "execution_count": null,
   "id": "1ed14b5d-59a2-44d2-858f-4d19d7afcd83",
   "metadata": {},
   "outputs": [],
   "source": [
    "plt.figure(figsize=(3,3))\n",
    "class_frequency = pd.Series(idx_list.astype(int)).value_counts(normalize=True)\n",
    "print(class_frequency)\n",
    "class_frequency.plot(kind='bar');  "
   ]
  },
  {
   "cell_type": "raw",
   "id": "af68c4f0-bf6d-4a5d-a57d-ce273c4dad71",
   "metadata": {},
   "source": [
    "X_train, X_test, y_train, y_test = train_test_split(df_train.reset_index(drop=True), pd.Series(idx_list.astype(int)), \n",
    "                                                    test_size=0.2, \n",
    "                                                    random_state=42,\n",
    "                                                   stratify=idx_list)\n",
    "print(X_train.shape)\n",
    "print(X_test.shape)"
   ]
  },
  {
   "cell_type": "markdown",
   "id": "de05e536-6db0-4a64-b1ab-384e26d40f9e",
   "metadata": {},
   "source": [
    "### Predictions & Metrics"
   ]
  },
  {
   "cell_type": "raw",
   "id": "a60665ad-6c54-4dc2-ab5c-0ac10eac6020",
   "metadata": {},
   "source": [
    "model = CatBoostClassifier(verbose=200, iterations=2000, depth=9)\n",
    "model.fit(X_train, y_train)\n",
    "pred = model.predict(X_test)\n",
    "accuracy_score(y_test, pred)"
   ]
  },
  {
   "cell_type": "code",
   "execution_count": null,
   "id": "634d27d1-5fd2-4b56-acd9-2c3833c6ca91",
   "metadata": {},
   "outputs": [],
   "source": [
    "scores_list = []"
   ]
  },
  {
   "cell_type": "code",
   "execution_count": null,
   "id": "2691c74e-bdc2-411a-b21e-4c965b022b20",
   "metadata": {},
   "outputs": [],
   "source": [
    "model_lr = LogisticRegression()\n",
    "scores_lr = cross_val_score(model_lr, df_train.reset_index(drop=True), \n",
    "                            pd.Series(idx_list.astype(int)), cv=4, scoring='accuracy')\n"
   ]
  },
  {
   "cell_type": "code",
   "execution_count": null,
   "id": "62276254-3063-403b-8de3-9f1904434ff9",
   "metadata": {},
   "outputs": [],
   "source": [
    "score = round(scores_lr.mean(),3)\n",
    "scores_list.append(score)\n",
    "score"
   ]
  },
  {
   "cell_type": "code",
   "execution_count": null,
   "id": "59af0f32-e78a-4c3f-9740-08be46dc3e42",
   "metadata": {},
   "outputs": [],
   "source": [
    "model_dt = DecisionTreeClassifier(max_depth=9, min_samples_leaf=5, min_samples_split=6)\n",
    "\n",
    "scores_dt = cross_val_score(model_dt, df_train.reset_index(drop=True), \n",
    "                            pd.Series(idx_list.astype(int)), cv=4, scoring='accuracy')\n"
   ]
  },
  {
   "cell_type": "code",
   "execution_count": null,
   "id": "6576da53-7157-4d6d-80e7-fbbbe0c53ab4",
   "metadata": {},
   "outputs": [],
   "source": [
    "score = round(scores_dt.mean(),3)\n",
    "scores_list.append(score)\n",
    "score"
   ]
  },
  {
   "cell_type": "code",
   "execution_count": null,
   "id": "28487a88-3b55-48e1-95ac-fea362e86607",
   "metadata": {},
   "outputs": [],
   "source": [
    "model_rf = RandomForestClassifier(n_estimators=25, max_depth=11, min_samples_split=8,min_samples_leaf=1)\n",
    "\n",
    "scores_rf = cross_val_score(model_rf, df_train.reset_index(drop=True), \n",
    "                            pd.Series(idx_list.astype(int)), cv=4, scoring='accuracy')\n"
   ]
  },
  {
   "cell_type": "code",
   "execution_count": null,
   "id": "38505107-04dd-4fd1-b75a-865ac44b2fdd",
   "metadata": {},
   "outputs": [],
   "source": [
    "score = round(scores_rf.mean(),3)\n",
    "scores_list.append(score)\n",
    "score"
   ]
  },
  {
   "cell_type": "code",
   "execution_count": null,
   "id": "051c967d-b548-4d1e-8446-f896e750cd3e",
   "metadata": {},
   "outputs": [],
   "source": [
    "model_lgbm = RandomForestClassifier(n_estimators=115, max_depth=10)\n",
    "\n",
    "scores_lgbm = cross_val_score(model_lgbm, df_train.reset_index(drop=True), \n",
    "                            pd.Series(idx_list.astype(int)), cv=4, scoring='accuracy')\n"
   ]
  },
  {
   "cell_type": "code",
   "execution_count": null,
   "id": "2fb20093-8169-4a4b-8e04-a8faa479e202",
   "metadata": {},
   "outputs": [],
   "source": [
    "score = round(scores_lgbm.mean(),3)\n",
    "scores_list.append(score)\n",
    "score"
   ]
  },
  {
   "cell_type": "code",
   "execution_count": null,
   "id": "e2c6fcba-c1d7-40e9-93d9-df076489974f",
   "metadata": {},
   "outputs": [],
   "source": []
  },
  {
   "cell_type": "code",
   "execution_count": null,
   "id": "0e82e050-6e17-4306-99e5-bdb5ee912d27",
   "metadata": {},
   "outputs": [],
   "source": [
    "model_cb = CatBoostClassifier(verbose=200, iterations=200, depth=3)\n",
    "\n",
    "scores_cb = cross_val_score(model_cb, df_train.reset_index(drop=True), \n",
    "                            pd.Series(idx_list.astype(int)), cv=4, scoring='accuracy')\n"
   ]
  },
  {
   "cell_type": "code",
   "execution_count": null,
   "id": "37dc3914-a5b3-4ad5-9436-69c6774fd104",
   "metadata": {},
   "outputs": [],
   "source": [
    "score = round(scores_cb.mean(),3)\n",
    "scores_list.append(score)\n",
    "score"
   ]
  },
  {
   "cell_type": "code",
   "execution_count": null,
   "id": "60f2b870-f7b4-410e-8899-375bb4e34e17",
   "metadata": {},
   "outputs": [],
   "source": [
    "scores_list"
   ]
  },
  {
   "cell_type": "code",
   "execution_count": null,
   "id": "01aeb570-4293-403d-94cc-9c3318a12159",
   "metadata": {},
   "outputs": [],
   "source": [
    "metrics ={'accuracy': scores_list}\n",
    "cols = ['Log Reg','Dec Tree','Rand Forest','LGBM','CatBoost']\n",
    "pd.DataFrame(data=metrics, index=cols).sort_values(by='accuracy', ascending=False)"
   ]
  },
  {
   "cell_type": "markdown",
   "id": "67cd0475-9c8a-4f7f-8328-c56acca0d8b3",
   "metadata": {},
   "source": [
    "## Validation"
   ]
  },
  {
   "cell_type": "code",
   "execution_count": null,
   "id": "afda10f5-6998-4da5-ac6f-4861912f9836",
   "metadata": {},
   "outputs": [],
   "source": [
    "df_valid = pd.read_csv(PATH + 'validation.csv', index_col=0)\n",
    "df_valid.head()"
   ]
  },
  {
   "cell_type": "code",
   "execution_count": null,
   "id": "e8a64349-e81c-46d4-80d3-cf4ee22ca8d5",
   "metadata": {},
   "outputs": [],
   "source": [
    "valid_targets = pd.read_csv(PATH + 'validation_answer.csv', index_col=0)\n",
    "valid_targets.head()"
   ]
  },
  {
   "cell_type": "code",
   "execution_count": null,
   "id": "8119cd6f-baa6-4d7e-b64a-779ea735642a",
   "metadata": {},
   "outputs": [],
   "source": [
    "dims = df_base.shape[1]\n",
    "n_cells = 7 # how many cells\n",
    "quantizer = faiss.IndexFlatL2(dims)\n",
    "idx_l2 = faiss.IndexIVFFlat(quantizer, dims, n_cells)"
   ]
  },
  {
   "cell_type": "code",
   "execution_count": null,
   "id": "885250b5-dd41-47cd-ba54-a079be283d8f",
   "metadata": {},
   "outputs": [],
   "source": [
    "idx_l2.train(np.ascontiguousarray(df_base).astype('float32'))\n",
    "\n",
    "idx_l2.add(np.ascontiguousarray(df_base.values).astype('float32'))"
   ]
  },
  {
   "cell_type": "code",
   "execution_count": null,
   "id": "4bf01ef0-66c0-4b23-8d6c-242a0ac3de62",
   "metadata": {},
   "outputs": [],
   "source": [
    "base_index = {k: v for k, v in enumerate(df_base.index.to_list())}"
   ]
  },
  {
   "cell_type": "code",
   "execution_count": null,
   "id": "79b53a26-00ae-4797-86af-3488be46c8ea",
   "metadata": {},
   "outputs": [],
   "source": [
    "start = time.time()\n",
    "vecs, idx = idx_l2.search(np.ascontiguousarray(df_valid.values).astype('float32'), n_neigbours)\n",
    "print('search took {}'.format(time.time() - start))"
   ]
  },
  {
   "cell_type": "code",
   "execution_count": null,
   "id": "c5c1a697-edf8-44e3-b150-eeb94db23cfc",
   "metadata": {},
   "outputs": [],
   "source": [
    "vecs"
   ]
  },
  {
   "cell_type": "code",
   "execution_count": null,
   "id": "f3fde81f-2fc6-4b67-a892-390c494609df",
   "metadata": {},
   "outputs": [],
   "source": [
    "idx"
   ]
  },
  {
   "cell_type": "code",
   "execution_count": null,
   "id": "4b33b2e3-8e9f-4a24-8c77-8b384e0aa196",
   "metadata": {},
   "outputs": [],
   "source": [
    "start = time.time()\n",
    "acc = 0\n",
    "\n",
    "idx_list_valid = np.zeros(len(valid_targets))\n",
    "n=0\n",
    "for target, el in zip(valid_targets.values.tolist(), idx.tolist()):\n",
    "    #acc += int(target in [base_index[r] for r in el])\n",
    "    #n  +=1\n",
    "    if target in [base_index[r] for r in el]:\n",
    "        idx_list_valid[n] = 1\n",
    "        acc +=1\n",
    "    n+=1\n",
    "        #y_train.append(el)\n",
    "print('search took {}'.format(time.time() - start))\n",
    "\n",
    "print('neighbours found: {} %'.format(100 * acc / len(idx)))"
   ]
  },
  {
   "cell_type": "code",
   "execution_count": null,
   "id": "ddd4e581-2240-4304-83f1-0b93d126319c",
   "metadata": {},
   "outputs": [],
   "source": [
    "X_valid = df_valid.reset_index(drop=True)\n",
    "y_valid = idx_list_valid"
   ]
  },
  {
   "cell_type": "code",
   "execution_count": null,
   "id": "774418ed-f71d-4d90-94d3-f14a4e0d344d",
   "metadata": {},
   "outputs": [],
   "source": [
    "model_cb.fit(df_train.reset_index(drop=True), \n",
    "                            pd.Series(idx_list.astype(int)))"
   ]
  },
  {
   "cell_type": "code",
   "execution_count": null,
   "id": "24ddbcf2-1f63-483c-b0d8-8b167211f6e4",
   "metadata": {},
   "outputs": [],
   "source": [
    "y_valid_pred = model_cb.predict(X_valid)"
   ]
  },
  {
   "cell_type": "code",
   "execution_count": null,
   "id": "52f249b2-5ad1-4c58-b5e0-c5c3ebfe25c3",
   "metadata": {},
   "outputs": [],
   "source": [
    "y_valid_pred"
   ]
  },
  {
   "cell_type": "code",
   "execution_count": null,
   "id": "6394f6d8-f10e-4269-a868-1706f1737a0b",
   "metadata": {},
   "outputs": [],
   "source": [
    "pd.Series(y_valid_pred.astype(int)).unique()"
   ]
  },
  {
   "cell_type": "code",
   "execution_count": null,
   "id": "a5fc1cab-54c2-4f17-9034-ce86d412497c",
   "metadata": {},
   "outputs": [],
   "source": [
    "plt.figure(figsize=(3,3))\n",
    "class_frequency = pd.Series(y_valid_pred.astype(int)).value_counts(normalize=True)\n",
    "print(class_frequency)\n",
    "class_frequency.plot(kind='bar');  "
   ]
  },
  {
   "cell_type": "code",
   "execution_count": null,
   "id": "cc3f8f1e-774a-4756-a2fc-2f19eb4215bc",
   "metadata": {},
   "outputs": [],
   "source": []
  },
  {
   "cell_type": "code",
   "execution_count": null,
   "id": "f0fedbf2-3a4f-45dc-8930-b988bc964267",
   "metadata": {},
   "outputs": [],
   "source": []
  },
  {
   "cell_type": "code",
   "execution_count": null,
   "id": "30463d5a-b587-4543-a8a7-c2fb08cfb8f5",
   "metadata": {},
   "outputs": [],
   "source": []
  },
  {
   "cell_type": "code",
   "execution_count": null,
   "id": "be158921-0164-4c51-891d-718455934114",
   "metadata": {},
   "outputs": [],
   "source": [
    "bb"
   ]
  }
 ],
 "metadata": {
  "kernelspec": {
   "display_name": "Python 3 (ipykernel)",
   "language": "python",
   "name": "python3"
  },
  "language_info": {
   "codemirror_mode": {
    "name": "ipython",
    "version": 3
   },
   "file_extension": ".py",
   "mimetype": "text/x-python",
   "name": "python",
   "nbconvert_exporter": "python",
   "pygments_lexer": "ipython3",
   "version": "3.10.6"
  }
 },
 "nbformat": 4,
 "nbformat_minor": 5
}
